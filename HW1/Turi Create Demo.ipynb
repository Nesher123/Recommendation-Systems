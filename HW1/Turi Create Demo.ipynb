{
 "cells": [
  {
   "cell_type": "code",
   "execution_count": 1,
   "metadata": {
    "colab": {
     "base_uri": "https://localhost:8080/"
    },
    "executionInfo": {
     "elapsed": 57522,
     "status": "ok",
     "timestamp": 1606460122646,
     "user": {
      "displayName": "Asnat Messica Greenst",
      "photoUrl": "",
      "userId": "14949188109355979794"
     },
     "user_tz": -120
    },
    "id": "nrX91H1Zwtlk",
    "outputId": "99b8766b-0f13-4433-c194-6f711d34179b"
   },
   "outputs": [
    {
     "name": "stdout",
     "output_type": "stream",
     "text": [
      "Collecting turicreate\n",
      "\u001b[?25l  Downloading https://files.pythonhosted.org/packages/ea/63/00ef7586c56a1aa48a7acabe20e1118cd82794785a56137e190fc6fb049c/turicreate-6.4.1-cp36-cp36m-manylinux1_x86_64.whl (92.0MB)\n",
      "\u001b[K     |████████████████████████████████| 92.0MB 110kB/s \n",
      "\u001b[?25hCollecting tensorflow<2.1.0,>=2.0.0\n",
      "\u001b[?25l  Downloading https://files.pythonhosted.org/packages/87/5e/254f5baeb331a7c9065b796d786cd07c5db79f2d76a496b74891a6521e25/tensorflow-2.0.3-cp36-cp36m-manylinux2010_x86_64.whl (86.4MB)\n",
      "\u001b[K     |████████████████████████████████| 86.4MB 48kB/s \n",
      "\u001b[?25hRequirement already satisfied, skipping upgrade: pandas>=0.23.2 in /usr/local/lib/python3.6/dist-packages (from turicreate) (1.1.4)\n",
      "Collecting resampy==0.2.1\n",
      "\u001b[?25l  Downloading https://files.pythonhosted.org/packages/14/b6/66a06d85474190b50aee1a6c09cdc95bb405ac47338b27e9b21409da1760/resampy-0.2.1.tar.gz (322kB)\n",
      "\u001b[K     |████████████████████████████████| 327kB 46.6MB/s \n",
      "\u001b[?25hRequirement already satisfied, skipping upgrade: scipy>=1.1.0 in /usr/local/lib/python3.6/dist-packages (from turicreate) (1.4.1)\n",
      "Collecting prettytable==0.7.2\n",
      "  Downloading https://files.pythonhosted.org/packages/ef/30/4b0746848746ed5941f052479e7c23d2b56d174b82f4fd34a25e389831f5/prettytable-0.7.2.tar.bz2\n",
      "Requirement already satisfied, skipping upgrade: numba<0.51.0 in /usr/local/lib/python3.6/dist-packages (from turicreate) (0.48.0)\n",
      "Collecting coremltools==3.3\n",
      "\u001b[?25l  Downloading https://files.pythonhosted.org/packages/77/19/611916d1ef326d38857d93af5ba184f6ad7491642e0fa4f9082e7d82f034/coremltools-3.3-cp36-none-manylinux1_x86_64.whl (3.4MB)\n",
      "\u001b[K     |████████████████████████████████| 3.4MB 38.2MB/s \n",
      "\u001b[?25hRequirement already satisfied, skipping upgrade: decorator>=4.0.9 in /usr/local/lib/python3.6/dist-packages (from turicreate) (4.4.2)\n",
      "Requirement already satisfied, skipping upgrade: requests>=2.9.1 in /usr/local/lib/python3.6/dist-packages (from turicreate) (2.23.0)\n",
      "Requirement already satisfied, skipping upgrade: pillow>=5.2.0 in /usr/local/lib/python3.6/dist-packages (from turicreate) (7.0.0)\n",
      "Requirement already satisfied, skipping upgrade: numpy in /usr/local/lib/python3.6/dist-packages (from turicreate) (1.18.5)\n",
      "Requirement already satisfied, skipping upgrade: six>=1.10.0 in /usr/local/lib/python3.6/dist-packages (from turicreate) (1.15.0)\n",
      "Requirement already satisfied, skipping upgrade: grpcio>=1.8.6 in /usr/local/lib/python3.6/dist-packages (from tensorflow<2.1.0,>=2.0.0->turicreate) (1.33.2)\n",
      "Requirement already satisfied, skipping upgrade: keras-preprocessing>=1.0.5 in /usr/local/lib/python3.6/dist-packages (from tensorflow<2.1.0,>=2.0.0->turicreate) (1.1.2)\n",
      "Collecting tensorboard<2.1.0,>=2.0.0\n",
      "\u001b[?25l  Downloading https://files.pythonhosted.org/packages/76/54/99b9d5d52d5cb732f099baaaf7740403e83fe6b0cedde940fabd2b13d75a/tensorboard-2.0.2-py3-none-any.whl (3.8MB)\n",
      "\u001b[K     |████████████████████████████████| 3.8MB 40.0MB/s \n",
      "\u001b[?25hCollecting tensorflow-estimator<2.1.0,>=2.0.0\n",
      "\u001b[?25l  Downloading https://files.pythonhosted.org/packages/fc/08/8b927337b7019c374719145d1dceba21a8bb909b93b1ad6f8fb7d22c1ca1/tensorflow_estimator-2.0.1-py2.py3-none-any.whl (449kB)\n",
      "\u001b[K     |████████████████████████████████| 450kB 52.7MB/s \n",
      "\u001b[?25hRequirement already satisfied, skipping upgrade: wrapt>=1.11.1 in /usr/local/lib/python3.6/dist-packages (from tensorflow<2.1.0,>=2.0.0->turicreate) (1.12.1)\n",
      "Requirement already satisfied, skipping upgrade: termcolor>=1.1.0 in /usr/local/lib/python3.6/dist-packages (from tensorflow<2.1.0,>=2.0.0->turicreate) (1.1.0)\n",
      "Requirement already satisfied, skipping upgrade: astor>=0.6.0 in /usr/local/lib/python3.6/dist-packages (from tensorflow<2.1.0,>=2.0.0->turicreate) (0.8.1)\n",
      "Requirement already satisfied, skipping upgrade: google-pasta>=0.1.6 in /usr/local/lib/python3.6/dist-packages (from tensorflow<2.1.0,>=2.0.0->turicreate) (0.2.0)\n",
      "Requirement already satisfied, skipping upgrade: opt-einsum>=2.3.2 in /usr/local/lib/python3.6/dist-packages (from tensorflow<2.1.0,>=2.0.0->turicreate) (3.3.0)\n",
      "Requirement already satisfied, skipping upgrade: protobuf>=3.6.1 in /usr/local/lib/python3.6/dist-packages (from tensorflow<2.1.0,>=2.0.0->turicreate) (3.12.4)\n",
      "Requirement already satisfied, skipping upgrade: wheel>=0.26; python_version >= \"3\" in /usr/local/lib/python3.6/dist-packages (from tensorflow<2.1.0,>=2.0.0->turicreate) (0.35.1)\n",
      "Collecting keras-applications>=1.0.8\n",
      "\u001b[?25l  Downloading https://files.pythonhosted.org/packages/71/e3/19762fdfc62877ae9102edf6342d71b28fbfd9dea3d2f96a882ce099b03f/Keras_Applications-1.0.8-py3-none-any.whl (50kB)\n",
      "\u001b[K     |████████████████████████████████| 51kB 6.9MB/s \n",
      "\u001b[?25hRequirement already satisfied, skipping upgrade: absl-py>=0.7.0 in /usr/local/lib/python3.6/dist-packages (from tensorflow<2.1.0,>=2.0.0->turicreate) (0.10.0)\n",
      "Collecting gast==0.2.2\n",
      "  Downloading https://files.pythonhosted.org/packages/4e/35/11749bf99b2d4e3cceb4d55ca22590b0d7c2c62b9de38ac4a4a7f4687421/gast-0.2.2.tar.gz\n",
      "Requirement already satisfied, skipping upgrade: python-dateutil>=2.7.3 in /usr/local/lib/python3.6/dist-packages (from pandas>=0.23.2->turicreate) (2.8.1)\n",
      "Requirement already satisfied, skipping upgrade: pytz>=2017.2 in /usr/local/lib/python3.6/dist-packages (from pandas>=0.23.2->turicreate) (2018.9)\n",
      "Requirement already satisfied, skipping upgrade: llvmlite<0.32.0,>=0.31.0dev0 in /usr/local/lib/python3.6/dist-packages (from numba<0.51.0->turicreate) (0.31.0)\n",
      "Requirement already satisfied, skipping upgrade: setuptools in /usr/local/lib/python3.6/dist-packages (from numba<0.51.0->turicreate) (50.3.2)\n",
      "Requirement already satisfied, skipping upgrade: idna<3,>=2.5 in /usr/local/lib/python3.6/dist-packages (from requests>=2.9.1->turicreate) (2.10)\n",
      "Requirement already satisfied, skipping upgrade: chardet<4,>=3.0.2 in /usr/local/lib/python3.6/dist-packages (from requests>=2.9.1->turicreate) (3.0.4)\n",
      "Requirement already satisfied, skipping upgrade: certifi>=2017.4.17 in /usr/local/lib/python3.6/dist-packages (from requests>=2.9.1->turicreate) (2020.11.8)\n",
      "Requirement already satisfied, skipping upgrade: urllib3!=1.25.0,!=1.25.1,<1.26,>=1.21.1 in /usr/local/lib/python3.6/dist-packages (from requests>=2.9.1->turicreate) (1.24.3)\n",
      "Requirement already satisfied, skipping upgrade: google-auth-oauthlib<0.5,>=0.4.1 in /usr/local/lib/python3.6/dist-packages (from tensorboard<2.1.0,>=2.0.0->tensorflow<2.1.0,>=2.0.0->turicreate) (0.4.2)\n",
      "Requirement already satisfied, skipping upgrade: markdown>=2.6.8 in /usr/local/lib/python3.6/dist-packages (from tensorboard<2.1.0,>=2.0.0->tensorflow<2.1.0,>=2.0.0->turicreate) (3.3.3)\n",
      "Requirement already satisfied, skipping upgrade: google-auth<2,>=1.6.3 in /usr/local/lib/python3.6/dist-packages (from tensorboard<2.1.0,>=2.0.0->tensorflow<2.1.0,>=2.0.0->turicreate) (1.17.2)\n",
      "Requirement already satisfied, skipping upgrade: werkzeug>=0.11.15 in /usr/local/lib/python3.6/dist-packages (from tensorboard<2.1.0,>=2.0.0->tensorflow<2.1.0,>=2.0.0->turicreate) (1.0.1)\n",
      "Requirement already satisfied, skipping upgrade: h5py in /usr/local/lib/python3.6/dist-packages (from keras-applications>=1.0.8->tensorflow<2.1.0,>=2.0.0->turicreate) (2.10.0)\n",
      "Requirement already satisfied, skipping upgrade: requests-oauthlib>=0.7.0 in /usr/local/lib/python3.6/dist-packages (from google-auth-oauthlib<0.5,>=0.4.1->tensorboard<2.1.0,>=2.0.0->tensorflow<2.1.0,>=2.0.0->turicreate) (1.3.0)\n",
      "Requirement already satisfied, skipping upgrade: importlib-metadata; python_version < \"3.8\" in /usr/local/lib/python3.6/dist-packages (from markdown>=2.6.8->tensorboard<2.1.0,>=2.0.0->tensorflow<2.1.0,>=2.0.0->turicreate) (2.0.0)\n",
      "Requirement already satisfied, skipping upgrade: rsa<5,>=3.1.4; python_version >= \"3\" in /usr/local/lib/python3.6/dist-packages (from google-auth<2,>=1.6.3->tensorboard<2.1.0,>=2.0.0->tensorflow<2.1.0,>=2.0.0->turicreate) (4.6)\n",
      "Requirement already satisfied, skipping upgrade: pyasn1-modules>=0.2.1 in /usr/local/lib/python3.6/dist-packages (from google-auth<2,>=1.6.3->tensorboard<2.1.0,>=2.0.0->tensorflow<2.1.0,>=2.0.0->turicreate) (0.2.8)\n",
      "Requirement already satisfied, skipping upgrade: cachetools<5.0,>=2.0.0 in /usr/local/lib/python3.6/dist-packages (from google-auth<2,>=1.6.3->tensorboard<2.1.0,>=2.0.0->tensorflow<2.1.0,>=2.0.0->turicreate) (4.1.1)\n",
      "Requirement already satisfied, skipping upgrade: oauthlib>=3.0.0 in /usr/local/lib/python3.6/dist-packages (from requests-oauthlib>=0.7.0->google-auth-oauthlib<0.5,>=0.4.1->tensorboard<2.1.0,>=2.0.0->tensorflow<2.1.0,>=2.0.0->turicreate) (3.1.0)\n",
      "Requirement already satisfied, skipping upgrade: zipp>=0.5 in /usr/local/lib/python3.6/dist-packages (from importlib-metadata; python_version < \"3.8\"->markdown>=2.6.8->tensorboard<2.1.0,>=2.0.0->tensorflow<2.1.0,>=2.0.0->turicreate) (3.4.0)\n",
      "Requirement already satisfied, skipping upgrade: pyasn1>=0.1.3 in /usr/local/lib/python3.6/dist-packages (from rsa<5,>=3.1.4; python_version >= \"3\"->google-auth<2,>=1.6.3->tensorboard<2.1.0,>=2.0.0->tensorflow<2.1.0,>=2.0.0->turicreate) (0.4.8)\n",
      "Building wheels for collected packages: resampy, prettytable, gast\n",
      "  Building wheel for resampy (setup.py) ... \u001b[?25l\u001b[?25hdone\n",
      "  Created wheel for resampy: filename=resampy-0.2.1-cp36-none-any.whl size=320848 sha256=d0c503bf6c54526f8090d53d4006cf20f0715ec164c405f89489f94309201062\n",
      "  Stored in directory: /root/.cache/pip/wheels/ff/4f/ed/2e6c676c23efe5394bb40ade50662e90eb46e29b48324c5f9b\n",
      "  Building wheel for prettytable (setup.py) ... \u001b[?25l\u001b[?25hdone\n",
      "  Created wheel for prettytable: filename=prettytable-0.7.2-cp36-none-any.whl size=13700 sha256=1a01fef7595a83314e8b83f874e8616cf4ce114226ecd008b0a668044c637c5c\n",
      "  Stored in directory: /root/.cache/pip/wheels/80/34/1c/3967380d9676d162cb59513bd9dc862d0584e045a162095606\n",
      "  Building wheel for gast (setup.py) ... \u001b[?25l\u001b[?25hdone\n",
      "  Created wheel for gast: filename=gast-0.2.2-cp36-none-any.whl size=7542 sha256=a8f2c48f74952906c5e3db5a4ad15624785fa6505befbd29b606f0c132d9ff63\n",
      "  Stored in directory: /root/.cache/pip/wheels/5c/2e/7e/a1d4d4fcebe6c381f378ce7743a3ced3699feb89bcfbdadadd\n",
      "Successfully built resampy prettytable gast\n",
      "\u001b[31mERROR: tensorflow-probability 0.11.0 has requirement gast>=0.3.2, but you'll have gast 0.2.2 which is incompatible.\u001b[0m\n",
      "Installing collected packages: tensorboard, tensorflow-estimator, keras-applications, gast, tensorflow, resampy, prettytable, coremltools, turicreate\n",
      "  Found existing installation: tensorboard 2.3.0\n",
      "    Uninstalling tensorboard-2.3.0:\n",
      "      Successfully uninstalled tensorboard-2.3.0\n",
      "  Found existing installation: tensorflow-estimator 2.3.0\n",
      "    Uninstalling tensorflow-estimator-2.3.0:\n",
      "      Successfully uninstalled tensorflow-estimator-2.3.0\n",
      "  Found existing installation: gast 0.3.3\n",
      "    Uninstalling gast-0.3.3:\n",
      "      Successfully uninstalled gast-0.3.3\n",
      "  Found existing installation: tensorflow 2.3.0\n",
      "    Uninstalling tensorflow-2.3.0:\n",
      "      Successfully uninstalled tensorflow-2.3.0\n",
      "  Found existing installation: resampy 0.2.2\n",
      "    Uninstalling resampy-0.2.2:\n",
      "      Successfully uninstalled resampy-0.2.2\n",
      "  Found existing installation: prettytable 2.0.0\n",
      "    Uninstalling prettytable-2.0.0:\n",
      "      Successfully uninstalled prettytable-2.0.0\n",
      "Successfully installed coremltools-3.3 gast-0.2.2 keras-applications-1.0.8 prettytable-0.7.2 resampy-0.2.1 tensorboard-2.0.2 tensorflow-2.0.3 tensorflow-estimator-2.0.1 turicreate-6.4.1\n"
     ]
    }
   ],
   "source": [
    "#pip install turicreate\n",
    "!pip install -U turicreate"
   ]
  },
  {
   "cell_type": "code",
   "execution_count": 2,
   "metadata": {
    "executionInfo": {
     "elapsed": 2602,
     "status": "ok",
     "timestamp": 1605857687990,
     "user": {
      "displayName": "Asnat Messica Greenst",
      "photoUrl": "",
      "userId": "14949188109355979794"
     },
     "user_tz": -120
    },
    "id": "3xF1b9-1049M"
   },
   "outputs": [],
   "source": [
    "from os import path\n",
    "import turicreate as tc\n",
    "from datetime import datetime"
   ]
  },
  {
   "cell_type": "code",
   "execution_count": 3,
   "metadata": {
    "executionInfo": {
     "elapsed": 1394,
     "status": "ok",
     "timestamp": 1605857691011,
     "user": {
      "displayName": "Asnat Messica Greenst",
      "photoUrl": "",
      "userId": "14949188109355979794"
     },
     "user_tz": -120
    },
    "id": "PD9PIjSRzYgD"
   },
   "outputs": [],
   "source": [
    "import turicreate as tc"
   ]
  },
  {
   "cell_type": "markdown",
   "metadata": {
    "id": "ZXwfIdNN049R"
   },
   "source": [
    "`<h1> Load Data </h1> MovieLens dataset collected by the GroupLens Research Project at the University of Minnesota. For more information, see http://grouplens.org/datasets/movielens/"
   ]
  },
  {
   "cell_type": "code",
   "execution_count": 4,
   "metadata": {
    "colab": {
     "base_uri": "https://localhost:8080/",
     "height": 218
    },
    "executionInfo": {
     "elapsed": 10184,
     "status": "ok",
     "timestamp": 1605857705664,
     "user": {
      "displayName": "Asnat Messica Greenst",
      "photoUrl": "",
      "userId": "14949188109355979794"
     },
     "user_tz": -120
    },
    "id": "7LUIRdrj-i2F",
    "outputId": "c9ebfb71-16c3-486b-bd2b-2074d456066e"
   },
   "outputs": [
    {
     "data": {
      "text/html": [
       "<pre>Finished parsing file /content/ratings.csv</pre>"
      ],
      "text/plain": [
       "Finished parsing file /content/ratings.csv"
      ]
     },
     "metadata": {
      "tags": []
     },
     "output_type": "display_data"
    },
    {
     "data": {
      "text/html": [
       "<pre>Parsing completed. Parsed 100 lines in 1.63401 secs.</pre>"
      ],
      "text/plain": [
       "Parsing completed. Parsed 100 lines in 1.63401 secs."
      ]
     },
     "metadata": {
      "tags": []
     },
     "output_type": "display_data"
    },
    {
     "name": "stdout",
     "output_type": "stream",
     "text": [
      "------------------------------------------------------\n",
      "Inferred types from first 100 line(s) of file as \n",
      "column_type_hints=[int,int,float,int]\n",
      "If parsing fails due to incorrect types, you can correct\n",
      "the inferred type list above and pass it to read_csv in\n",
      "the column_type_hints argument\n",
      "------------------------------------------------------\n"
     ]
    },
    {
     "data": {
      "text/html": [
       "<pre>Read 2042753 lines. Lines per second: 763127</pre>"
      ],
      "text/plain": [
       "Read 2042753 lines. Lines per second: 763127"
      ]
     },
     "metadata": {
      "tags": []
     },
     "output_type": "display_data"
    },
    {
     "data": {
      "text/html": [
       "<pre>Finished parsing file /content/ratings.csv</pre>"
      ],
      "text/plain": [
       "Finished parsing file /content/ratings.csv"
      ]
     },
     "metadata": {
      "tags": []
     },
     "output_type": "display_data"
    },
    {
     "data": {
      "text/html": [
       "<pre>Parsing completed. Parsed 8534968 lines in 5.81642 secs.</pre>"
      ],
      "text/plain": [
       "Parsing completed. Parsed 8534968 lines in 5.81642 secs."
      ]
     },
     "metadata": {
      "tags": []
     },
     "output_type": "display_data"
    }
   ],
   "source": [
    "#uploaded_rating = files.upload()\n",
    "actions = tc.SFrame.read_csv('ratings.csv')"
   ]
  },
  {
   "cell_type": "code",
   "execution_count": 5,
   "metadata": {
    "colab": {
     "base_uri": "https://localhost:8080/",
     "height": 202
    },
    "executionInfo": {
     "elapsed": 2495,
     "status": "ok",
     "timestamp": 1605857710929,
     "user": {
      "displayName": "Asnat Messica Greenst",
      "photoUrl": "",
      "userId": "14949188109355979794"
     },
     "user_tz": -120
    },
    "id": "IzGoVlfAzJ_0",
    "outputId": "e231a117-ce3b-4597-8925-9d668c80f024"
   },
   "outputs": [
    {
     "data": {
      "text/html": [
       "<pre>Finished parsing file /content/movies.csv</pre>"
      ],
      "text/plain": [
       "Finished parsing file /content/movies.csv"
      ]
     },
     "metadata": {
      "tags": []
     },
     "output_type": "display_data"
    },
    {
     "data": {
      "text/html": [
       "<pre>Parsing completed. Parsed 100 lines in 0.088744 secs.</pre>"
      ],
      "text/plain": [
       "Parsing completed. Parsed 100 lines in 0.088744 secs."
      ]
     },
     "metadata": {
      "tags": []
     },
     "output_type": "display_data"
    },
    {
     "name": "stdout",
     "output_type": "stream",
     "text": [
      "------------------------------------------------------\n",
      "Inferred types from first 100 line(s) of file as \n",
      "column_type_hints=[int,str,str]\n",
      "If parsing fails due to incorrect types, you can correct\n",
      "the inferred type list above and pass it to read_csv in\n",
      "the column_type_hints argument\n",
      "------------------------------------------------------\n"
     ]
    },
    {
     "data": {
      "text/html": [
       "<pre>Finished parsing file /content/movies.csv</pre>"
      ],
      "text/plain": [
       "Finished parsing file /content/movies.csv"
      ]
     },
     "metadata": {
      "tags": []
     },
     "output_type": "display_data"
    },
    {
     "data": {
      "text/html": [
       "<pre>Parsing completed. Parsed 27278 lines in 0.046241 secs.</pre>"
      ],
      "text/plain": [
       "Parsing completed. Parsed 27278 lines in 0.046241 secs."
      ]
     },
     "metadata": {
      "tags": []
     },
     "output_type": "display_data"
    }
   ],
   "source": [
    "# Table of movies we are recommending: movieId, title, genres\n",
    "items = tc.SFrame.read_csv('movies.csv')"
   ]
  },
  {
   "cell_type": "code",
   "execution_count": 6,
   "metadata": {
    "colab": {
     "base_uri": "https://localhost:8080/",
     "height": 238
    },
    "executionInfo": {
     "elapsed": 3210,
     "status": "ok",
     "timestamp": 1605857715122,
     "user": {
      "displayName": "Asnat Messica Greenst",
      "photoUrl": "",
      "userId": "14949188109355979794"
     },
     "user_tz": -120
    },
    "id": "Rv_y59GZ9vTD",
    "outputId": "50c7be21-6c40-4c73-8a61-e855f1753ebb"
   },
   "outputs": [
    {
     "data": {
      "text/html": [
       "<div style=\"max-height:1000px;max-width:1500px;overflow:auto;\"><table frame=\"box\" rules=\"cols\">\n",
       "    <tr>\n",
       "        <th style=\"padding-left: 1em; padding-right: 1em; text-align: center\">userId</th>\n",
       "        <th style=\"padding-left: 1em; padding-right: 1em; text-align: center\">movieId</th>\n",
       "        <th style=\"padding-left: 1em; padding-right: 1em; text-align: center\">rating</th>\n",
       "        <th style=\"padding-left: 1em; padding-right: 1em; text-align: center\">timestamp</th>\n",
       "    </tr>\n",
       "    <tr>\n",
       "        <td style=\"padding-left: 1em; padding-right: 1em; text-align: center; vertical-align: top\">1</td>\n",
       "        <td style=\"padding-left: 1em; padding-right: 1em; text-align: center; vertical-align: top\">2</td>\n",
       "        <td style=\"padding-left: 1em; padding-right: 1em; text-align: center; vertical-align: top\">3.5</td>\n",
       "        <td style=\"padding-left: 1em; padding-right: 1em; text-align: center; vertical-align: top\">1112486027</td>\n",
       "    </tr>\n",
       "    <tr>\n",
       "        <td style=\"padding-left: 1em; padding-right: 1em; text-align: center; vertical-align: top\">1</td>\n",
       "        <td style=\"padding-left: 1em; padding-right: 1em; text-align: center; vertical-align: top\">29</td>\n",
       "        <td style=\"padding-left: 1em; padding-right: 1em; text-align: center; vertical-align: top\">3.5</td>\n",
       "        <td style=\"padding-left: 1em; padding-right: 1em; text-align: center; vertical-align: top\">1112484676</td>\n",
       "    </tr>\n",
       "    <tr>\n",
       "        <td style=\"padding-left: 1em; padding-right: 1em; text-align: center; vertical-align: top\">1</td>\n",
       "        <td style=\"padding-left: 1em; padding-right: 1em; text-align: center; vertical-align: top\">32</td>\n",
       "        <td style=\"padding-left: 1em; padding-right: 1em; text-align: center; vertical-align: top\">3.5</td>\n",
       "        <td style=\"padding-left: 1em; padding-right: 1em; text-align: center; vertical-align: top\">1112484819</td>\n",
       "    </tr>\n",
       "    <tr>\n",
       "        <td style=\"padding-left: 1em; padding-right: 1em; text-align: center; vertical-align: top\">1</td>\n",
       "        <td style=\"padding-left: 1em; padding-right: 1em; text-align: center; vertical-align: top\">47</td>\n",
       "        <td style=\"padding-left: 1em; padding-right: 1em; text-align: center; vertical-align: top\">3.5</td>\n",
       "        <td style=\"padding-left: 1em; padding-right: 1em; text-align: center; vertical-align: top\">1112484727</td>\n",
       "    </tr>\n",
       "    <tr>\n",
       "        <td style=\"padding-left: 1em; padding-right: 1em; text-align: center; vertical-align: top\">1</td>\n",
       "        <td style=\"padding-left: 1em; padding-right: 1em; text-align: center; vertical-align: top\">50</td>\n",
       "        <td style=\"padding-left: 1em; padding-right: 1em; text-align: center; vertical-align: top\">3.5</td>\n",
       "        <td style=\"padding-left: 1em; padding-right: 1em; text-align: center; vertical-align: top\">1112484580</td>\n",
       "    </tr>\n",
       "    <tr>\n",
       "        <td style=\"padding-left: 1em; padding-right: 1em; text-align: center; vertical-align: top\">1</td>\n",
       "        <td style=\"padding-left: 1em; padding-right: 1em; text-align: center; vertical-align: top\">112</td>\n",
       "        <td style=\"padding-left: 1em; padding-right: 1em; text-align: center; vertical-align: top\">3.5</td>\n",
       "        <td style=\"padding-left: 1em; padding-right: 1em; text-align: center; vertical-align: top\">1094785740</td>\n",
       "    </tr>\n",
       "    <tr>\n",
       "        <td style=\"padding-left: 1em; padding-right: 1em; text-align: center; vertical-align: top\">1</td>\n",
       "        <td style=\"padding-left: 1em; padding-right: 1em; text-align: center; vertical-align: top\">151</td>\n",
       "        <td style=\"padding-left: 1em; padding-right: 1em; text-align: center; vertical-align: top\">4.0</td>\n",
       "        <td style=\"padding-left: 1em; padding-right: 1em; text-align: center; vertical-align: top\">1094785734</td>\n",
       "    </tr>\n",
       "    <tr>\n",
       "        <td style=\"padding-left: 1em; padding-right: 1em; text-align: center; vertical-align: top\">1</td>\n",
       "        <td style=\"padding-left: 1em; padding-right: 1em; text-align: center; vertical-align: top\">223</td>\n",
       "        <td style=\"padding-left: 1em; padding-right: 1em; text-align: center; vertical-align: top\">4.0</td>\n",
       "        <td style=\"padding-left: 1em; padding-right: 1em; text-align: center; vertical-align: top\">1112485573</td>\n",
       "    </tr>\n",
       "    <tr>\n",
       "        <td style=\"padding-left: 1em; padding-right: 1em; text-align: center; vertical-align: top\">1</td>\n",
       "        <td style=\"padding-left: 1em; padding-right: 1em; text-align: center; vertical-align: top\">253</td>\n",
       "        <td style=\"padding-left: 1em; padding-right: 1em; text-align: center; vertical-align: top\">4.0</td>\n",
       "        <td style=\"padding-left: 1em; padding-right: 1em; text-align: center; vertical-align: top\">1112484940</td>\n",
       "    </tr>\n",
       "    <tr>\n",
       "        <td style=\"padding-left: 1em; padding-right: 1em; text-align: center; vertical-align: top\">1</td>\n",
       "        <td style=\"padding-left: 1em; padding-right: 1em; text-align: center; vertical-align: top\">260</td>\n",
       "        <td style=\"padding-left: 1em; padding-right: 1em; text-align: center; vertical-align: top\">4.0</td>\n",
       "        <td style=\"padding-left: 1em; padding-right: 1em; text-align: center; vertical-align: top\">1112484826</td>\n",
       "    </tr>\n",
       "</table>\n",
       "[10 rows x 4 columns]<br/>\n",
       "</div>"
      ],
      "text/plain": [
       "Columns:\n",
       "\tuserId\tint\n",
       "\tmovieId\tint\n",
       "\trating\tfloat\n",
       "\ttimestamp\tint\n",
       "\n",
       "Rows: 10\n",
       "\n",
       "Data:\n",
       "+--------+---------+--------+------------+\n",
       "| userId | movieId | rating | timestamp  |\n",
       "+--------+---------+--------+------------+\n",
       "|   1    |    2    |  3.5   | 1112486027 |\n",
       "|   1    |    29   |  3.5   | 1112484676 |\n",
       "|   1    |    32   |  3.5   | 1112484819 |\n",
       "|   1    |    47   |  3.5   | 1112484727 |\n",
       "|   1    |    50   |  3.5   | 1112484580 |\n",
       "|   1    |   112   |  3.5   | 1094785740 |\n",
       "|   1    |   151   |  4.0   | 1094785734 |\n",
       "|   1    |   223   |  4.0   | 1112485573 |\n",
       "|   1    |   253   |  4.0   | 1112484940 |\n",
       "|   1    |   260   |  4.0   | 1112484826 |\n",
       "+--------+---------+--------+------------+\n",
       "[10 rows x 4 columns]"
      ]
     },
     "execution_count": 6,
     "metadata": {
      "tags": []
     },
     "output_type": "execute_result"
    }
   ],
   "source": [
    "actions.head()"
   ]
  },
  {
   "cell_type": "code",
   "execution_count": 7,
   "metadata": {
    "colab": {
     "base_uri": "https://localhost:8080/",
     "height": 288
    },
    "executionInfo": {
     "elapsed": 1940,
     "status": "ok",
     "timestamp": 1605857715956,
     "user": {
      "displayName": "Asnat Messica Greenst",
      "photoUrl": "",
      "userId": "14949188109355979794"
     },
     "user_tz": -120
    },
    "id": "oasOKixT9uB-",
    "outputId": "94c3441a-0443-4dfe-f63f-600d7c9c16e5"
   },
   "outputs": [
    {
     "data": {
      "text/html": [
       "<div style=\"max-height:1000px;max-width:1500px;overflow:auto;\"><table frame=\"box\" rules=\"cols\">\n",
       "    <tr>\n",
       "        <th style=\"padding-left: 1em; padding-right: 1em; text-align: center\">movieId</th>\n",
       "        <th style=\"padding-left: 1em; padding-right: 1em; text-align: center\">title</th>\n",
       "        <th style=\"padding-left: 1em; padding-right: 1em; text-align: center\">genres</th>\n",
       "    </tr>\n",
       "    <tr>\n",
       "        <td style=\"padding-left: 1em; padding-right: 1em; text-align: center; vertical-align: top\">1</td>\n",
       "        <td style=\"padding-left: 1em; padding-right: 1em; text-align: center; vertical-align: top\">Toy Story (1995)</td>\n",
       "        <td style=\"padding-left: 1em; padding-right: 1em; text-align: center; vertical-align: top\">Adventure|Animation|Child<br>ren|Comedy|Fantasy ...</td>\n",
       "    </tr>\n",
       "    <tr>\n",
       "        <td style=\"padding-left: 1em; padding-right: 1em; text-align: center; vertical-align: top\">2</td>\n",
       "        <td style=\"padding-left: 1em; padding-right: 1em; text-align: center; vertical-align: top\">Jumanji (1995)</td>\n",
       "        <td style=\"padding-left: 1em; padding-right: 1em; text-align: center; vertical-align: top\">Adventure|Children|Fantas<br>y ...</td>\n",
       "    </tr>\n",
       "    <tr>\n",
       "        <td style=\"padding-left: 1em; padding-right: 1em; text-align: center; vertical-align: top\">3</td>\n",
       "        <td style=\"padding-left: 1em; padding-right: 1em; text-align: center; vertical-align: top\">Grumpier Old Men (1995)</td>\n",
       "        <td style=\"padding-left: 1em; padding-right: 1em; text-align: center; vertical-align: top\">Comedy|Romance</td>\n",
       "    </tr>\n",
       "    <tr>\n",
       "        <td style=\"padding-left: 1em; padding-right: 1em; text-align: center; vertical-align: top\">4</td>\n",
       "        <td style=\"padding-left: 1em; padding-right: 1em; text-align: center; vertical-align: top\">Waiting to Exhale (1995)</td>\n",
       "        <td style=\"padding-left: 1em; padding-right: 1em; text-align: center; vertical-align: top\">Comedy|Drama|Romance</td>\n",
       "    </tr>\n",
       "    <tr>\n",
       "        <td style=\"padding-left: 1em; padding-right: 1em; text-align: center; vertical-align: top\">5</td>\n",
       "        <td style=\"padding-left: 1em; padding-right: 1em; text-align: center; vertical-align: top\">Father of the Bride Part<br>II (1995) ...</td>\n",
       "        <td style=\"padding-left: 1em; padding-right: 1em; text-align: center; vertical-align: top\">Comedy</td>\n",
       "    </tr>\n",
       "    <tr>\n",
       "        <td style=\"padding-left: 1em; padding-right: 1em; text-align: center; vertical-align: top\">6</td>\n",
       "        <td style=\"padding-left: 1em; padding-right: 1em; text-align: center; vertical-align: top\">Heat (1995)</td>\n",
       "        <td style=\"padding-left: 1em; padding-right: 1em; text-align: center; vertical-align: top\">Action|Crime|Thriller</td>\n",
       "    </tr>\n",
       "    <tr>\n",
       "        <td style=\"padding-left: 1em; padding-right: 1em; text-align: center; vertical-align: top\">7</td>\n",
       "        <td style=\"padding-left: 1em; padding-right: 1em; text-align: center; vertical-align: top\">Sabrina (1995)</td>\n",
       "        <td style=\"padding-left: 1em; padding-right: 1em; text-align: center; vertical-align: top\">Comedy|Romance</td>\n",
       "    </tr>\n",
       "    <tr>\n",
       "        <td style=\"padding-left: 1em; padding-right: 1em; text-align: center; vertical-align: top\">8</td>\n",
       "        <td style=\"padding-left: 1em; padding-right: 1em; text-align: center; vertical-align: top\">Tom and Huck (1995)</td>\n",
       "        <td style=\"padding-left: 1em; padding-right: 1em; text-align: center; vertical-align: top\">Adventure|Children</td>\n",
       "    </tr>\n",
       "    <tr>\n",
       "        <td style=\"padding-left: 1em; padding-right: 1em; text-align: center; vertical-align: top\">9</td>\n",
       "        <td style=\"padding-left: 1em; padding-right: 1em; text-align: center; vertical-align: top\">Sudden Death (1995)</td>\n",
       "        <td style=\"padding-left: 1em; padding-right: 1em; text-align: center; vertical-align: top\">Action</td>\n",
       "    </tr>\n",
       "    <tr>\n",
       "        <td style=\"padding-left: 1em; padding-right: 1em; text-align: center; vertical-align: top\">10</td>\n",
       "        <td style=\"padding-left: 1em; padding-right: 1em; text-align: center; vertical-align: top\">GoldenEye (1995)</td>\n",
       "        <td style=\"padding-left: 1em; padding-right: 1em; text-align: center; vertical-align: top\">Action|Adventure|Thriller</td>\n",
       "    </tr>\n",
       "</table>\n",
       "[10 rows x 3 columns]<br/>\n",
       "</div>"
      ],
      "text/plain": [
       "Columns:\n",
       "\tmovieId\tint\n",
       "\ttitle\tstr\n",
       "\tgenres\tstr\n",
       "\n",
       "Rows: 10\n",
       "\n",
       "Data:\n",
       "+---------+-------------------------------+-------------------------------+\n",
       "| movieId |             title             |             genres            |\n",
       "+---------+-------------------------------+-------------------------------+\n",
       "|    1    |        Toy Story (1995)       | Adventure|Animation|Childr... |\n",
       "|    2    |         Jumanji (1995)        |   Adventure|Children|Fantasy  |\n",
       "|    3    |    Grumpier Old Men (1995)    |         Comedy|Romance        |\n",
       "|    4    |    Waiting to Exhale (1995)   |      Comedy|Drama|Romance     |\n",
       "|    5    | Father of the Bride Part I... |             Comedy            |\n",
       "|    6    |          Heat (1995)          |     Action|Crime|Thriller     |\n",
       "|    7    |         Sabrina (1995)        |         Comedy|Romance        |\n",
       "|    8    |      Tom and Huck (1995)      |       Adventure|Children      |\n",
       "|    9    |      Sudden Death (1995)      |             Action            |\n",
       "|    10   |        GoldenEye (1995)       |   Action|Adventure|Thriller   |\n",
       "+---------+-------------------------------+-------------------------------+\n",
       "[10 rows x 3 columns]"
      ]
     },
     "execution_count": 7,
     "metadata": {
      "tags": []
     },
     "output_type": "execute_result"
    }
   ],
   "source": [
    "items.head()"
   ]
  },
  {
   "cell_type": "markdown",
   "metadata": {
    "id": "qEcZtbZx049W"
   },
   "source": [
    "<h1> Prepare Data </h1>"
   ]
  },
  {
   "cell_type": "code",
   "execution_count": 8,
   "metadata": {
    "executionInfo": {
     "elapsed": 33133,
     "status": "ok",
     "timestamp": 1605857750228,
     "user": {
      "displayName": "Asnat Messica Greenst",
      "photoUrl": "",
      "userId": "14949188109355979794"
     },
     "user_tz": -120
    },
    "id": "OeK8_fk4049X"
   },
   "outputs": [],
   "source": [
    "# Prepare the data by removing items that are rare\n",
    "rare_items = actions.groupby('movieId', tc.aggregate.COUNT).sort('Count')\n",
    "rare_items = rare_items[rare_items['Count'] <= 5]\n",
    "items = items.filter_by(rare_items['movieId'], 'movieId', exclude=True)\n",
    "actions = actions.filter_by(rare_items['movieId'], 'movieId', exclude=True)\n",
    "actions['timestamp'] = actions['timestamp'].astype(datetime)"
   ]
  },
  {
   "cell_type": "code",
   "execution_count": 9,
   "metadata": {
    "executionInfo": {
     "elapsed": 4243,
     "status": "ok",
     "timestamp": 1605857754488,
     "user": {
      "displayName": "Asnat Messica Greenst",
      "photoUrl": "",
      "userId": "14949188109355979794"
     },
     "user_tz": -120
    },
    "id": "MNM7HoHv049Z"
   },
   "outputs": [],
   "source": [
    "# Extract year, title, and genre\n",
    "items['year'] = items['title'].apply(lambda x: x[-5:-1])\n",
    "items['title'] = items['title'].apply(lambda x: x[:-7])\n",
    "#items['genres'] = items['genres'].apply(lambda x: x.split('|'))"
   ]
  },
  {
   "cell_type": "markdown",
   "metadata": {
    "id": "OiUvb5-N049b"
   },
   "source": [
    "<h1> Train the Model </h1>"
   ]
  },
  {
   "cell_type": "code",
   "execution_count": 10,
   "metadata": {
    "executionInfo": {
     "elapsed": 6352,
     "status": "ok",
     "timestamp": 1605857756606,
     "user": {
      "displayName": "Asnat Messica Greenst",
      "photoUrl": "",
      "userId": "14949188109355979794"
     },
     "user_tz": -120
    },
    "id": "Vq3dvDef049b"
   },
   "outputs": [],
   "source": [
    "training_data, validation_data = tc.recommender.util.random_split_by_user(actions, 'userId', 'movieId')\n",
    "#model = tc.recommender.create(training_data, 'userId', 'movieId')"
   ]
  },
  {
   "cell_type": "code",
   "execution_count": 11,
   "metadata": {
    "colab": {
     "base_uri": "https://localhost:8080/",
     "height": 739
    },
    "executionInfo": {
     "elapsed": 80472,
     "status": "ok",
     "timestamp": 1605857830733,
     "user": {
      "displayName": "Asnat Messica Greenst",
      "photoUrl": "",
      "userId": "14949188109355979794"
     },
     "user_tz": -120
    },
    "id": "hMGfUdKMnXMB",
    "outputId": "d335a0b8-5fd8-460a-aa2e-f9733dffd610"
   },
   "outputs": [
    {
     "data": {
      "text/html": [
       "<pre>Warning: Ignoring columns timestamp;</pre>"
      ],
      "text/plain": [
       "Warning: Ignoring columns timestamp;"
      ]
     },
     "metadata": {
      "tags": []
     },
     "output_type": "display_data"
    },
    {
     "data": {
      "text/html": [
       "<pre>    To use these columns in scoring predictions, use a model that allows the use of additional features.</pre>"
      ],
      "text/plain": [
       "    To use these columns in scoring predictions, use a model that allows the use of additional features."
      ]
     },
     "metadata": {
      "tags": []
     },
     "output_type": "display_data"
    },
    {
     "data": {
      "text/html": [
       "<pre>Preparing data set.</pre>"
      ],
      "text/plain": [
       "Preparing data set."
      ]
     },
     "metadata": {
      "tags": []
     },
     "output_type": "display_data"
    },
    {
     "data": {
      "text/html": [
       "<pre>    Data has 8489725 observations with 58957 users and 14211 items.</pre>"
      ],
      "text/plain": [
       "    Data has 8489725 observations with 58957 users and 14211 items."
      ]
     },
     "metadata": {
      "tags": []
     },
     "output_type": "display_data"
    },
    {
     "data": {
      "text/html": [
       "<pre>    Data prepared in: 8.56738s</pre>"
      ],
      "text/plain": [
       "    Data prepared in: 8.56738s"
      ]
     },
     "metadata": {
      "tags": []
     },
     "output_type": "display_data"
    },
    {
     "data": {
      "text/html": [
       "<pre>Training model from provided data.</pre>"
      ],
      "text/plain": [
       "Training model from provided data."
      ]
     },
     "metadata": {
      "tags": []
     },
     "output_type": "display_data"
    },
    {
     "data": {
      "text/html": [
       "<pre>Gathering per-item and per-user statistics.</pre>"
      ],
      "text/plain": [
       "Gathering per-item and per-user statistics."
      ]
     },
     "metadata": {
      "tags": []
     },
     "output_type": "display_data"
    },
    {
     "data": {
      "text/html": [
       "<pre>+--------------------------------+------------+</pre>"
      ],
      "text/plain": [
       "+--------------------------------+------------+"
      ]
     },
     "metadata": {
      "tags": []
     },
     "output_type": "display_data"
    },
    {
     "data": {
      "text/html": [
       "<pre>| Elapsed Time (Item Statistics) | % Complete |</pre>"
      ],
      "text/plain": [
       "| Elapsed Time (Item Statistics) | % Complete |"
      ]
     },
     "metadata": {
      "tags": []
     },
     "output_type": "display_data"
    },
    {
     "data": {
      "text/html": [
       "<pre>+--------------------------------+------------+</pre>"
      ],
      "text/plain": [
       "+--------------------------------+------------+"
      ]
     },
     "metadata": {
      "tags": []
     },
     "output_type": "display_data"
    },
    {
     "data": {
      "text/html": [
       "<pre>| 7.932ms                        | 1.5        |</pre>"
      ],
      "text/plain": [
       "| 7.932ms                        | 1.5        |"
      ]
     },
     "metadata": {
      "tags": []
     },
     "output_type": "display_data"
    },
    {
     "data": {
      "text/html": [
       "<pre>| 315.785ms                      | 100        |</pre>"
      ],
      "text/plain": [
       "| 315.785ms                      | 100        |"
      ]
     },
     "metadata": {
      "tags": []
     },
     "output_type": "display_data"
    },
    {
     "data": {
      "text/html": [
       "<pre>+--------------------------------+------------+</pre>"
      ],
      "text/plain": [
       "+--------------------------------+------------+"
      ]
     },
     "metadata": {
      "tags": []
     },
     "output_type": "display_data"
    },
    {
     "data": {
      "text/html": [
       "<pre>Setting up lookup tables.</pre>"
      ],
      "text/plain": [
       "Setting up lookup tables."
      ]
     },
     "metadata": {
      "tags": []
     },
     "output_type": "display_data"
    },
    {
     "data": {
      "text/html": [
       "<pre>Processing data in one pass using dense lookup tables.</pre>"
      ],
      "text/plain": [
       "Processing data in one pass using dense lookup tables."
      ]
     },
     "metadata": {
      "tags": []
     },
     "output_type": "display_data"
    },
    {
     "data": {
      "text/html": [
       "<pre>+-------------------------------------+------------------+-----------------+</pre>"
      ],
      "text/plain": [
       "+-------------------------------------+------------------+-----------------+"
      ]
     },
     "metadata": {
      "tags": []
     },
     "output_type": "display_data"
    },
    {
     "data": {
      "text/html": [
       "<pre>| Elapsed Time (Constructing Lookups) | Total % Complete | Items Processed |</pre>"
      ],
      "text/plain": [
       "| Elapsed Time (Constructing Lookups) | Total % Complete | Items Processed |"
      ]
     },
     "metadata": {
      "tags": []
     },
     "output_type": "display_data"
    },
    {
     "data": {
      "text/html": [
       "<pre>+-------------------------------------+------------------+-----------------+</pre>"
      ],
      "text/plain": [
       "+-------------------------------------+------------------+-----------------+"
      ]
     },
     "metadata": {
      "tags": []
     },
     "output_type": "display_data"
    },
    {
     "data": {
      "text/html": [
       "<pre>| 955.602ms                           | 0                | 0               |</pre>"
      ],
      "text/plain": [
       "| 955.602ms                           | 0                | 0               |"
      ]
     },
     "metadata": {
      "tags": []
     },
     "output_type": "display_data"
    },
    {
     "data": {
      "text/html": [
       "<pre>| 3.96s                               | 5                | 745             |</pre>"
      ],
      "text/plain": [
       "| 3.96s                               | 5                | 745             |"
      ]
     },
     "metadata": {
      "tags": []
     },
     "output_type": "display_data"
    },
    {
     "data": {
      "text/html": [
       "<pre>| 6.95s                               | 10.25            | 1457            |</pre>"
      ],
      "text/plain": [
       "| 6.95s                               | 10.25            | 1457            |"
      ]
     },
     "metadata": {
      "tags": []
     },
     "output_type": "display_data"
    },
    {
     "data": {
      "text/html": [
       "<pre>| 9.96s                               | 15.5             | 2203            |</pre>"
      ],
      "text/plain": [
       "| 9.96s                               | 15.5             | 2203            |"
      ]
     },
     "metadata": {
      "tags": []
     },
     "output_type": "display_data"
    },
    {
     "data": {
      "text/html": [
       "<pre>| 12.95s                              | 20.5             | 2923            |</pre>"
      ],
      "text/plain": [
       "| 12.95s                              | 20.5             | 2923            |"
      ]
     },
     "metadata": {
      "tags": []
     },
     "output_type": "display_data"
    },
    {
     "data": {
      "text/html": [
       "<pre>| 15.96s                              | 25.25            | 3621            |</pre>"
      ],
      "text/plain": [
       "| 15.96s                              | 25.25            | 3621            |"
      ]
     },
     "metadata": {
      "tags": []
     },
     "output_type": "display_data"
    },
    {
     "data": {
      "text/html": [
       "<pre>| 18.95s                              | 31               | 4410            |</pre>"
      ],
      "text/plain": [
       "| 18.95s                              | 31               | 4410            |"
      ]
     },
     "metadata": {
      "tags": []
     },
     "output_type": "display_data"
    },
    {
     "data": {
      "text/html": [
       "<pre>| 21.97s                              | 36               | 5136            |</pre>"
      ],
      "text/plain": [
       "| 21.97s                              | 36               | 5136            |"
      ]
     },
     "metadata": {
      "tags": []
     },
     "output_type": "display_data"
    },
    {
     "data": {
      "text/html": [
       "<pre>| 24.96s                              | 41               | 5834            |</pre>"
      ],
      "text/plain": [
       "| 24.96s                              | 41               | 5834            |"
      ]
     },
     "metadata": {
      "tags": []
     },
     "output_type": "display_data"
    },
    {
     "data": {
      "text/html": [
       "<pre>| 27.95s                              | 45.75            | 6525            |</pre>"
      ],
      "text/plain": [
       "| 27.95s                              | 45.75            | 6525            |"
      ]
     },
     "metadata": {
      "tags": []
     },
     "output_type": "display_data"
    },
    {
     "data": {
      "text/html": [
       "<pre>| 30.95s                              | 50.75            | 7231            |</pre>"
      ],
      "text/plain": [
       "| 30.95s                              | 50.75            | 7231            |"
      ]
     },
     "metadata": {
      "tags": []
     },
     "output_type": "display_data"
    },
    {
     "data": {
      "text/html": [
       "<pre>| 33.97s                              | 55.75            | 7943            |</pre>"
      ],
      "text/plain": [
       "| 33.97s                              | 55.75            | 7943            |"
      ]
     },
     "metadata": {
      "tags": []
     },
     "output_type": "display_data"
    },
    {
     "data": {
      "text/html": [
       "<pre>| 36.96s                              | 60.75            | 8637            |</pre>"
      ],
      "text/plain": [
       "| 36.96s                              | 60.75            | 8637            |"
      ]
     },
     "metadata": {
      "tags": []
     },
     "output_type": "display_data"
    },
    {
     "data": {
      "text/html": [
       "<pre>| 39.96s                              | 65.5             | 9329            |</pre>"
      ],
      "text/plain": [
       "| 39.96s                              | 65.5             | 9329            |"
      ]
     },
     "metadata": {
      "tags": []
     },
     "output_type": "display_data"
    },
    {
     "data": {
      "text/html": [
       "<pre>| 42.96s                              | 70.5             | 10028           |</pre>"
      ],
      "text/plain": [
       "| 42.96s                              | 70.5             | 10028           |"
      ]
     },
     "metadata": {
      "tags": []
     },
     "output_type": "display_data"
    },
    {
     "data": {
      "text/html": [
       "<pre>| 45.96s                              | 75.5             | 10744           |</pre>"
      ],
      "text/plain": [
       "| 45.96s                              | 75.5             | 10744           |"
      ]
     },
     "metadata": {
      "tags": []
     },
     "output_type": "display_data"
    },
    {
     "data": {
      "text/html": [
       "<pre>| 48.96s                              | 80.75            | 11487           |</pre>"
      ],
      "text/plain": [
       "| 48.96s                              | 80.75            | 11487           |"
      ]
     },
     "metadata": {
      "tags": []
     },
     "output_type": "display_data"
    },
    {
     "data": {
      "text/html": [
       "<pre>| 51.96s                              | 85.75            | 12210           |</pre>"
      ],
      "text/plain": [
       "| 51.96s                              | 85.75            | 12210           |"
      ]
     },
     "metadata": {
      "tags": []
     },
     "output_type": "display_data"
    },
    {
     "data": {
      "text/html": [
       "<pre>| 54.96s                              | 90.75            | 12919           |</pre>"
      ],
      "text/plain": [
       "| 54.96s                              | 90.75            | 12919           |"
      ]
     },
     "metadata": {
      "tags": []
     },
     "output_type": "display_data"
    },
    {
     "data": {
      "text/html": [
       "<pre>| 57.96s                              | 95.75            | 13608           |</pre>"
      ],
      "text/plain": [
       "| 57.96s                              | 95.75            | 13608           |"
      ]
     },
     "metadata": {
      "tags": []
     },
     "output_type": "display_data"
    },
    {
     "data": {
      "text/html": [
       "<pre>| 1m 3s                               | 100              | 14211           |</pre>"
      ],
      "text/plain": [
       "| 1m 3s                               | 100              | 14211           |"
      ]
     },
     "metadata": {
      "tags": []
     },
     "output_type": "display_data"
    },
    {
     "data": {
      "text/html": [
       "<pre>+-------------------------------------+------------------+-----------------+</pre>"
      ],
      "text/plain": [
       "+-------------------------------------+------------------+-----------------+"
      ]
     },
     "metadata": {
      "tags": []
     },
     "output_type": "display_data"
    },
    {
     "data": {
      "text/html": [
       "<pre>Finalizing lookup tables.</pre>"
      ],
      "text/plain": [
       "Finalizing lookup tables."
      ]
     },
     "metadata": {
      "tags": []
     },
     "output_type": "display_data"
    },
    {
     "data": {
      "text/html": [
       "<pre>Generating candidate set for working with new users.</pre>"
      ],
      "text/plain": [
       "Generating candidate set for working with new users."
      ]
     },
     "metadata": {
      "tags": []
     },
     "output_type": "display_data"
    },
    {
     "data": {
      "text/html": [
       "<pre>Finished training in 65.0023s</pre>"
      ],
      "text/plain": [
       "Finished training in 65.0023s"
      ]
     },
     "metadata": {
      "tags": []
     },
     "output_type": "display_data"
    }
   ],
   "source": [
    "model = tc.item_similarity_recommender.create(training_data, 'userId','movieId',target=\"rating\",similarity_type='cosine')"
   ]
  },
  {
   "cell_type": "markdown",
   "metadata": {
    "id": "CTUFRILe049e"
   },
   "source": [
    "<h1> Model Predict </h1>"
   ]
  },
  {
   "cell_type": "code",
   "execution_count": 12,
   "metadata": {
    "colab": {
     "base_uri": "https://localhost:8080/",
     "height": 991
    },
    "executionInfo": {
     "elapsed": 15393,
     "status": "ok",
     "timestamp": 1605858176948,
     "user": {
      "displayName": "Asnat Messica Greenst",
      "photoUrl": "",
      "userId": "14949188109355979794"
     },
     "user_tz": -120
    },
    "id": "sur-TvZM049e",
    "outputId": "30e697a1-84b6-4df1-d97d-05394c4859f9"
   },
   "outputs": [
    {
     "data": {
      "text/html": [
       "<pre>recommendations finished on 1000/58957 queries. users per second: 4401.47</pre>"
      ],
      "text/plain": [
       "recommendations finished on 1000/58957 queries. users per second: 4401.47"
      ]
     },
     "metadata": {
      "tags": []
     },
     "output_type": "display_data"
    },
    {
     "data": {
      "text/html": [
       "<pre>recommendations finished on 2000/58957 queries. users per second: 4366.58</pre>"
      ],
      "text/plain": [
       "recommendations finished on 2000/58957 queries. users per second: 4366.58"
      ]
     },
     "metadata": {
      "tags": []
     },
     "output_type": "display_data"
    },
    {
     "data": {
      "text/html": [
       "<pre>recommendations finished on 3000/58957 queries. users per second: 4483.5</pre>"
      ],
      "text/plain": [
       "recommendations finished on 3000/58957 queries. users per second: 4483.5"
      ]
     },
     "metadata": {
      "tags": []
     },
     "output_type": "display_data"
    },
    {
     "data": {
      "text/html": [
       "<pre>recommendations finished on 4000/58957 queries. users per second: 4538.7</pre>"
      ],
      "text/plain": [
       "recommendations finished on 4000/58957 queries. users per second: 4538.7"
      ]
     },
     "metadata": {
      "tags": []
     },
     "output_type": "display_data"
    },
    {
     "data": {
      "text/html": [
       "<pre>recommendations finished on 5000/58957 queries. users per second: 4548.55</pre>"
      ],
      "text/plain": [
       "recommendations finished on 5000/58957 queries. users per second: 4548.55"
      ]
     },
     "metadata": {
      "tags": []
     },
     "output_type": "display_data"
    },
    {
     "data": {
      "text/html": [
       "<pre>recommendations finished on 6000/58957 queries. users per second: 4588.33</pre>"
      ],
      "text/plain": [
       "recommendations finished on 6000/58957 queries. users per second: 4588.33"
      ]
     },
     "metadata": {
      "tags": []
     },
     "output_type": "display_data"
    },
    {
     "data": {
      "text/html": [
       "<pre>recommendations finished on 7000/58957 queries. users per second: 4569.86</pre>"
      ],
      "text/plain": [
       "recommendations finished on 7000/58957 queries. users per second: 4569.86"
      ]
     },
     "metadata": {
      "tags": []
     },
     "output_type": "display_data"
    },
    {
     "data": {
      "text/html": [
       "<pre>recommendations finished on 8000/58957 queries. users per second: 4594.55</pre>"
      ],
      "text/plain": [
       "recommendations finished on 8000/58957 queries. users per second: 4594.55"
      ]
     },
     "metadata": {
      "tags": []
     },
     "output_type": "display_data"
    },
    {
     "data": {
      "text/html": [
       "<pre>recommendations finished on 9000/58957 queries. users per second: 4605.09</pre>"
      ],
      "text/plain": [
       "recommendations finished on 9000/58957 queries. users per second: 4605.09"
      ]
     },
     "metadata": {
      "tags": []
     },
     "output_type": "display_data"
    },
    {
     "data": {
      "text/html": [
       "<pre>recommendations finished on 10000/58957 queries. users per second: 4616.39</pre>"
      ],
      "text/plain": [
       "recommendations finished on 10000/58957 queries. users per second: 4616.39"
      ]
     },
     "metadata": {
      "tags": []
     },
     "output_type": "display_data"
    },
    {
     "data": {
      "text/html": [
       "<pre>recommendations finished on 11000/58957 queries. users per second: 4628.05</pre>"
      ],
      "text/plain": [
       "recommendations finished on 11000/58957 queries. users per second: 4628.05"
      ]
     },
     "metadata": {
      "tags": []
     },
     "output_type": "display_data"
    },
    {
     "data": {
      "text/html": [
       "<pre>recommendations finished on 12000/58957 queries. users per second: 4625.42</pre>"
      ],
      "text/plain": [
       "recommendations finished on 12000/58957 queries. users per second: 4625.42"
      ]
     },
     "metadata": {
      "tags": []
     },
     "output_type": "display_data"
    },
    {
     "data": {
      "text/html": [
       "<pre>recommendations finished on 13000/58957 queries. users per second: 4638.2</pre>"
      ],
      "text/plain": [
       "recommendations finished on 13000/58957 queries. users per second: 4638.2"
      ]
     },
     "metadata": {
      "tags": []
     },
     "output_type": "display_data"
    },
    {
     "data": {
      "text/html": [
       "<pre>recommendations finished on 14000/58957 queries. users per second: 4644.13</pre>"
      ],
      "text/plain": [
       "recommendations finished on 14000/58957 queries. users per second: 4644.13"
      ]
     },
     "metadata": {
      "tags": []
     },
     "output_type": "display_data"
    },
    {
     "data": {
      "text/html": [
       "<pre>recommendations finished on 15000/58957 queries. users per second: 4629.43</pre>"
      ],
      "text/plain": [
       "recommendations finished on 15000/58957 queries. users per second: 4629.43"
      ]
     },
     "metadata": {
      "tags": []
     },
     "output_type": "display_data"
    },
    {
     "data": {
      "text/html": [
       "<pre>recommendations finished on 16000/58957 queries. users per second: 4625.09</pre>"
      ],
      "text/plain": [
       "recommendations finished on 16000/58957 queries. users per second: 4625.09"
      ]
     },
     "metadata": {
      "tags": []
     },
     "output_type": "display_data"
    },
    {
     "data": {
      "text/html": [
       "<pre>recommendations finished on 17000/58957 queries. users per second: 4629.11</pre>"
      ],
      "text/plain": [
       "recommendations finished on 17000/58957 queries. users per second: 4629.11"
      ]
     },
     "metadata": {
      "tags": []
     },
     "output_type": "display_data"
    },
    {
     "data": {
      "text/html": [
       "<pre>recommendations finished on 18000/58957 queries. users per second: 4607.11</pre>"
      ],
      "text/plain": [
       "recommendations finished on 18000/58957 queries. users per second: 4607.11"
      ]
     },
     "metadata": {
      "tags": []
     },
     "output_type": "display_data"
    },
    {
     "data": {
      "text/html": [
       "<pre>recommendations finished on 19000/58957 queries. users per second: 4610.03</pre>"
      ],
      "text/plain": [
       "recommendations finished on 19000/58957 queries. users per second: 4610.03"
      ]
     },
     "metadata": {
      "tags": []
     },
     "output_type": "display_data"
    },
    {
     "data": {
      "text/html": [
       "<pre>recommendations finished on 20000/58957 queries. users per second: 4617.85</pre>"
      ],
      "text/plain": [
       "recommendations finished on 20000/58957 queries. users per second: 4617.85"
      ]
     },
     "metadata": {
      "tags": []
     },
     "output_type": "display_data"
    },
    {
     "data": {
      "text/html": [
       "<pre>recommendations finished on 21000/58957 queries. users per second: 4610.42</pre>"
      ],
      "text/plain": [
       "recommendations finished on 21000/58957 queries. users per second: 4610.42"
      ]
     },
     "metadata": {
      "tags": []
     },
     "output_type": "display_data"
    },
    {
     "data": {
      "text/html": [
       "<pre>recommendations finished on 22000/58957 queries. users per second: 4614.94</pre>"
      ],
      "text/plain": [
       "recommendations finished on 22000/58957 queries. users per second: 4614.94"
      ]
     },
     "metadata": {
      "tags": []
     },
     "output_type": "display_data"
    },
    {
     "data": {
      "text/html": [
       "<pre>recommendations finished on 23000/58957 queries. users per second: 4600.4</pre>"
      ],
      "text/plain": [
       "recommendations finished on 23000/58957 queries. users per second: 4600.4"
      ]
     },
     "metadata": {
      "tags": []
     },
     "output_type": "display_data"
    },
    {
     "data": {
      "text/html": [
       "<pre>recommendations finished on 24000/58957 queries. users per second: 4605.12</pre>"
      ],
      "text/plain": [
       "recommendations finished on 24000/58957 queries. users per second: 4605.12"
      ]
     },
     "metadata": {
      "tags": []
     },
     "output_type": "display_data"
    },
    {
     "data": {
      "text/html": [
       "<pre>recommendations finished on 25000/58957 queries. users per second: 4607.98</pre>"
      ],
      "text/plain": [
       "recommendations finished on 25000/58957 queries. users per second: 4607.98"
      ]
     },
     "metadata": {
      "tags": []
     },
     "output_type": "display_data"
    },
    {
     "data": {
      "text/html": [
       "<pre>recommendations finished on 26000/58957 queries. users per second: 4611.09</pre>"
      ],
      "text/plain": [
       "recommendations finished on 26000/58957 queries. users per second: 4611.09"
      ]
     },
     "metadata": {
      "tags": []
     },
     "output_type": "display_data"
    },
    {
     "data": {
      "text/html": [
       "<pre>recommendations finished on 27000/58957 queries. users per second: 4597.14</pre>"
      ],
      "text/plain": [
       "recommendations finished on 27000/58957 queries. users per second: 4597.14"
      ]
     },
     "metadata": {
      "tags": []
     },
     "output_type": "display_data"
    },
    {
     "data": {
      "text/html": [
       "<pre>recommendations finished on 28000/58957 queries. users per second: 4603.04</pre>"
      ],
      "text/plain": [
       "recommendations finished on 28000/58957 queries. users per second: 4603.04"
      ]
     },
     "metadata": {
      "tags": []
     },
     "output_type": "display_data"
    },
    {
     "data": {
      "text/html": [
       "<pre>recommendations finished on 29000/58957 queries. users per second: 4608.76</pre>"
      ],
      "text/plain": [
       "recommendations finished on 29000/58957 queries. users per second: 4608.76"
      ]
     },
     "metadata": {
      "tags": []
     },
     "output_type": "display_data"
    },
    {
     "data": {
      "text/html": [
       "<pre>recommendations finished on 30000/58957 queries. users per second: 4611.57</pre>"
      ],
      "text/plain": [
       "recommendations finished on 30000/58957 queries. users per second: 4611.57"
      ]
     },
     "metadata": {
      "tags": []
     },
     "output_type": "display_data"
    },
    {
     "data": {
      "text/html": [
       "<pre>recommendations finished on 31000/58957 queries. users per second: 4610.1</pre>"
      ],
      "text/plain": [
       "recommendations finished on 31000/58957 queries. users per second: 4610.1"
      ]
     },
     "metadata": {
      "tags": []
     },
     "output_type": "display_data"
    },
    {
     "data": {
      "text/html": [
       "<pre>recommendations finished on 32000/58957 queries. users per second: 4614.79</pre>"
      ],
      "text/plain": [
       "recommendations finished on 32000/58957 queries. users per second: 4614.79"
      ]
     },
     "metadata": {
      "tags": []
     },
     "output_type": "display_data"
    },
    {
     "data": {
      "text/html": [
       "<pre>recommendations finished on 33000/58957 queries. users per second: 4608.39</pre>"
      ],
      "text/plain": [
       "recommendations finished on 33000/58957 queries. users per second: 4608.39"
      ]
     },
     "metadata": {
      "tags": []
     },
     "output_type": "display_data"
    },
    {
     "data": {
      "text/html": [
       "<pre>recommendations finished on 34000/58957 queries. users per second: 4607.74</pre>"
      ],
      "text/plain": [
       "recommendations finished on 34000/58957 queries. users per second: 4607.74"
      ]
     },
     "metadata": {
      "tags": []
     },
     "output_type": "display_data"
    },
    {
     "data": {
      "text/html": [
       "<pre>recommendations finished on 35000/58957 queries. users per second: 4605.05</pre>"
      ],
      "text/plain": [
       "recommendations finished on 35000/58957 queries. users per second: 4605.05"
      ]
     },
     "metadata": {
      "tags": []
     },
     "output_type": "display_data"
    },
    {
     "data": {
      "text/html": [
       "<pre>recommendations finished on 36000/58957 queries. users per second: 4606.25</pre>"
      ],
      "text/plain": [
       "recommendations finished on 36000/58957 queries. users per second: 4606.25"
      ]
     },
     "metadata": {
      "tags": []
     },
     "output_type": "display_data"
    },
    {
     "data": {
      "text/html": [
       "<pre>recommendations finished on 37000/58957 queries. users per second: 4608.33</pre>"
      ],
      "text/plain": [
       "recommendations finished on 37000/58957 queries. users per second: 4608.33"
      ]
     },
     "metadata": {
      "tags": []
     },
     "output_type": "display_data"
    },
    {
     "data": {
      "text/html": [
       "<pre>recommendations finished on 38000/58957 queries. users per second: 4615.46</pre>"
      ],
      "text/plain": [
       "recommendations finished on 38000/58957 queries. users per second: 4615.46"
      ]
     },
     "metadata": {
      "tags": []
     },
     "output_type": "display_data"
    },
    {
     "data": {
      "text/html": [
       "<pre>recommendations finished on 39000/58957 queries. users per second: 4617.3</pre>"
      ],
      "text/plain": [
       "recommendations finished on 39000/58957 queries. users per second: 4617.3"
      ]
     },
     "metadata": {
      "tags": []
     },
     "output_type": "display_data"
    },
    {
     "data": {
      "text/html": [
       "<pre>recommendations finished on 40000/58957 queries. users per second: 4617.38</pre>"
      ],
      "text/plain": [
       "recommendations finished on 40000/58957 queries. users per second: 4617.38"
      ]
     },
     "metadata": {
      "tags": []
     },
     "output_type": "display_data"
    },
    {
     "data": {
      "text/html": [
       "<pre>recommendations finished on 41000/58957 queries. users per second: 4614.62</pre>"
      ],
      "text/plain": [
       "recommendations finished on 41000/58957 queries. users per second: 4614.62"
      ]
     },
     "metadata": {
      "tags": []
     },
     "output_type": "display_data"
    },
    {
     "data": {
      "text/html": [
       "<pre>recommendations finished on 42000/58957 queries. users per second: 4614.99</pre>"
      ],
      "text/plain": [
       "recommendations finished on 42000/58957 queries. users per second: 4614.99"
      ]
     },
     "metadata": {
      "tags": []
     },
     "output_type": "display_data"
    },
    {
     "data": {
      "text/html": [
       "<pre>recommendations finished on 43000/58957 queries. users per second: 4616.25</pre>"
      ],
      "text/plain": [
       "recommendations finished on 43000/58957 queries. users per second: 4616.25"
      ]
     },
     "metadata": {
      "tags": []
     },
     "output_type": "display_data"
    },
    {
     "data": {
      "text/html": [
       "<pre>recommendations finished on 44000/58957 queries. users per second: 4615.85</pre>"
      ],
      "text/plain": [
       "recommendations finished on 44000/58957 queries. users per second: 4615.85"
      ]
     },
     "metadata": {
      "tags": []
     },
     "output_type": "display_data"
    },
    {
     "data": {
      "text/html": [
       "<pre>recommendations finished on 45000/58957 queries. users per second: 4617.82</pre>"
      ],
      "text/plain": [
       "recommendations finished on 45000/58957 queries. users per second: 4617.82"
      ]
     },
     "metadata": {
      "tags": []
     },
     "output_type": "display_data"
    },
    {
     "data": {
      "text/html": [
       "<pre>recommendations finished on 46000/58957 queries. users per second: 4619.53</pre>"
      ],
      "text/plain": [
       "recommendations finished on 46000/58957 queries. users per second: 4619.53"
      ]
     },
     "metadata": {
      "tags": []
     },
     "output_type": "display_data"
    },
    {
     "data": {
      "text/html": [
       "<pre>recommendations finished on 47000/58957 queries. users per second: 4617.59</pre>"
      ],
      "text/plain": [
       "recommendations finished on 47000/58957 queries. users per second: 4617.59"
      ]
     },
     "metadata": {
      "tags": []
     },
     "output_type": "display_data"
    },
    {
     "data": {
      "text/html": [
       "<pre>recommendations finished on 48000/58957 queries. users per second: 4620.15</pre>"
      ],
      "text/plain": [
       "recommendations finished on 48000/58957 queries. users per second: 4620.15"
      ]
     },
     "metadata": {
      "tags": []
     },
     "output_type": "display_data"
    },
    {
     "data": {
      "text/html": [
       "<pre>recommendations finished on 49000/58957 queries. users per second: 4616.34</pre>"
      ],
      "text/plain": [
       "recommendations finished on 49000/58957 queries. users per second: 4616.34"
      ]
     },
     "metadata": {
      "tags": []
     },
     "output_type": "display_data"
    },
    {
     "data": {
      "text/html": [
       "<pre>recommendations finished on 50000/58957 queries. users per second: 4617.15</pre>"
      ],
      "text/plain": [
       "recommendations finished on 50000/58957 queries. users per second: 4617.15"
      ]
     },
     "metadata": {
      "tags": []
     },
     "output_type": "display_data"
    },
    {
     "data": {
      "text/html": [
       "<pre>recommendations finished on 51000/58957 queries. users per second: 4619.44</pre>"
      ],
      "text/plain": [
       "recommendations finished on 51000/58957 queries. users per second: 4619.44"
      ]
     },
     "metadata": {
      "tags": []
     },
     "output_type": "display_data"
    },
    {
     "data": {
      "text/html": [
       "<pre>recommendations finished on 52000/58957 queries. users per second: 4619.06</pre>"
      ],
      "text/plain": [
       "recommendations finished on 52000/58957 queries. users per second: 4619.06"
      ]
     },
     "metadata": {
      "tags": []
     },
     "output_type": "display_data"
    },
    {
     "data": {
      "text/html": [
       "<pre>recommendations finished on 53000/58957 queries. users per second: 4615.29</pre>"
      ],
      "text/plain": [
       "recommendations finished on 53000/58957 queries. users per second: 4615.29"
      ]
     },
     "metadata": {
      "tags": []
     },
     "output_type": "display_data"
    },
    {
     "data": {
      "text/html": [
       "<pre>recommendations finished on 54000/58957 queries. users per second: 4614.37</pre>"
      ],
      "text/plain": [
       "recommendations finished on 54000/58957 queries. users per second: 4614.37"
      ]
     },
     "metadata": {
      "tags": []
     },
     "output_type": "display_data"
    },
    {
     "data": {
      "text/html": [
       "<pre>recommendations finished on 55000/58957 queries. users per second: 4617.48</pre>"
      ],
      "text/plain": [
       "recommendations finished on 55000/58957 queries. users per second: 4617.48"
      ]
     },
     "metadata": {
      "tags": []
     },
     "output_type": "display_data"
    },
    {
     "data": {
      "text/html": [
       "<pre>recommendations finished on 56000/58957 queries. users per second: 4616.39</pre>"
      ],
      "text/plain": [
       "recommendations finished on 56000/58957 queries. users per second: 4616.39"
      ]
     },
     "metadata": {
      "tags": []
     },
     "output_type": "display_data"
    },
    {
     "data": {
      "text/html": [
       "<pre>recommendations finished on 57000/58957 queries. users per second: 4616.4</pre>"
      ],
      "text/plain": [
       "recommendations finished on 57000/58957 queries. users per second: 4616.4"
      ]
     },
     "metadata": {
      "tags": []
     },
     "output_type": "display_data"
    },
    {
     "data": {
      "text/html": [
       "<pre>recommendations finished on 58000/58957 queries. users per second: 4618.74</pre>"
      ],
      "text/plain": [
       "recommendations finished on 58000/58957 queries. users per second: 4618.74"
      ]
     },
     "metadata": {
      "tags": []
     },
     "output_type": "display_data"
    }
   ],
   "source": [
    "results = model.recommend()"
   ]
  },
  {
   "cell_type": "code",
   "execution_count": 13,
   "metadata": {
    "colab": {
     "base_uri": "https://localhost:8080/"
    },
    "executionInfo": {
     "elapsed": 9495,
     "status": "ok",
     "timestamp": 1605858176949,
     "user": {
      "displayName": "Asnat Messica Greenst",
      "photoUrl": "",
      "userId": "14949188109355979794"
     },
     "user_tz": -120
    },
    "id": "KykmLIBYmDft",
    "outputId": "71109dbb-7671-4368-8569-2a54d6b7d32a"
   },
   "outputs": [
    {
     "name": "stdout",
     "output_type": "stream",
     "text": [
      "+--------+---------+--------------------+------+\n",
      "| userId | movieId |       score        | rank |\n",
      "+--------+---------+--------------------+------+\n",
      "|   1    |   2571  | 0.6964869751249041 |  1   |\n",
      "|   1    |   1270  | 0.6578884959220886 |  2   |\n",
      "|   1    |   1580  | 0.5610426310130529 |  3   |\n",
      "|   1    |   2115  | 0.5410117881638663 |  4   |\n",
      "|   1    |   1527  | 0.5375504503931318 |  5   |\n",
      "+--------+---------+--------------------+------+\n",
      "[5 rows x 4 columns]\n",
      "\n"
     ]
    }
   ],
   "source": [
    "print(results[0:5])"
   ]
  },
  {
   "cell_type": "markdown",
   "metadata": {
    "id": "Uik2lT1Q049h"
   },
   "source": [
    "\n",
    "<h1> Find Similar Items </h1>"
   ]
  },
  {
   "cell_type": "code",
   "execution_count": 14,
   "metadata": {
    "executionInfo": {
     "elapsed": 4920,
     "status": "ok",
     "timestamp": 1605858176949,
     "user": {
      "displayName": "Asnat Messica Greenst",
      "photoUrl": "",
      "userId": "14949188109355979794"
     },
     "user_tz": -120
    },
    "id": "xNeqsnk7049i"
   },
   "outputs": [],
   "source": [
    "similar_items = model.get_similar_items()"
   ]
  },
  {
   "cell_type": "code",
   "execution_count": 15,
   "metadata": {
    "colab": {
     "base_uri": "https://localhost:8080/"
    },
    "executionInfo": {
     "elapsed": 4033,
     "status": "ok",
     "timestamp": 1605858176950,
     "user": {
      "displayName": "Asnat Messica Greenst",
      "photoUrl": "",
      "userId": "14949188109355979794"
     },
     "user_tz": -120
    },
    "id": "oH0RUXR0049k",
    "outputId": "27609022-8c0f-45fb-c980-8e38ca16cad6"
   },
   "outputs": [
    {
     "name": "stdout",
     "output_type": "stream",
     "text": [
      "+---------+---------+---------------------+------+\n",
      "| movieId | similar |        score        | rank |\n",
      "+---------+---------+---------------------+------+\n",
      "|    2    |   367   |  0.5152812004089355 |  1   |\n",
      "|    2    |   500   |  0.5055213570594788 |  2   |\n",
      "|    2    |   364   |  0.5045807361602783 |  3   |\n",
      "|    2    |   586   | 0.49369752407073975 |  4   |\n",
      "|    2    |   480   |  0.491912841796875  |  5   |\n",
      "|    2    |   588   | 0.46647292375564575 |  6   |\n",
      "|    2    |   377   | 0.45924896001815796 |  7   |\n",
      "|    2    |   317   | 0.45645421743392944 |  8   |\n",
      "|    2    |   208   |  0.4472547173500061 |  9   |\n",
      "|    2    |   153   | 0.44424325227737427 |  10  |\n",
      "+---------+---------+---------------------+------+\n",
      "[142110 rows x 4 columns]\n",
      "Note: Only the head of the SFrame is printed.\n",
      "You can use print_rows(num_rows=m, num_columns=n) to print more rows and columns.\n"
     ]
    }
   ],
   "source": [
    "print(similar_items)"
   ]
  },
  {
   "cell_type": "markdown",
   "metadata": {
    "id": "8bLIrCG9my8t"
   },
   "source": [
    "<h1> Popularity Based Model<h1>"
   ]
  },
  {
   "cell_type": "code",
   "execution_count": 17,
   "metadata": {
    "colab": {
     "base_uri": "https://localhost:8080/",
     "height": 118
    },
    "executionInfo": {
     "elapsed": 12196,
     "status": "ok",
     "timestamp": 1605858388603,
     "user": {
      "displayName": "Asnat Messica Greenst",
      "photoUrl": "",
      "userId": "14949188109355979794"
     },
     "user_tz": -120
    },
    "id": "bgkgD76rnH3M",
    "outputId": "f3ed06b0-546b-464a-8daa-6c1aff7a9f35"
   },
   "outputs": [
    {
     "data": {
      "text/html": [
       "<pre>Warning: Ignoring columns timestamp;</pre>"
      ],
      "text/plain": [
       "Warning: Ignoring columns timestamp;"
      ]
     },
     "metadata": {
      "tags": []
     },
     "output_type": "display_data"
    },
    {
     "data": {
      "text/html": [
       "<pre>    To use these columns in scoring predictions, use a model that allows the use of additional features.</pre>"
      ],
      "text/plain": [
       "    To use these columns in scoring predictions, use a model that allows the use of additional features."
      ]
     },
     "metadata": {
      "tags": []
     },
     "output_type": "display_data"
    },
    {
     "data": {
      "text/html": [
       "<pre>Preparing data set.</pre>"
      ],
      "text/plain": [
       "Preparing data set."
      ]
     },
     "metadata": {
      "tags": []
     },
     "output_type": "display_data"
    },
    {
     "data": {
      "text/html": [
       "<pre>    Data has 8489725 observations with 58957 users and 14211 items.</pre>"
      ],
      "text/plain": [
       "    Data has 8489725 observations with 58957 users and 14211 items."
      ]
     },
     "metadata": {
      "tags": []
     },
     "output_type": "display_data"
    },
    {
     "data": {
      "text/html": [
       "<pre>    Data prepared in: 8.56526s</pre>"
      ],
      "text/plain": [
       "    Data prepared in: 8.56526s"
      ]
     },
     "metadata": {
      "tags": []
     },
     "output_type": "display_data"
    },
    {
     "data": {
      "text/html": [
       "<pre>8489725 observations to process; with 14211 unique items.</pre>"
      ],
      "text/plain": [
       "8489725 observations to process; with 14211 unique items."
      ]
     },
     "metadata": {
      "tags": []
     },
     "output_type": "display_data"
    }
   ],
   "source": [
    "pop_model = tc.popularity_recommender.create(training_data, 'userId','movieId',target=\"rating\")"
   ]
  },
  {
   "cell_type": "markdown",
   "metadata": {
    "id": "sCaKTqxE1MRc"
   },
   "source": [
    "<h1> Model Comparison <h1>"
   ]
  },
  {
   "cell_type": "code",
   "execution_count": 18,
   "metadata": {
    "colab": {
     "base_uri": "https://localhost:8080/",
     "height": 1000
    },
    "executionInfo": {
     "elapsed": 2690,
     "status": "ok",
     "timestamp": 1605858483648,
     "user": {
      "displayName": "Asnat Messica Greenst",
      "photoUrl": "",
      "userId": "14949188109355979794"
     },
     "user_tz": -120
    },
    "id": "hthf8Sj9ntF1",
    "outputId": "cf033570-3689-4648-845b-cbef5a6d9c8c"
   },
   "outputs": [
    {
     "name": "stdout",
     "output_type": "stream",
     "text": [
      "PROGRESS: Evaluate model item2item\n"
     ]
    },
    {
     "data": {
      "text/html": [
       "<pre>recommendations finished on 1000/1000 queries. users per second: 1798.07</pre>"
      ],
      "text/plain": [
       "recommendations finished on 1000/1000 queries. users per second: 1798.07"
      ]
     },
     "metadata": {
      "tags": []
     },
     "output_type": "display_data"
    },
    {
     "name": "stdout",
     "output_type": "stream",
     "text": [
      "\n",
      "Precision and recall summary statistics by cutoff\n",
      "+--------+---------------------+---------------------+\n",
      "| cutoff |    mean_precision   |     mean_recall     |\n",
      "+--------+---------------------+---------------------+\n",
      "|   1    |  0.3619999999999999 | 0.02547648725652714 |\n",
      "|   2    |        0.3285       | 0.04595736143781055 |\n",
      "|   3    |  0.3156666666666663 | 0.06499186837248325 |\n",
      "|   4    |        0.301        |  0.0788392797585694 |\n",
      "|   5    | 0.28820000000000007 | 0.09193025569575684 |\n",
      "|   6    |  0.2781666666666667 | 0.10368574283030746 |\n",
      "|   7    | 0.26528571428571424 | 0.11308066816648558 |\n",
      "|   8    | 0.25475000000000003 | 0.12146416860303044 |\n",
      "|   9    |  0.2498888888888889 | 0.13262686270302135 |\n",
      "|   10   | 0.24269999999999994 | 0.14088886689367552 |\n",
      "+--------+---------------------+---------------------+\n",
      "[10 rows x 3 columns]\n",
      "\n",
      "\n",
      "Overall RMSE: 3.4918197617743125\n",
      "\n",
      "Per User RMSE (best)\n",
      "+--------+--------------------+-------+\n",
      "| userId |        rmse        | count |\n",
      "+--------+--------------------+-------+\n",
      "| 38426  | 0.5130768167345148 |   1   |\n",
      "+--------+--------------------+-------+\n",
      "[1 rows x 3 columns]\n",
      "\n",
      "\n",
      "Per User RMSE (worst)\n",
      "+--------+-------------------+-------+\n",
      "| userId |        rmse       | count |\n",
      "+--------+-------------------+-------+\n",
      "| 43479  | 4.923024062187441 |   1   |\n",
      "+--------+-------------------+-------+\n",
      "[1 rows x 3 columns]\n",
      "\n",
      "\n",
      "Per Item RMSE (best)\n",
      "+---------+--------------------+-------+\n",
      "| movieId |        rmse        | count |\n",
      "+---------+--------------------+-------+\n",
      "|  43679  | 0.4825447597392905 |   1   |\n",
      "+---------+--------------------+-------+\n",
      "[1 rows x 3 columns]\n",
      "\n",
      "\n",
      "Per Item RMSE (worst)\n",
      "+---------+------+-------+\n",
      "| movieId | rmse | count |\n",
      "+---------+------+-------+\n",
      "|   6772  | 5.0  |   1   |\n",
      "+---------+------+-------+\n",
      "[1 rows x 3 columns]\n",
      "\n",
      "PROGRESS: Evaluate model popularity\n"
     ]
    },
    {
     "data": {
      "text/html": [
       "<pre>recommendations finished on 1000/1000 queries. users per second: 2210.02</pre>"
      ],
      "text/plain": [
       "recommendations finished on 1000/1000 queries. users per second: 2210.02"
      ]
     },
     "metadata": {
      "tags": []
     },
     "output_type": "display_data"
    },
    {
     "name": "stdout",
     "output_type": "stream",
     "text": [
      "\n",
      "Precision and recall summary statistics by cutoff\n",
      "+--------+----------------------+----------------------+\n",
      "| cutoff |    mean_precision    |     mean_recall      |\n",
      "+--------+----------------------+----------------------+\n",
      "|   1    |         0.0          |         0.0          |\n",
      "|   2    | 0.03850000000000001  | 0.005649709389925732 |\n",
      "|   3    | 0.02566666666666665  | 0.005649709389925734 |\n",
      "|   4    | 0.019249999999999996 | 0.005649709389925734 |\n",
      "|   5    | 0.015399999999999992 | 0.005649709389925734 |\n",
      "|   6    | 0.012833333333333327 | 0.005649709389925734 |\n",
      "|   7    | 0.011000000000000001 | 0.005649709389925734 |\n",
      "|   8    | 0.013125000000000001 | 0.007051907800636157 |\n",
      "|   9    | 0.01599999999999998  | 0.009316812257479054 |\n",
      "|   10   | 0.016999999999999987 | 0.010372305437016524 |\n",
      "+--------+----------------------+----------------------+\n",
      "[10 rows x 3 columns]\n",
      "\n",
      "\n",
      "Overall RMSE: 0.9315491453935739\n",
      "\n",
      "Per User RMSE (best)\n",
      "+--------+---------------------+-------+\n",
      "| userId |         rmse        | count |\n",
      "+--------+---------------------+-------+\n",
      "| 31021  | 0.04660278745644586 |   1   |\n",
      "+--------+---------------------+-------+\n",
      "[1 rows x 3 columns]\n",
      "\n",
      "\n",
      "Per User RMSE (worst)\n",
      "+--------+--------------------+-------+\n",
      "| userId |        rmse        | count |\n",
      "+--------+--------------------+-------+\n",
      "| 27291  | 2.7603929160603924 |   3   |\n",
      "+--------+--------------------+-------+\n",
      "[1 rows x 3 columns]\n",
      "\n",
      "\n",
      "Per Item RMSE (best)\n",
      "+---------+------+-------+\n",
      "| movieId | rmse | count |\n",
      "+---------+------+-------+\n",
      "|  99468  | 0.0  |   1   |\n",
      "+---------+------+-------+\n",
      "[1 rows x 3 columns]\n",
      "\n",
      "\n",
      "Per Item RMSE (worst)\n",
      "+---------+--------------------+-------+\n",
      "| movieId |        rmse        | count |\n",
      "+---------+--------------------+-------+\n",
      "|   6818  | 3.4849397590361444 |   1   |\n",
      "+---------+--------------------+-------+\n",
      "[1 rows x 3 columns]\n",
      "\n"
     ]
    },
    {
     "data": {
      "text/plain": [
       "[{'precision_recall_by_user': Columns:\n",
       "  \tuserId\tint\n",
       "  \tcutoff\tint\n",
       "  \tprecision\tfloat\n",
       "  \trecall\tfloat\n",
       "  \tcount\tint\n",
       "  \n",
       "  Rows: 18000\n",
       "  \n",
       "  Data:\n",
       "  +--------+--------+-----------+--------+-------+\n",
       "  | userId | cutoff | precision | recall | count |\n",
       "  +--------+--------+-----------+--------+-------+\n",
       "  | 29099  |   1    |    0.0    |  0.0   |   30  |\n",
       "  | 29099  |   2    |    0.0    |  0.0   |   30  |\n",
       "  | 29099  |   3    |    0.0    |  0.0   |   30  |\n",
       "  | 29099  |   4    |    0.0    |  0.0   |   30  |\n",
       "  | 29099  |   5    |    0.0    |  0.0   |   30  |\n",
       "  | 29099  |   6    |    0.0    |  0.0   |   30  |\n",
       "  | 29099  |   7    |    0.0    |  0.0   |   30  |\n",
       "  | 29099  |   8    |    0.0    |  0.0   |   30  |\n",
       "  | 29099  |   9    |    0.0    |  0.0   |   30  |\n",
       "  | 29099  |   10   |    0.0    |  0.0   |   30  |\n",
       "  +--------+--------+-----------+--------+-------+\n",
       "  [18000 rows x 5 columns]\n",
       "  Note: Only the head of the SFrame is printed.\n",
       "  You can use print_rows(num_rows=m, num_columns=n) to print more rows and columns.,\n",
       "  'precision_recall_overall': Columns:\n",
       "  \tcutoff\tint\n",
       "  \tprecision\tfloat\n",
       "  \trecall\tfloat\n",
       "  \n",
       "  Rows: 18\n",
       "  \n",
       "  Data:\n",
       "  +--------+---------------------+---------------------+\n",
       "  | cutoff |      precision      |        recall       |\n",
       "  +--------+---------------------+---------------------+\n",
       "  |   1    | 0.36199999999999993 | 0.02547648725652716 |\n",
       "  |   2    |  0.3284999999999999 | 0.04595736143781056 |\n",
       "  |   3    |  0.3156666666666663 | 0.06499186837248319 |\n",
       "  |   4    |  0.3010000000000001 | 0.07883927975856936 |\n",
       "  |   5    |  0.2882000000000001 |  0.0919302556957568 |\n",
       "  |   6    | 0.27816666666666656 | 0.10368574283030747 |\n",
       "  |   7    |  0.2652857142857144 | 0.11308066816648567 |\n",
       "  |   8    |  0.2547499999999999 | 0.12146416860303046 |\n",
       "  |   9    | 0.24988888888888902 |  0.1326268627030213 |\n",
       "  |   10   | 0.24270000000000008 | 0.14088886689367558 |\n",
       "  +--------+---------------------+---------------------+\n",
       "  [18 rows x 3 columns]\n",
       "  Note: Only the head of the SFrame is printed.\n",
       "  You can use print_rows(num_rows=m, num_columns=n) to print more rows and columns.,\n",
       "  'rmse_by_item': Columns:\n",
       "  \tmovieId\tint\n",
       "  \trmse\tfloat\n",
       "  \tcount\tint\n",
       "  \n",
       "  Rows: 5421\n",
       "  \n",
       "  Data:\n",
       "  +---------+--------------------+-------+\n",
       "  | movieId |        rmse        | count |\n",
       "  +---------+--------------------+-------+\n",
       "  |   5288  |        3.5         |   1   |\n",
       "  |  96281  | 3.4651972866720624 |   1   |\n",
       "  |  61406  | 3.4992933714327448 |   1   |\n",
       "  |  26561  | 3.4883922934532166 |   1   |\n",
       "  |   2035  | 3.9861363379406356 |   1   |\n",
       "  |   1611  | 3.372435485423245  |   5   |\n",
       "  |  42728  | 3.0621834249177478 |   3   |\n",
       "  |  31270  | 3.4948521269562773 |   1   |\n",
       "  |   2779  | 4.180957357594949  |   4   |\n",
       "  |   3988  | 2.8557196700234906 |   8   |\n",
       "  +---------+--------------------+-------+\n",
       "  [5421 rows x 3 columns]\n",
       "  Note: Only the head of the SFrame is printed.\n",
       "  You can use print_rows(num_rows=m, num_columns=n) to print more rows and columns.,\n",
       "  'rmse_by_user': Columns:\n",
       "  \tuserId\tint\n",
       "  \trmse\tfloat\n",
       "  \tcount\tint\n",
       "  \n",
       "  Rows: 1000\n",
       "  \n",
       "  Data:\n",
       "  +--------+--------------------+-------+\n",
       "  | userId |        rmse        | count |\n",
       "  +--------+--------------------+-------+\n",
       "  | 33105  | 3.717658464147923  |   28  |\n",
       "  | 25926  | 3.877858820552869  |   29  |\n",
       "  | 28012  | 3.484344078219774  |   20  |\n",
       "  |  3159  | 3.141500323878683  |   8   |\n",
       "  | 14451  | 4.072594032897611  |  136  |\n",
       "  | 27530  | 3.886667584454628  |   46  |\n",
       "  | 21451  | 3.981299519250892  |   17  |\n",
       "  | 32356  | 3.689924690847072  |   5   |\n",
       "  | 30593  | 3.4607503901171137 |   8   |\n",
       "  | 21918  | 3.095370499041059  |   9   |\n",
       "  +--------+--------------------+-------+\n",
       "  [1000 rows x 3 columns]\n",
       "  Note: Only the head of the SFrame is printed.\n",
       "  You can use print_rows(num_rows=m, num_columns=n) to print more rows and columns.,\n",
       "  'rmse_overall': 3.4918197617743125},\n",
       " {'precision_recall_by_user': Columns:\n",
       "  \tuserId\tint\n",
       "  \tcutoff\tint\n",
       "  \tprecision\tfloat\n",
       "  \trecall\tfloat\n",
       "  \tcount\tint\n",
       "  \n",
       "  Rows: 18000\n",
       "  \n",
       "  Data:\n",
       "  +--------+--------+-----------+--------+-------+\n",
       "  | userId | cutoff | precision | recall | count |\n",
       "  +--------+--------+-----------+--------+-------+\n",
       "  | 29099  |   1    |    0.0    |  0.0   |   30  |\n",
       "  | 29099  |   2    |    0.0    |  0.0   |   30  |\n",
       "  | 29099  |   3    |    0.0    |  0.0   |   30  |\n",
       "  | 29099  |   4    |    0.0    |  0.0   |   30  |\n",
       "  | 29099  |   5    |    0.0    |  0.0   |   30  |\n",
       "  | 29099  |   6    |    0.0    |  0.0   |   30  |\n",
       "  | 29099  |   7    |    0.0    |  0.0   |   30  |\n",
       "  | 29099  |   8    |    0.0    |  0.0   |   30  |\n",
       "  | 29099  |   9    |    0.0    |  0.0   |   30  |\n",
       "  | 29099  |   10   |    0.0    |  0.0   |   30  |\n",
       "  +--------+--------+-----------+--------+-------+\n",
       "  [18000 rows x 5 columns]\n",
       "  Note: Only the head of the SFrame is printed.\n",
       "  You can use print_rows(num_rows=m, num_columns=n) to print more rows and columns.,\n",
       "  'precision_recall_overall': Columns:\n",
       "  \tcutoff\tint\n",
       "  \tprecision\tfloat\n",
       "  \trecall\tfloat\n",
       "  \n",
       "  Rows: 18\n",
       "  \n",
       "  Data:\n",
       "  +--------+----------------------+-----------------------+\n",
       "  | cutoff |      precision       |         recall        |\n",
       "  +--------+----------------------+-----------------------+\n",
       "  |   1    |         0.0          |          0.0          |\n",
       "  |   2    | 0.03850000000000001  |  0.005649709389925735 |\n",
       "  |   3    | 0.025666666666666647 |  0.005649709389925732 |\n",
       "  |   4    | 0.019250000000000007 |  0.005649709389925732 |\n",
       "  |   5    | 0.015399999999999988 |  0.005649709389925732 |\n",
       "  |   6    | 0.012833333333333325 |  0.005649709389925732 |\n",
       "  |   7    |        0.011         |  0.005649709389925733 |\n",
       "  |   8    |       0.013125       | 0.0070519078006361525 |\n",
       "  |   9    | 0.015999999999999966 |  0.009316812257479061 |\n",
       "  |   10   | 0.016999999999999998 |  0.010372305437016517 |\n",
       "  +--------+----------------------+-----------------------+\n",
       "  [18 rows x 3 columns]\n",
       "  Note: Only the head of the SFrame is printed.\n",
       "  You can use print_rows(num_rows=m, num_columns=n) to print more rows and columns.,\n",
       "  'rmse_by_item': Columns:\n",
       "  \tmovieId\tint\n",
       "  \trmse\tfloat\n",
       "  \tcount\tint\n",
       "  \n",
       "  Rows: 5421\n",
       "  \n",
       "  Data:\n",
       "  +---------+----------------------+-------+\n",
       "  | movieId |         rmse         | count |\n",
       "  +---------+----------------------+-------+\n",
       "  |   5288  | 0.38844621513944233  |   1   |\n",
       "  |  96281  | 0.011560693641618602 |   1   |\n",
       "  |  61406  |  0.2666666666666666  |   1   |\n",
       "  |  26561  | 0.16666666666666652  |   1   |\n",
       "  |   2035  |  0.8079999999999998  |   1   |\n",
       "  |   1611  |  0.7564924237894112  |   5   |\n",
       "  |  42728  |  1.3417084523351386  |   3   |\n",
       "  |  31270  |  0.1730769230769229  |   1   |\n",
       "  |   2779  |  0.8255376538097193  |   4   |\n",
       "  |   3988  |  1.4489820813171814  |   8   |\n",
       "  +---------+----------------------+-------+\n",
       "  [5421 rows x 3 columns]\n",
       "  Note: Only the head of the SFrame is printed.\n",
       "  You can use print_rows(num_rows=m, num_columns=n) to print more rows and columns.,\n",
       "  'rmse_by_user': Columns:\n",
       "  \tuserId\tint\n",
       "  \trmse\tfloat\n",
       "  \tcount\tint\n",
       "  \n",
       "  Rows: 1000\n",
       "  \n",
       "  Data:\n",
       "  +--------+--------------------+-------+\n",
       "  | userId |        rmse        | count |\n",
       "  +--------+--------------------+-------+\n",
       "  | 33105  | 0.7310077309328579 |   28  |\n",
       "  | 25926  | 0.7274369328532414 |   29  |\n",
       "  | 28012  | 0.8821923556282761 |   20  |\n",
       "  |  3159  | 2.1873094688371246 |   8   |\n",
       "  | 14451  | 0.7208450168417021 |  136  |\n",
       "  | 27530  | 0.6856845009157924 |   46  |\n",
       "  | 21451  | 0.7946466035087777 |   17  |\n",
       "  | 32356  | 0.8896758578178295 |   5   |\n",
       "  | 30593  | 0.7259754418352399 |   8   |\n",
       "  | 21918  | 1.3930914508624845 |   9   |\n",
       "  +--------+--------------------+-------+\n",
       "  [1000 rows x 3 columns]\n",
       "  Note: Only the head of the SFrame is printed.\n",
       "  You can use print_rows(num_rows=m, num_columns=n) to print more rows and columns.,\n",
       "  'rmse_overall': 0.9315491453935739}]"
      ]
     },
     "execution_count": 18,
     "metadata": {
      "tags": []
     },
     "output_type": "execute_result"
    }
   ],
   "source": [
    "tc.recommender.util.compare_models(validation_data, [model, pop_model], model_names=[\"item2item\", \"popularity\"])"
   ]
  },
  {
   "cell_type": "markdown",
   "metadata": {
    "id": "HWK9Pzis1WfU"
   },
   "source": [
    "<h1> Adding Item to Item similiarty by Pearson correlation <h1>"
   ]
  },
  {
   "cell_type": "code",
   "execution_count": 25,
   "metadata": {
    "colab": {
     "base_uri": "https://localhost:8080/",
     "height": 840
    },
    "executionInfo": {
     "elapsed": 90540,
     "status": "ok",
     "timestamp": 1605861169444,
     "user": {
      "displayName": "Asnat Messica Greenst",
      "photoUrl": "",
      "userId": "14949188109355979794"
     },
     "user_tz": -120
    },
    "id": "_Eg4sxC6xlPQ",
    "outputId": "edb5dd15-3a40-4257-e241-de46ccad86f2"
   },
   "outputs": [
    {
     "data": {
      "text/html": [
       "<pre>Warning: Ignoring columns timestamp;</pre>"
      ],
      "text/plain": [
       "Warning: Ignoring columns timestamp;"
      ]
     },
     "metadata": {
      "tags": []
     },
     "output_type": "display_data"
    },
    {
     "data": {
      "text/html": [
       "<pre>    To use these columns in scoring predictions, use a model that allows the use of additional features.</pre>"
      ],
      "text/plain": [
       "    To use these columns in scoring predictions, use a model that allows the use of additional features."
      ]
     },
     "metadata": {
      "tags": []
     },
     "output_type": "display_data"
    },
    {
     "data": {
      "text/html": [
       "<pre>Preparing data set.</pre>"
      ],
      "text/plain": [
       "Preparing data set."
      ]
     },
     "metadata": {
      "tags": []
     },
     "output_type": "display_data"
    },
    {
     "data": {
      "text/html": [
       "<pre>    Data has 8489725 observations with 58957 users and 14211 items.</pre>"
      ],
      "text/plain": [
       "    Data has 8489725 observations with 58957 users and 14211 items."
      ]
     },
     "metadata": {
      "tags": []
     },
     "output_type": "display_data"
    },
    {
     "data": {
      "text/html": [
       "<pre>    Data prepared in: 8.37343s</pre>"
      ],
      "text/plain": [
       "    Data prepared in: 8.37343s"
      ]
     },
     "metadata": {
      "tags": []
     },
     "output_type": "display_data"
    },
    {
     "data": {
      "text/html": [
       "<pre>Training model from provided data.</pre>"
      ],
      "text/plain": [
       "Training model from provided data."
      ]
     },
     "metadata": {
      "tags": []
     },
     "output_type": "display_data"
    },
    {
     "data": {
      "text/html": [
       "<pre>Gathering per-item and per-user statistics.</pre>"
      ],
      "text/plain": [
       "Gathering per-item and per-user statistics."
      ]
     },
     "metadata": {
      "tags": []
     },
     "output_type": "display_data"
    },
    {
     "data": {
      "text/html": [
       "<pre>+--------------------------------+------------+</pre>"
      ],
      "text/plain": [
       "+--------------------------------+------------+"
      ]
     },
     "metadata": {
      "tags": []
     },
     "output_type": "display_data"
    },
    {
     "data": {
      "text/html": [
       "<pre>| Elapsed Time (Item Statistics) | % Complete |</pre>"
      ],
      "text/plain": [
       "| Elapsed Time (Item Statistics) | % Complete |"
      ]
     },
     "metadata": {
      "tags": []
     },
     "output_type": "display_data"
    },
    {
     "data": {
      "text/html": [
       "<pre>+--------------------------------+------------+</pre>"
      ],
      "text/plain": [
       "+--------------------------------+------------+"
      ]
     },
     "metadata": {
      "tags": []
     },
     "output_type": "display_data"
    },
    {
     "data": {
      "text/html": [
       "<pre>| 21.668ms                       | 1.5        |</pre>"
      ],
      "text/plain": [
       "| 21.668ms                       | 1.5        |"
      ]
     },
     "metadata": {
      "tags": []
     },
     "output_type": "display_data"
    },
    {
     "data": {
      "text/html": [
       "<pre>| 397.429ms                      | 100        |</pre>"
      ],
      "text/plain": [
       "| 397.429ms                      | 100        |"
      ]
     },
     "metadata": {
      "tags": []
     },
     "output_type": "display_data"
    },
    {
     "data": {
      "text/html": [
       "<pre>+--------------------------------+------------+</pre>"
      ],
      "text/plain": [
       "+--------------------------------+------------+"
      ]
     },
     "metadata": {
      "tags": []
     },
     "output_type": "display_data"
    },
    {
     "data": {
      "text/html": [
       "<pre>Setting up lookup tables.</pre>"
      ],
      "text/plain": [
       "Setting up lookup tables."
      ]
     },
     "metadata": {
      "tags": []
     },
     "output_type": "display_data"
    },
    {
     "data": {
      "text/html": [
       "<pre>Processing data in one pass using dense lookup tables.</pre>"
      ],
      "text/plain": [
       "Processing data in one pass using dense lookup tables."
      ]
     },
     "metadata": {
      "tags": []
     },
     "output_type": "display_data"
    },
    {
     "data": {
      "text/html": [
       "<pre>+-------------------------------------+------------------+-----------------+</pre>"
      ],
      "text/plain": [
       "+-------------------------------------+------------------+-----------------+"
      ]
     },
     "metadata": {
      "tags": []
     },
     "output_type": "display_data"
    },
    {
     "data": {
      "text/html": [
       "<pre>| Elapsed Time (Constructing Lookups) | Total % Complete | Items Processed |</pre>"
      ],
      "text/plain": [
       "| Elapsed Time (Constructing Lookups) | Total % Complete | Items Processed |"
      ]
     },
     "metadata": {
      "tags": []
     },
     "output_type": "display_data"
    },
    {
     "data": {
      "text/html": [
       "<pre>+-------------------------------------+------------------+-----------------+</pre>"
      ],
      "text/plain": [
       "+-------------------------------------+------------------+-----------------+"
      ]
     },
     "metadata": {
      "tags": []
     },
     "output_type": "display_data"
    },
    {
     "data": {
      "text/html": [
       "<pre>| 719.951ms                           | 0                | 0               |</pre>"
      ],
      "text/plain": [
       "| 719.951ms                           | 0                | 0               |"
      ]
     },
     "metadata": {
      "tags": []
     },
     "output_type": "display_data"
    },
    {
     "data": {
      "text/html": [
       "<pre>| 3.71s                               | 4                | 585             |</pre>"
      ],
      "text/plain": [
       "| 3.71s                               | 4                | 585             |"
      ]
     },
     "metadata": {
      "tags": []
     },
     "output_type": "display_data"
    },
    {
     "data": {
      "text/html": [
       "<pre>| 6.71s                               | 7.75             | 1135            |</pre>"
      ],
      "text/plain": [
       "| 6.71s                               | 7.75             | 1135            |"
      ]
     },
     "metadata": {
      "tags": []
     },
     "output_type": "display_data"
    },
    {
     "data": {
      "text/html": [
       "<pre>| 9.71s                               | 11.75            | 1676            |</pre>"
      ],
      "text/plain": [
       "| 9.71s                               | 11.75            | 1676            |"
      ]
     },
     "metadata": {
      "tags": []
     },
     "output_type": "display_data"
    },
    {
     "data": {
      "text/html": [
       "<pre>| 12.71s                              | 15.75            | 2249            |</pre>"
      ],
      "text/plain": [
       "| 12.71s                              | 15.75            | 2249            |"
      ]
     },
     "metadata": {
      "tags": []
     },
     "output_type": "display_data"
    },
    {
     "data": {
      "text/html": [
       "<pre>| 15.71s                              | 19.75            | 2817            |</pre>"
      ],
      "text/plain": [
       "| 15.71s                              | 19.75            | 2817            |"
      ]
     },
     "metadata": {
      "tags": []
     },
     "output_type": "display_data"
    },
    {
     "data": {
      "text/html": [
       "<pre>| 18.73s                              | 23.5             | 3365            |</pre>"
      ],
      "text/plain": [
       "| 18.73s                              | 23.5             | 3365            |"
      ]
     },
     "metadata": {
      "tags": []
     },
     "output_type": "display_data"
    },
    {
     "data": {
      "text/html": [
       "<pre>| 21.72s                              | 27.25            | 3884            |</pre>"
      ],
      "text/plain": [
       "| 21.72s                              | 27.25            | 3884            |"
      ]
     },
     "metadata": {
      "tags": []
     },
     "output_type": "display_data"
    },
    {
     "data": {
      "text/html": [
       "<pre>| 24.71s                              | 31.75            | 4514            |</pre>"
      ],
      "text/plain": [
       "| 24.71s                              | 31.75            | 4514            |"
      ]
     },
     "metadata": {
      "tags": []
     },
     "output_type": "display_data"
    },
    {
     "data": {
      "text/html": [
       "<pre>| 27.74s                              | 35.5             | 5076            |</pre>"
      ],
      "text/plain": [
       "| 27.74s                              | 35.5             | 5076            |"
      ]
     },
     "metadata": {
      "tags": []
     },
     "output_type": "display_data"
    },
    {
     "data": {
      "text/html": [
       "<pre>| 30.72s                              | 39.25            | 5596            |</pre>"
      ],
      "text/plain": [
       "| 30.72s                              | 39.25            | 5596            |"
      ]
     },
     "metadata": {
      "tags": []
     },
     "output_type": "display_data"
    },
    {
     "data": {
      "text/html": [
       "<pre>| 33.71s                              | 43.25            | 6171            |</pre>"
      ],
      "text/plain": [
       "| 33.71s                              | 43.25            | 6171            |"
      ]
     },
     "metadata": {
      "tags": []
     },
     "output_type": "display_data"
    },
    {
     "data": {
      "text/html": [
       "<pre>| 36.73s                              | 47               | 6711            |</pre>"
      ],
      "text/plain": [
       "| 36.73s                              | 47               | 6711            |"
      ]
     },
     "metadata": {
      "tags": []
     },
     "output_type": "display_data"
    },
    {
     "data": {
      "text/html": [
       "<pre>| 39.71s                              | 51               | 7263            |</pre>"
      ],
      "text/plain": [
       "| 39.71s                              | 51               | 7263            |"
      ]
     },
     "metadata": {
      "tags": []
     },
     "output_type": "display_data"
    },
    {
     "data": {
      "text/html": [
       "<pre>| 42.71s                              | 55               | 7825            |</pre>"
      ],
      "text/plain": [
       "| 42.71s                              | 55               | 7825            |"
      ]
     },
     "metadata": {
      "tags": []
     },
     "output_type": "display_data"
    },
    {
     "data": {
      "text/html": [
       "<pre>| 45.71s                              | 58.75            | 8373            |</pre>"
      ],
      "text/plain": [
       "| 45.71s                              | 58.75            | 8373            |"
      ]
     },
     "metadata": {
      "tags": []
     },
     "output_type": "display_data"
    },
    {
     "data": {
      "text/html": [
       "<pre>| 48.72s                              | 62.5             | 8889            |</pre>"
      ],
      "text/plain": [
       "| 48.72s                              | 62.5             | 8889            |"
      ]
     },
     "metadata": {
      "tags": []
     },
     "output_type": "display_data"
    },
    {
     "data": {
      "text/html": [
       "<pre>| 51.72s                              | 66.25            | 9425            |</pre>"
      ],
      "text/plain": [
       "| 51.72s                              | 66.25            | 9425            |"
      ]
     },
     "metadata": {
      "tags": []
     },
     "output_type": "display_data"
    },
    {
     "data": {
      "text/html": [
       "<pre>| 54.72s                              | 70               | 9965            |</pre>"
      ],
      "text/plain": [
       "| 54.72s                              | 70               | 9965            |"
      ]
     },
     "metadata": {
      "tags": []
     },
     "output_type": "display_data"
    },
    {
     "data": {
      "text/html": [
       "<pre>| 57.72s                              | 74               | 10517           |</pre>"
      ],
      "text/plain": [
       "| 57.72s                              | 74               | 10517           |"
      ]
     },
     "metadata": {
      "tags": []
     },
     "output_type": "display_data"
    },
    {
     "data": {
      "text/html": [
       "<pre>| 1m 0s                               | 77.75            | 11076           |</pre>"
      ],
      "text/plain": [
       "| 1m 0s                               | 77.75            | 11076           |"
      ]
     },
     "metadata": {
      "tags": []
     },
     "output_type": "display_data"
    },
    {
     "data": {
      "text/html": [
       "<pre>| 1m 3s                               | 82               | 11662           |</pre>"
      ],
      "text/plain": [
       "| 1m 3s                               | 82               | 11662           |"
      ]
     },
     "metadata": {
      "tags": []
     },
     "output_type": "display_data"
    },
    {
     "data": {
      "text/html": [
       "<pre>| 1m 6s                               | 85.75            | 12198           |</pre>"
      ],
      "text/plain": [
       "| 1m 6s                               | 85.75            | 12198           |"
      ]
     },
     "metadata": {
      "tags": []
     },
     "output_type": "display_data"
    },
    {
     "data": {
      "text/html": [
       "<pre>| 1m 9s                               | 89.5             | 12742           |</pre>"
      ],
      "text/plain": [
       "| 1m 9s                               | 89.5             | 12742           |"
      ]
     },
     "metadata": {
      "tags": []
     },
     "output_type": "display_data"
    },
    {
     "data": {
      "text/html": [
       "<pre>| 1m 12s                              | 93.25            | 13274           |</pre>"
      ],
      "text/plain": [
       "| 1m 12s                              | 93.25            | 13274           |"
      ]
     },
     "metadata": {
      "tags": []
     },
     "output_type": "display_data"
    },
    {
     "data": {
      "text/html": [
       "<pre>| 1m 15s                              | 97               | 13798           |</pre>"
      ],
      "text/plain": [
       "| 1m 15s                              | 97               | 13798           |"
      ]
     },
     "metadata": {
      "tags": []
     },
     "output_type": "display_data"
    },
    {
     "data": {
      "text/html": [
       "<pre>| 1m 21s                              | 100              | 14211           |</pre>"
      ],
      "text/plain": [
       "| 1m 21s                              | 100              | 14211           |"
      ]
     },
     "metadata": {
      "tags": []
     },
     "output_type": "display_data"
    },
    {
     "data": {
      "text/html": [
       "<pre>+-------------------------------------+------------------+-----------------+</pre>"
      ],
      "text/plain": [
       "+-------------------------------------+------------------+-----------------+"
      ]
     },
     "metadata": {
      "tags": []
     },
     "output_type": "display_data"
    },
    {
     "data": {
      "text/html": [
       "<pre>Finalizing lookup tables.</pre>"
      ],
      "text/plain": [
       "Finalizing lookup tables."
      ]
     },
     "metadata": {
      "tags": []
     },
     "output_type": "display_data"
    },
    {
     "data": {
      "text/html": [
       "<pre>Generating candidate set for working with new users.</pre>"
      ],
      "text/plain": [
       "Generating candidate set for working with new users."
      ]
     },
     "metadata": {
      "tags": []
     },
     "output_type": "display_data"
    },
    {
     "data": {
      "text/html": [
       "<pre>Finished training in 81.5902s</pre>"
      ],
      "text/plain": [
       "Finished training in 81.5902s"
      ]
     },
     "metadata": {
      "tags": []
     },
     "output_type": "display_data"
    }
   ],
   "source": [
    "pearson_model = tc.item_similarity_recommender.create(training_data, 'userId','movieId',target=\"rating\",similarity_type='pearson')"
   ]
  },
  {
   "cell_type": "code",
   "execution_count": 26,
   "metadata": {
    "colab": {
     "base_uri": "https://localhost:8080/",
     "height": 1000
    },
    "executionInfo": {
     "elapsed": 3539,
     "status": "ok",
     "timestamp": 1605861230330,
     "user": {
      "displayName": "Asnat Messica Greenst",
      "photoUrl": "",
      "userId": "14949188109355979794"
     },
     "user_tz": -120
    },
    "id": "jCXFK5kvx8PQ",
    "outputId": "9a78f6a7-68b2-4ab0-f3a2-6932ea52c4c2"
   },
   "outputs": [
    {
     "name": "stdout",
     "output_type": "stream",
     "text": [
      "PROGRESS: Evaluate model item2item\n"
     ]
    },
    {
     "data": {
      "text/html": [
       "<pre>recommendations finished on 1000/1000 queries. users per second: 1894.49</pre>"
      ],
      "text/plain": [
       "recommendations finished on 1000/1000 queries. users per second: 1894.49"
      ]
     },
     "metadata": {
      "tags": []
     },
     "output_type": "display_data"
    },
    {
     "name": "stdout",
     "output_type": "stream",
     "text": [
      "\n",
      "Precision and recall summary statistics by cutoff\n",
      "+--------+---------------------+----------------------+\n",
      "| cutoff |    mean_precision   |     mean_recall      |\n",
      "+--------+---------------------+----------------------+\n",
      "|   1    |        0.362        | 0.025476487256527142 |\n",
      "|   2    | 0.32850000000000007 | 0.04595736143781055  |\n",
      "|   3    |  0.3156666666666666 | 0.06499186837248316  |\n",
      "|   4    |        0.301        | 0.07883927975856937  |\n",
      "|   5    |  0.2881999999999999 | 0.09193025569575682  |\n",
      "|   6    |  0.2781666666666665 | 0.10368574283030747  |\n",
      "|   7    |  0.2652857142857143 | 0.11308066816648563  |\n",
      "|   8    | 0.25474999999999987 | 0.12146416860303041  |\n",
      "|   9    | 0.24988888888888885 | 0.13262686270302135  |\n",
      "|   10   |  0.2427000000000001 |  0.1408888668936755  |\n",
      "+--------+---------------------+----------------------+\n",
      "[10 rows x 3 columns]\n",
      "\n",
      "\n",
      "Overall RMSE: 3.4918197617743125\n",
      "\n",
      "Per User RMSE (best)\n",
      "+--------+--------------------+-------+\n",
      "| userId |        rmse        | count |\n",
      "+--------+--------------------+-------+\n",
      "| 38426  | 0.5130768167345148 |   1   |\n",
      "+--------+--------------------+-------+\n",
      "[1 rows x 3 columns]\n",
      "\n",
      "\n",
      "Per User RMSE (worst)\n",
      "+--------+-------------------+-------+\n",
      "| userId |        rmse       | count |\n",
      "+--------+-------------------+-------+\n",
      "| 43479  | 4.923024062187441 |   1   |\n",
      "+--------+-------------------+-------+\n",
      "[1 rows x 3 columns]\n",
      "\n",
      "\n",
      "Per Item RMSE (best)\n",
      "+---------+--------------------+-------+\n",
      "| movieId |        rmse        | count |\n",
      "+---------+--------------------+-------+\n",
      "|  43679  | 0.4825447597392905 |   1   |\n",
      "+---------+--------------------+-------+\n",
      "[1 rows x 3 columns]\n",
      "\n",
      "\n",
      "Per Item RMSE (worst)\n",
      "+---------+------+-------+\n",
      "| movieId | rmse | count |\n",
      "+---------+------+-------+\n",
      "|   6772  | 5.0  |   1   |\n",
      "+---------+------+-------+\n",
      "[1 rows x 3 columns]\n",
      "\n",
      "PROGRESS: Evaluate model popularity\n"
     ]
    },
    {
     "data": {
      "text/html": [
       "<pre>recommendations finished on 1000/1000 queries. users per second: 2156.89</pre>"
      ],
      "text/plain": [
       "recommendations finished on 1000/1000 queries. users per second: 2156.89"
      ]
     },
     "metadata": {
      "tags": []
     },
     "output_type": "display_data"
    },
    {
     "name": "stdout",
     "output_type": "stream",
     "text": [
      "\n",
      "Precision and recall summary statistics by cutoff\n",
      "+--------+----------------------+----------------------+\n",
      "| cutoff |    mean_precision    |     mean_recall      |\n",
      "+--------+----------------------+----------------------+\n",
      "|   1    |         0.0          |         0.0          |\n",
      "|   2    | 0.03850000000000001  | 0.005649709389925732 |\n",
      "|   3    | 0.02566666666666665  | 0.005649709389925734 |\n",
      "|   4    | 0.019249999999999996 | 0.005649709389925734 |\n",
      "|   5    | 0.015399999999999992 | 0.005649709389925734 |\n",
      "|   6    | 0.012833333333333327 | 0.005649709389925734 |\n",
      "|   7    | 0.011000000000000001 | 0.005649709389925734 |\n",
      "|   8    | 0.013125000000000001 | 0.007051907800636157 |\n",
      "|   9    | 0.01599999999999998  | 0.009316812257479054 |\n",
      "|   10   | 0.016999999999999987 | 0.010372305437016524 |\n",
      "+--------+----------------------+----------------------+\n",
      "[10 rows x 3 columns]\n",
      "\n",
      "\n",
      "Overall RMSE: 0.9315491453935739\n",
      "\n",
      "Per User RMSE (best)\n",
      "+--------+---------------------+-------+\n",
      "| userId |         rmse        | count |\n",
      "+--------+---------------------+-------+\n",
      "| 31021  | 0.04660278745644586 |   1   |\n",
      "+--------+---------------------+-------+\n",
      "[1 rows x 3 columns]\n",
      "\n",
      "\n",
      "Per User RMSE (worst)\n",
      "+--------+--------------------+-------+\n",
      "| userId |        rmse        | count |\n",
      "+--------+--------------------+-------+\n",
      "| 27291  | 2.7603929160603924 |   3   |\n",
      "+--------+--------------------+-------+\n",
      "[1 rows x 3 columns]\n",
      "\n",
      "\n",
      "Per Item RMSE (best)\n",
      "+---------+------+-------+\n",
      "| movieId | rmse | count |\n",
      "+---------+------+-------+\n",
      "|  99468  | 0.0  |   1   |\n",
      "+---------+------+-------+\n",
      "[1 rows x 3 columns]\n",
      "\n",
      "\n",
      "Per Item RMSE (worst)\n",
      "+---------+--------------------+-------+\n",
      "| movieId |        rmse        | count |\n",
      "+---------+--------------------+-------+\n",
      "|   6818  | 3.4849397590361444 |   1   |\n",
      "+---------+--------------------+-------+\n",
      "[1 rows x 3 columns]\n",
      "\n",
      "PROGRESS: Evaluate model pearson\n"
     ]
    },
    {
     "data": {
      "text/html": [
       "<pre>recommendations finished on 1000/1000 queries. users per second: 1818.83</pre>"
      ],
      "text/plain": [
       "recommendations finished on 1000/1000 queries. users per second: 1818.83"
      ]
     },
     "metadata": {
      "tags": []
     },
     "output_type": "display_data"
    },
    {
     "name": "stdout",
     "output_type": "stream",
     "text": [
      "\n",
      "Precision and recall summary statistics by cutoff\n",
      "+--------+----------------------+-----------------------+\n",
      "| cutoff |    mean_precision    |      mean_recall      |\n",
      "+--------+----------------------+-----------------------+\n",
      "|   1    |         0.0          |          0.0          |\n",
      "|   2    | 0.027000000000000003 | 0.0038532665672431302 |\n",
      "|   3    | 0.024999999999999988 |  0.005448559964638377 |\n",
      "|   4    | 0.018750000000000003 |  0.005448559964638377 |\n",
      "|   5    | 0.015199999999999988 |  0.005615226631305046 |\n",
      "|   6    | 0.012666666666666661 |  0.005615226631305046 |\n",
      "|   7    | 0.012285714285714287 | 0.0066158821192588415 |\n",
      "|   8    | 0.013875000000000004 |  0.007472877756606111 |\n",
      "|   9    | 0.01566666666666664  |  0.009090935064496613 |\n",
      "|   10   | 0.017700000000000007 |  0.010945895297755758 |\n",
      "+--------+----------------------+-----------------------+\n",
      "[10 rows x 3 columns]\n",
      "\n",
      "\n",
      "Overall RMSE: 0.9287756236226004\n",
      "\n",
      "Per User RMSE (best)\n",
      "+--------+----------------------+-------+\n",
      "| userId |         rmse         | count |\n",
      "+--------+----------------------+-------+\n",
      "| 31021  | 0.035199377398174914 |   1   |\n",
      "+--------+----------------------+-------+\n",
      "[1 rows x 3 columns]\n",
      "\n",
      "\n",
      "Per User RMSE (worst)\n",
      "+--------+-------------------+-------+\n",
      "| userId |        rmse       | count |\n",
      "+--------+-------------------+-------+\n",
      "| 27291  | 2.760697754475229 |   3   |\n",
      "+--------+-------------------+-------+\n",
      "[1 rows x 3 columns]\n",
      "\n",
      "\n",
      "Per Item RMSE (best)\n",
      "+---------+-----------------------+-------+\n",
      "| movieId |          rmse         | count |\n",
      "+---------+-----------------------+-------+\n",
      "|  60735  | 4.440892098500626e-16 |   1   |\n",
      "+---------+-----------------------+-------+\n",
      "[1 rows x 3 columns]\n",
      "\n",
      "\n",
      "Per Item RMSE (worst)\n",
      "+---------+-------------------+-------+\n",
      "| movieId |        rmse       | count |\n",
      "+---------+-------------------+-------+\n",
      "|   6818  | 3.484939759036144 |   1   |\n",
      "+---------+-------------------+-------+\n",
      "[1 rows x 3 columns]\n",
      "\n"
     ]
    },
    {
     "data": {
      "text/plain": [
       "[{'precision_recall_by_user': Columns:\n",
       "  \tuserId\tint\n",
       "  \tcutoff\tint\n",
       "  \tprecision\tfloat\n",
       "  \trecall\tfloat\n",
       "  \tcount\tint\n",
       "  \n",
       "  Rows: 18000\n",
       "  \n",
       "  Data:\n",
       "  +--------+--------+-----------+--------+-------+\n",
       "  | userId | cutoff | precision | recall | count |\n",
       "  +--------+--------+-----------+--------+-------+\n",
       "  | 29099  |   1    |    0.0    |  0.0   |   30  |\n",
       "  | 29099  |   2    |    0.0    |  0.0   |   30  |\n",
       "  | 29099  |   3    |    0.0    |  0.0   |   30  |\n",
       "  | 29099  |   4    |    0.0    |  0.0   |   30  |\n",
       "  | 29099  |   5    |    0.0    |  0.0   |   30  |\n",
       "  | 29099  |   6    |    0.0    |  0.0   |   30  |\n",
       "  | 29099  |   7    |    0.0    |  0.0   |   30  |\n",
       "  | 29099  |   8    |    0.0    |  0.0   |   30  |\n",
       "  | 29099  |   9    |    0.0    |  0.0   |   30  |\n",
       "  | 29099  |   10   |    0.0    |  0.0   |   30  |\n",
       "  +--------+--------+-----------+--------+-------+\n",
       "  [18000 rows x 5 columns]\n",
       "  Note: Only the head of the SFrame is printed.\n",
       "  You can use print_rows(num_rows=m, num_columns=n) to print more rows and columns.,\n",
       "  'precision_recall_overall': Columns:\n",
       "  \tcutoff\tint\n",
       "  \tprecision\tfloat\n",
       "  \trecall\tfloat\n",
       "  \n",
       "  Rows: 18\n",
       "  \n",
       "  Data:\n",
       "  +--------+---------------------+---------------------+\n",
       "  | cutoff |      precision      |        recall       |\n",
       "  +--------+---------------------+---------------------+\n",
       "  |   1    |  0.3619999999999999 | 0.02547648725652714 |\n",
       "  |   2    |        0.3285       | 0.04595736143781055 |\n",
       "  |   3    |  0.3156666666666663 | 0.06499186837248325 |\n",
       "  |   4    |        0.301        |  0.0788392797585694 |\n",
       "  |   5    | 0.28820000000000007 | 0.09193025569575684 |\n",
       "  |   6    |  0.2781666666666667 | 0.10368574283030746 |\n",
       "  |   7    | 0.26528571428571424 | 0.11308066816648558 |\n",
       "  |   8    | 0.25475000000000003 | 0.12146416860303044 |\n",
       "  |   9    |  0.2498888888888889 | 0.13262686270302135 |\n",
       "  |   10   | 0.24269999999999994 | 0.14088886689367552 |\n",
       "  +--------+---------------------+---------------------+\n",
       "  [18 rows x 3 columns]\n",
       "  Note: Only the head of the SFrame is printed.\n",
       "  You can use print_rows(num_rows=m, num_columns=n) to print more rows and columns.,\n",
       "  'rmse_by_item': Columns:\n",
       "  \tmovieId\tint\n",
       "  \trmse\tfloat\n",
       "  \tcount\tint\n",
       "  \n",
       "  Rows: 5421\n",
       "  \n",
       "  Data:\n",
       "  +---------+--------------------+-------+\n",
       "  | movieId |        rmse        | count |\n",
       "  +---------+--------------------+-------+\n",
       "  |   5288  |        3.5         |   1   |\n",
       "  |  96281  | 3.4651972866720624 |   1   |\n",
       "  |  61406  | 3.4992933714327448 |   1   |\n",
       "  |  26561  | 3.4883922934532166 |   1   |\n",
       "  |   2035  | 3.9861363379406356 |   1   |\n",
       "  |   1611  | 3.3724354854232454 |   5   |\n",
       "  |  42728  | 3.0621834249177478 |   3   |\n",
       "  |  31270  | 3.4948521269562773 |   1   |\n",
       "  |   2779  | 4.180957357594949  |   4   |\n",
       "  |   3988  | 2.8557196700234906 |   8   |\n",
       "  +---------+--------------------+-------+\n",
       "  [5421 rows x 3 columns]\n",
       "  Note: Only the head of the SFrame is printed.\n",
       "  You can use print_rows(num_rows=m, num_columns=n) to print more rows and columns.,\n",
       "  'rmse_by_user': Columns:\n",
       "  \tuserId\tint\n",
       "  \trmse\tfloat\n",
       "  \tcount\tint\n",
       "  \n",
       "  Rows: 1000\n",
       "  \n",
       "  Data:\n",
       "  +--------+--------------------+-------+\n",
       "  | userId |        rmse        | count |\n",
       "  +--------+--------------------+-------+\n",
       "  | 33105  | 3.717658464147923  |   28  |\n",
       "  | 25926  | 3.877858820552869  |   29  |\n",
       "  | 28012  | 3.484344078219774  |   20  |\n",
       "  |  3159  | 3.141500323878683  |   8   |\n",
       "  | 14451  | 4.072594032897611  |  136  |\n",
       "  | 27530  | 3.886667584454628  |   46  |\n",
       "  | 21451  | 3.981299519250892  |   17  |\n",
       "  | 32356  | 3.689924690847072  |   5   |\n",
       "  | 30593  | 3.4607503901171137 |   8   |\n",
       "  | 21918  | 3.095370499041059  |   9   |\n",
       "  +--------+--------------------+-------+\n",
       "  [1000 rows x 3 columns]\n",
       "  Note: Only the head of the SFrame is printed.\n",
       "  You can use print_rows(num_rows=m, num_columns=n) to print more rows and columns.,\n",
       "  'rmse_overall': 3.4918197617743125},\n",
       " {'precision_recall_by_user': Columns:\n",
       "  \tuserId\tint\n",
       "  \tcutoff\tint\n",
       "  \tprecision\tfloat\n",
       "  \trecall\tfloat\n",
       "  \tcount\tint\n",
       "  \n",
       "  Rows: 18000\n",
       "  \n",
       "  Data:\n",
       "  +--------+--------+-----------+--------+-------+\n",
       "  | userId | cutoff | precision | recall | count |\n",
       "  +--------+--------+-----------+--------+-------+\n",
       "  | 29099  |   1    |    0.0    |  0.0   |   30  |\n",
       "  | 29099  |   2    |    0.0    |  0.0   |   30  |\n",
       "  | 29099  |   3    |    0.0    |  0.0   |   30  |\n",
       "  | 29099  |   4    |    0.0    |  0.0   |   30  |\n",
       "  | 29099  |   5    |    0.0    |  0.0   |   30  |\n",
       "  | 29099  |   6    |    0.0    |  0.0   |   30  |\n",
       "  | 29099  |   7    |    0.0    |  0.0   |   30  |\n",
       "  | 29099  |   8    |    0.0    |  0.0   |   30  |\n",
       "  | 29099  |   9    |    0.0    |  0.0   |   30  |\n",
       "  | 29099  |   10   |    0.0    |  0.0   |   30  |\n",
       "  +--------+--------+-----------+--------+-------+\n",
       "  [18000 rows x 5 columns]\n",
       "  Note: Only the head of the SFrame is printed.\n",
       "  You can use print_rows(num_rows=m, num_columns=n) to print more rows and columns.,\n",
       "  'precision_recall_overall': Columns:\n",
       "  \tcutoff\tint\n",
       "  \tprecision\tfloat\n",
       "  \trecall\tfloat\n",
       "  \n",
       "  Rows: 18\n",
       "  \n",
       "  Data:\n",
       "  +--------+----------------------+----------------------+\n",
       "  | cutoff |      precision       |        recall        |\n",
       "  +--------+----------------------+----------------------+\n",
       "  |   1    |         0.0          |         0.0          |\n",
       "  |   2    | 0.03850000000000001  | 0.005649709389925732 |\n",
       "  |   3    | 0.02566666666666665  | 0.005649709389925734 |\n",
       "  |   4    | 0.019249999999999996 | 0.005649709389925734 |\n",
       "  |   5    | 0.015399999999999992 | 0.005649709389925734 |\n",
       "  |   6    | 0.012833333333333327 | 0.005649709389925734 |\n",
       "  |   7    | 0.011000000000000001 | 0.005649709389925734 |\n",
       "  |   8    | 0.013125000000000001 | 0.007051907800636157 |\n",
       "  |   9    | 0.01599999999999998  | 0.009316812257479054 |\n",
       "  |   10   | 0.016999999999999987 | 0.010372305437016524 |\n",
       "  +--------+----------------------+----------------------+\n",
       "  [18 rows x 3 columns]\n",
       "  Note: Only the head of the SFrame is printed.\n",
       "  You can use print_rows(num_rows=m, num_columns=n) to print more rows and columns.,\n",
       "  'rmse_by_item': Columns:\n",
       "  \tmovieId\tint\n",
       "  \trmse\tfloat\n",
       "  \tcount\tint\n",
       "  \n",
       "  Rows: 5421\n",
       "  \n",
       "  Data:\n",
       "  +---------+----------------------+-------+\n",
       "  | movieId |         rmse         | count |\n",
       "  +---------+----------------------+-------+\n",
       "  |   5288  | 0.38844621513944233  |   1   |\n",
       "  |  96281  | 0.011560693641618602 |   1   |\n",
       "  |  61406  |  0.2666666666666666  |   1   |\n",
       "  |  26561  | 0.16666666666666652  |   1   |\n",
       "  |   2035  |  0.8079999999999998  |   1   |\n",
       "  |   1611  |  0.7564924237894112  |   5   |\n",
       "  |  42728  |  1.3417084523351386  |   3   |\n",
       "  |  31270  |  0.1730769230769229  |   1   |\n",
       "  |   2779  |  0.8255376538097193  |   4   |\n",
       "  |   3988  |  1.4489820813171814  |   8   |\n",
       "  +---------+----------------------+-------+\n",
       "  [5421 rows x 3 columns]\n",
       "  Note: Only the head of the SFrame is printed.\n",
       "  You can use print_rows(num_rows=m, num_columns=n) to print more rows and columns.,\n",
       "  'rmse_by_user': Columns:\n",
       "  \tuserId\tint\n",
       "  \trmse\tfloat\n",
       "  \tcount\tint\n",
       "  \n",
       "  Rows: 1000\n",
       "  \n",
       "  Data:\n",
       "  +--------+--------------------+-------+\n",
       "  | userId |        rmse        | count |\n",
       "  +--------+--------------------+-------+\n",
       "  | 33105  | 0.7310077309328579 |   28  |\n",
       "  | 25926  | 0.7274369328532414 |   29  |\n",
       "  | 28012  | 0.8821923556282761 |   20  |\n",
       "  |  3159  | 2.1873094688371246 |   8   |\n",
       "  | 14451  | 0.7208450168417021 |  136  |\n",
       "  | 27530  | 0.6856845009157924 |   46  |\n",
       "  | 21451  | 0.7946466035087777 |   17  |\n",
       "  | 32356  | 0.8896758578178295 |   5   |\n",
       "  | 30593  | 0.7259754418352399 |   8   |\n",
       "  | 21918  | 1.3930914508624845 |   9   |\n",
       "  +--------+--------------------+-------+\n",
       "  [1000 rows x 3 columns]\n",
       "  Note: Only the head of the SFrame is printed.\n",
       "  You can use print_rows(num_rows=m, num_columns=n) to print more rows and columns.,\n",
       "  'rmse_overall': 0.9315491453935739},\n",
       " {'precision_recall_by_user': Columns:\n",
       "  \tuserId\tint\n",
       "  \tcutoff\tint\n",
       "  \tprecision\tfloat\n",
       "  \trecall\tfloat\n",
       "  \tcount\tint\n",
       "  \n",
       "  Rows: 18000\n",
       "  \n",
       "  Data:\n",
       "  +--------+--------+-----------+--------+-------+\n",
       "  | userId | cutoff | precision | recall | count |\n",
       "  +--------+--------+-----------+--------+-------+\n",
       "  | 29099  |   1    |    0.0    |  0.0   |   30  |\n",
       "  | 29099  |   2    |    0.0    |  0.0   |   30  |\n",
       "  | 29099  |   3    |    0.0    |  0.0   |   30  |\n",
       "  | 29099  |   4    |    0.0    |  0.0   |   30  |\n",
       "  | 29099  |   5    |    0.0    |  0.0   |   30  |\n",
       "  | 29099  |   6    |    0.0    |  0.0   |   30  |\n",
       "  | 29099  |   7    |    0.0    |  0.0   |   30  |\n",
       "  | 29099  |   8    |    0.0    |  0.0   |   30  |\n",
       "  | 29099  |   9    |    0.0    |  0.0   |   30  |\n",
       "  | 29099  |   10   |    0.0    |  0.0   |   30  |\n",
       "  +--------+--------+-----------+--------+-------+\n",
       "  [18000 rows x 5 columns]\n",
       "  Note: Only the head of the SFrame is printed.\n",
       "  You can use print_rows(num_rows=m, num_columns=n) to print more rows and columns.,\n",
       "  'precision_recall_overall': Columns:\n",
       "  \tcutoff\tint\n",
       "  \tprecision\tfloat\n",
       "  \trecall\tfloat\n",
       "  \n",
       "  Rows: 18\n",
       "  \n",
       "  Data:\n",
       "  +--------+----------------------+-----------------------+\n",
       "  | cutoff |      precision       |         recall        |\n",
       "  +--------+----------------------+-----------------------+\n",
       "  |   1    |         0.0          |          0.0          |\n",
       "  |   2    | 0.027000000000000003 | 0.0038532665672431307 |\n",
       "  |   3    | 0.024999999999999988 |  0.005448559964638376 |\n",
       "  |   4    | 0.018750000000000003 |  0.005448559964638376 |\n",
       "  |   5    | 0.015199999999999988 |  0.005615226631305042 |\n",
       "  |   6    | 0.012666666666666661 |  0.005615226631305042 |\n",
       "  |   7    | 0.012285714285714287 | 0.0066158821192588415 |\n",
       "  |   8    |       0.013875       |  0.007472877756606112 |\n",
       "  |   9    | 0.01566666666666664  |  0.009090935064496613 |\n",
       "  |   10   | 0.017699999999999997 |  0.010945895297755762 |\n",
       "  +--------+----------------------+-----------------------+\n",
       "  [18 rows x 3 columns]\n",
       "  Note: Only the head of the SFrame is printed.\n",
       "  You can use print_rows(num_rows=m, num_columns=n) to print more rows and columns.,\n",
       "  'rmse_by_item': Columns:\n",
       "  \tmovieId\tint\n",
       "  \trmse\tfloat\n",
       "  \tcount\tint\n",
       "  \n",
       "  Rows: 5421\n",
       "  \n",
       "  Data:\n",
       "  +---------+----------------------+-------+\n",
       "  | movieId |         rmse         | count |\n",
       "  +---------+----------------------+-------+\n",
       "  |   5288  |  0.3884462151394432  |   1   |\n",
       "  |  96281  | 0.005613681601270848 |   1   |\n",
       "  |  61406  | 0.26535541442140076  |   1   |\n",
       "  |  26561  | 0.16666666666666652  |   1   |\n",
       "  |   2035  |  0.8037394413522025  |   1   |\n",
       "  |   1611  |  0.7563708124890649  |   5   |\n",
       "  |  42728  |  1.344132705347105   |   3   |\n",
       "  |  31270  | 0.17356249318998174  |   1   |\n",
       "  |   2779  |  0.8246724023268531  |   4   |\n",
       "  |   3988  |  1.4483935266018106  |   8   |\n",
       "  +---------+----------------------+-------+\n",
       "  [5421 rows x 3 columns]\n",
       "  Note: Only the head of the SFrame is printed.\n",
       "  You can use print_rows(num_rows=m, num_columns=n) to print more rows and columns.,\n",
       "  'rmse_by_user': Columns:\n",
       "  \tuserId\tint\n",
       "  \trmse\tfloat\n",
       "  \tcount\tint\n",
       "  \n",
       "  Rows: 1000\n",
       "  \n",
       "  Data:\n",
       "  +--------+--------------------+-------+\n",
       "  | userId |        rmse        | count |\n",
       "  +--------+--------------------+-------+\n",
       "  | 33105  | 0.7254802643729772 |   28  |\n",
       "  | 25926  | 0.7238931405870879 |   29  |\n",
       "  | 28012  | 0.8823818416989769 |   20  |\n",
       "  |  3159  | 2.1861905103939505 |   8   |\n",
       "  | 14451  | 0.7195716504066322 |  136  |\n",
       "  | 27530  | 0.6851402472297065 |   46  |\n",
       "  | 21451  | 0.7940974324164228 |   17  |\n",
       "  | 32356  | 0.8913603995662981 |   5   |\n",
       "  | 30593  | 0.7117677645746904 |   8   |\n",
       "  | 21918  | 1.3891354525550665 |   9   |\n",
       "  +--------+--------------------+-------+\n",
       "  [1000 rows x 3 columns]\n",
       "  Note: Only the head of the SFrame is printed.\n",
       "  You can use print_rows(num_rows=m, num_columns=n) to print more rows and columns.,\n",
       "  'rmse_overall': 0.9287756236226004}]"
      ]
     },
     "execution_count": 26,
     "metadata": {
      "tags": []
     },
     "output_type": "execute_result"
    }
   ],
   "source": [
    "tc.recommender.util.compare_models(validation_data, [model, pop_model,pearson_model], model_names=[\"item2item\", \"popularity\",\"pearson\"])"
   ]
  },
  {
   "cell_type": "markdown",
   "metadata": {
    "id": "u9WskJka-Hla"
   },
   "source": [
    "<h1> Matrix Factorization <h1?"
   ]
  },
  {
   "cell_type": "code",
   "execution_count": 35,
   "metadata": {
    "executionInfo": {
     "elapsed": 632,
     "status": "ok",
     "timestamp": 1605863923517,
     "user": {
      "displayName": "Asnat Messica Greenst",
      "photoUrl": "",
      "userId": "14949188109355979794"
     },
     "user_tz": -120
    },
    "id": "bxpbFMV58a_X"
   },
   "outputs": [],
   "source": [
    "training_data_mf = training_data.remove_column('timestamp')"
   ]
  },
  {
   "cell_type": "code",
   "execution_count": 36,
   "metadata": {
    "colab": {
     "base_uri": "https://localhost:8080/",
     "height": 924
    },
    "executionInfo": {
     "elapsed": 118080,
     "status": "ok",
     "timestamp": 1605864059111,
     "user": {
      "displayName": "Asnat Messica Greenst",
      "photoUrl": "",
      "userId": "14949188109355979794"
     },
     "user_tz": -120
    },
    "id": "GcIgH5iq5S9Y",
    "outputId": "8face53e-1f05-4ff2-c317-ac9314af51dd"
   },
   "outputs": [
    {
     "data": {
      "text/html": [
       "<pre>Preparing data set.</pre>"
      ],
      "text/plain": [
       "Preparing data set."
      ]
     },
     "metadata": {
      "tags": []
     },
     "output_type": "display_data"
    },
    {
     "data": {
      "text/html": [
       "<pre>    Data has 8489725 observations with 58957 users and 14211 items.</pre>"
      ],
      "text/plain": [
       "    Data has 8489725 observations with 58957 users and 14211 items."
      ]
     },
     "metadata": {
      "tags": []
     },
     "output_type": "display_data"
    },
    {
     "data": {
      "text/html": [
       "<pre>    Data prepared in: 8.67769s</pre>"
      ],
      "text/plain": [
       "    Data prepared in: 8.67769s"
      ]
     },
     "metadata": {
      "tags": []
     },
     "output_type": "display_data"
    },
    {
     "data": {
      "text/html": [
       "<pre>Training factorization_recommender for recommendations.</pre>"
      ],
      "text/plain": [
       "Training factorization_recommender for recommendations."
      ]
     },
     "metadata": {
      "tags": []
     },
     "output_type": "display_data"
    },
    {
     "data": {
      "text/html": [
       "<pre>+--------------------------------+--------------------------------------------------+----------+</pre>"
      ],
      "text/plain": [
       "+--------------------------------+--------------------------------------------------+----------+"
      ]
     },
     "metadata": {
      "tags": []
     },
     "output_type": "display_data"
    },
    {
     "data": {
      "text/html": [
       "<pre>| Parameter                      | Description                                      | Value    |</pre>"
      ],
      "text/plain": [
       "| Parameter                      | Description                                      | Value    |"
      ]
     },
     "metadata": {
      "tags": []
     },
     "output_type": "display_data"
    },
    {
     "data": {
      "text/html": [
       "<pre>+--------------------------------+--------------------------------------------------+----------+</pre>"
      ],
      "text/plain": [
       "+--------------------------------+--------------------------------------------------+----------+"
      ]
     },
     "metadata": {
      "tags": []
     },
     "output_type": "display_data"
    },
    {
     "data": {
      "text/html": [
       "<pre>| num_factors                    | Factor Dimension                                 | 8        |</pre>"
      ],
      "text/plain": [
       "| num_factors                    | Factor Dimension                                 | 8        |"
      ]
     },
     "metadata": {
      "tags": []
     },
     "output_type": "display_data"
    },
    {
     "data": {
      "text/html": [
       "<pre>| regularization                 | L2 Regularization on Factors                     | 1e-08    |</pre>"
      ],
      "text/plain": [
       "| regularization                 | L2 Regularization on Factors                     | 1e-08    |"
      ]
     },
     "metadata": {
      "tags": []
     },
     "output_type": "display_data"
    },
    {
     "data": {
      "text/html": [
       "<pre>| solver                         | Solver used for training                         | sgd      |</pre>"
      ],
      "text/plain": [
       "| solver                         | Solver used for training                         | sgd      |"
      ]
     },
     "metadata": {
      "tags": []
     },
     "output_type": "display_data"
    },
    {
     "data": {
      "text/html": [
       "<pre>| linear_regularization          | L2 Regularization on Linear Coefficients         | 1e-10    |</pre>"
      ],
      "text/plain": [
       "| linear_regularization          | L2 Regularization on Linear Coefficients         | 1e-10    |"
      ]
     },
     "metadata": {
      "tags": []
     },
     "output_type": "display_data"
    },
    {
     "data": {
      "text/html": [
       "<pre>| max_iterations                 | Maximum Number of Iterations                     | 50       |</pre>"
      ],
      "text/plain": [
       "| max_iterations                 | Maximum Number of Iterations                     | 50       |"
      ]
     },
     "metadata": {
      "tags": []
     },
     "output_type": "display_data"
    },
    {
     "data": {
      "text/html": [
       "<pre>+--------------------------------+--------------------------------------------------+----------+</pre>"
      ],
      "text/plain": [
       "+--------------------------------+--------------------------------------------------+----------+"
      ]
     },
     "metadata": {
      "tags": []
     },
     "output_type": "display_data"
    },
    {
     "data": {
      "text/html": [
       "<pre>  Optimizing model using SGD; tuning step size.</pre>"
      ],
      "text/plain": [
       "  Optimizing model using SGD; tuning step size."
      ]
     },
     "metadata": {
      "tags": []
     },
     "output_type": "display_data"
    },
    {
     "data": {
      "text/html": [
       "<pre>  Using 1061215 / 8489725 points for tuning the step size.</pre>"
      ],
      "text/plain": [
       "  Using 1061215 / 8489725 points for tuning the step size."
      ]
     },
     "metadata": {
      "tags": []
     },
     "output_type": "display_data"
    },
    {
     "data": {
      "text/html": [
       "<pre>+---------+-------------------+------------------------------------------+</pre>"
      ],
      "text/plain": [
       "+---------+-------------------+------------------------------------------+"
      ]
     },
     "metadata": {
      "tags": []
     },
     "output_type": "display_data"
    },
    {
     "data": {
      "text/html": [
       "<pre>| Attempt | Initial Step Size | Estimated Objective Value                |</pre>"
      ],
      "text/plain": [
       "| Attempt | Initial Step Size | Estimated Objective Value                |"
      ]
     },
     "metadata": {
      "tags": []
     },
     "output_type": "display_data"
    },
    {
     "data": {
      "text/html": [
       "<pre>+---------+-------------------+------------------------------------------+</pre>"
      ],
      "text/plain": [
       "+---------+-------------------+------------------------------------------+"
      ]
     },
     "metadata": {
      "tags": []
     },
     "output_type": "display_data"
    },
    {
     "data": {
      "text/html": [
       "<pre>| 0       | 25                | Not Viable                               |</pre>"
      ],
      "text/plain": [
       "| 0       | 25                | Not Viable                               |"
      ]
     },
     "metadata": {
      "tags": []
     },
     "output_type": "display_data"
    },
    {
     "data": {
      "text/html": [
       "<pre>| 1       | 6.25              | Not Viable                               |</pre>"
      ],
      "text/plain": [
       "| 1       | 6.25              | Not Viable                               |"
      ]
     },
     "metadata": {
      "tags": []
     },
     "output_type": "display_data"
    },
    {
     "data": {
      "text/html": [
       "<pre>| 2       | 1.5625            | Not Viable                               |</pre>"
      ],
      "text/plain": [
       "| 2       | 1.5625            | Not Viable                               |"
      ]
     },
     "metadata": {
      "tags": []
     },
     "output_type": "display_data"
    },
    {
     "data": {
      "text/html": [
       "<pre>| 3       | 0.390625          | Not Viable                               |</pre>"
      ],
      "text/plain": [
       "| 3       | 0.390625          | Not Viable                               |"
      ]
     },
     "metadata": {
      "tags": []
     },
     "output_type": "display_data"
    },
    {
     "data": {
      "text/html": [
       "<pre>| 4       | 0.0976562         | 0.423                                    |</pre>"
      ],
      "text/plain": [
       "| 4       | 0.0976562         | 0.423                                    |"
      ]
     },
     "metadata": {
      "tags": []
     },
     "output_type": "display_data"
    },
    {
     "data": {
      "text/html": [
       "<pre>| 5       | 0.0488281         | 0.655499                                 |</pre>"
      ],
      "text/plain": [
       "| 5       | 0.0488281         | 0.655499                                 |"
      ]
     },
     "metadata": {
      "tags": []
     },
     "output_type": "display_data"
    },
    {
     "data": {
      "text/html": [
       "<pre>| 6       | 0.0244141         | 0.696734                                 |</pre>"
      ],
      "text/plain": [
       "| 6       | 0.0244141         | 0.696734                                 |"
      ]
     },
     "metadata": {
      "tags": []
     },
     "output_type": "display_data"
    },
    {
     "data": {
      "text/html": [
       "<pre>| 7       | 0.012207          | 0.715465                                 |</pre>"
      ],
      "text/plain": [
       "| 7       | 0.012207          | 0.715465                                 |"
      ]
     },
     "metadata": {
      "tags": []
     },
     "output_type": "display_data"
    },
    {
     "data": {
      "text/html": [
       "<pre>+---------+-------------------+------------------------------------------+</pre>"
      ],
      "text/plain": [
       "+---------+-------------------+------------------------------------------+"
      ]
     },
     "metadata": {
      "tags": []
     },
     "output_type": "display_data"
    },
    {
     "data": {
      "text/html": [
       "<pre>| Final   | 0.0976562         | 0.423                                    |</pre>"
      ],
      "text/plain": [
       "| Final   | 0.0976562         | 0.423                                    |"
      ]
     },
     "metadata": {
      "tags": []
     },
     "output_type": "display_data"
    },
    {
     "data": {
      "text/html": [
       "<pre>+---------+-------------------+------------------------------------------+</pre>"
      ],
      "text/plain": [
       "+---------+-------------------+------------------------------------------+"
      ]
     },
     "metadata": {
      "tags": []
     },
     "output_type": "display_data"
    },
    {
     "data": {
      "text/html": [
       "<pre>Starting Optimization.</pre>"
      ],
      "text/plain": [
       "Starting Optimization."
      ]
     },
     "metadata": {
      "tags": []
     },
     "output_type": "display_data"
    },
    {
     "data": {
      "text/html": [
       "<pre>+---------+--------------+-------------------+-----------------------+-------------+</pre>"
      ],
      "text/plain": [
       "+---------+--------------+-------------------+-----------------------+-------------+"
      ]
     },
     "metadata": {
      "tags": []
     },
     "output_type": "display_data"
    },
    {
     "data": {
      "text/html": [
       "<pre>| Iter.   | Elapsed Time | Approx. Objective | Approx. Training RMSE | Step Size   |</pre>"
      ],
      "text/plain": [
       "| Iter.   | Elapsed Time | Approx. Objective | Approx. Training RMSE | Step Size   |"
      ]
     },
     "metadata": {
      "tags": []
     },
     "output_type": "display_data"
    },
    {
     "data": {
      "text/html": [
       "<pre>+---------+--------------+-------------------+-----------------------+-------------+</pre>"
      ],
      "text/plain": [
       "+---------+--------------+-------------------+-----------------------+-------------+"
      ]
     },
     "metadata": {
      "tags": []
     },
     "output_type": "display_data"
    },
    {
     "data": {
      "text/html": [
       "<pre>| Initial | 132us        | 1.10367           | 1.05056               |             |</pre>"
      ],
      "text/plain": [
       "| Initial | 132us        | 1.10367           | 1.05056               |             |"
      ]
     },
     "metadata": {
      "tags": []
     },
     "output_type": "display_data"
    },
    {
     "data": {
      "text/html": [
       "<pre>+---------+--------------+-------------------+-----------------------+-------------+</pre>"
      ],
      "text/plain": [
       "+---------+--------------+-------------------+-----------------------+-------------+"
      ]
     },
     "metadata": {
      "tags": []
     },
     "output_type": "display_data"
    },
    {
     "data": {
      "text/html": [
       "<pre>| 1       | 1.99s        | 0.988413          | 0.993751              | 0.0976562   |</pre>"
      ],
      "text/plain": [
       "| 1       | 1.99s        | 0.988413          | 0.993751              | 0.0976562   |"
      ]
     },
     "metadata": {
      "tags": []
     },
     "output_type": "display_data"
    },
    {
     "data": {
      "text/html": [
       "<pre>| 2       | 3.98s        | 0.79819           | 0.893017              | 0.0580668   |</pre>"
      ],
      "text/plain": [
       "| 2       | 3.98s        | 0.79819           | 0.893017              | 0.0580668   |"
      ]
     },
     "metadata": {
      "tags": []
     },
     "output_type": "display_data"
    },
    {
     "data": {
      "text/html": [
       "<pre>| 3       | 5.93s        | 0.712466          | 0.843639              | 0.042841    |</pre>"
      ],
      "text/plain": [
       "| 3       | 5.93s        | 0.712466          | 0.843639              | 0.042841    |"
      ]
     },
     "metadata": {
      "tags": []
     },
     "output_type": "display_data"
    },
    {
     "data": {
      "text/html": [
       "<pre>| 4       | 7.91s        | 0.666563          | 0.815948              | 0.0345267   |</pre>"
      ],
      "text/plain": [
       "| 4       | 7.91s        | 0.666563          | 0.815948              | 0.0345267   |"
      ]
     },
     "metadata": {
      "tags": []
     },
     "output_type": "display_data"
    },
    {
     "data": {
      "text/html": [
       "<pre>| 5       | 9.90s        | 0.639095          | 0.798909              | 0.029206    |</pre>"
      ],
      "text/plain": [
       "| 5       | 9.90s        | 0.639095          | 0.798909              | 0.029206    |"
      ]
     },
     "metadata": {
      "tags": []
     },
     "output_type": "display_data"
    },
    {
     "data": {
      "text/html": [
       "<pre>| 10      | 19.71s       | 0.587267          | 0.765679              | 0.017366    |</pre>"
      ],
      "text/plain": [
       "| 10      | 19.71s       | 0.587267          | 0.765679              | 0.017366    |"
      ]
     },
     "metadata": {
      "tags": []
     },
     "output_type": "display_data"
    },
    {
     "data": {
      "text/html": [
       "<pre>| 15      | 29.57s       | 0.568949          | 0.753562              | 0.0128124   |</pre>"
      ],
      "text/plain": [
       "| 15      | 29.57s       | 0.568949          | 0.753562              | 0.0128124   |"
      ]
     },
     "metadata": {
      "tags": []
     },
     "output_type": "display_data"
    },
    {
     "data": {
      "text/html": [
       "<pre>| 20      | 39.43s       | 0.559417          | 0.74717               | 0.0103259   |</pre>"
      ],
      "text/plain": [
       "| 20      | 39.43s       | 0.559417          | 0.74717               | 0.0103259   |"
      ]
     },
     "metadata": {
      "tags": []
     },
     "output_type": "display_data"
    },
    {
     "data": {
      "text/html": [
       "<pre>| 25      | 49.37s       | 0.553356          | 0.743073              | 0.00873464  |</pre>"
      ],
      "text/plain": [
       "| 25      | 49.37s       | 0.553356          | 0.743073              | 0.00873464  |"
      ]
     },
     "metadata": {
      "tags": []
     },
     "output_type": "display_data"
    },
    {
     "data": {
      "text/html": [
       "<pre>| 30      | 59.17s       | 0.548902          | 0.740046              | 0.00761832  |</pre>"
      ],
      "text/plain": [
       "| 30      | 59.17s       | 0.548902          | 0.740046              | 0.00761832  |"
      ]
     },
     "metadata": {
      "tags": []
     },
     "output_type": "display_data"
    },
    {
     "data": {
      "text/html": [
       "<pre>| 35      | 1m 8s        | 0.545926          | 0.738013              | 0.00678655  |</pre>"
      ],
      "text/plain": [
       "| 35      | 1m 8s        | 0.545926          | 0.738013              | 0.00678655  |"
      ]
     },
     "metadata": {
      "tags": []
     },
     "output_type": "display_data"
    },
    {
     "data": {
      "text/html": [
       "<pre>| 40      | 1m 18s       | 0.543495          | 0.736347              | 0.00613981  |</pre>"
      ],
      "text/plain": [
       "| 40      | 1m 18s       | 0.543495          | 0.736347              | 0.00613981  |"
      ]
     },
     "metadata": {
      "tags": []
     },
     "output_type": "display_data"
    },
    {
     "data": {
      "text/html": [
       "<pre>| 45      | 1m 28s       | 0.541493          | 0.734973              | 0.0056207   |</pre>"
      ],
      "text/plain": [
       "| 45      | 1m 28s       | 0.541493          | 0.734973              | 0.0056207   |"
      ]
     },
     "metadata": {
      "tags": []
     },
     "output_type": "display_data"
    },
    {
     "data": {
      "text/html": [
       "<pre>| 50      | 1m 38s       | 0.539787          | 0.733799              | 0.00519365  |</pre>"
      ],
      "text/plain": [
       "| 50      | 1m 38s       | 0.539787          | 0.733799              | 0.00519365  |"
      ]
     },
     "metadata": {
      "tags": []
     },
     "output_type": "display_data"
    },
    {
     "data": {
      "text/html": [
       "<pre>+---------+--------------+-------------------+-----------------------+-------------+</pre>"
      ],
      "text/plain": [
       "+---------+--------------+-------------------+-----------------------+-------------+"
      ]
     },
     "metadata": {
      "tags": []
     },
     "output_type": "display_data"
    },
    {
     "data": {
      "text/html": [
       "<pre>Optimization Complete: Maximum number of passes through the data reached.</pre>"
      ],
      "text/plain": [
       "Optimization Complete: Maximum number of passes through the data reached."
      ]
     },
     "metadata": {
      "tags": []
     },
     "output_type": "display_data"
    },
    {
     "data": {
      "text/html": [
       "<pre>Computing final objective value and training RMSE.</pre>"
      ],
      "text/plain": [
       "Computing final objective value and training RMSE."
      ]
     },
     "metadata": {
      "tags": []
     },
     "output_type": "display_data"
    },
    {
     "data": {
      "text/html": [
       "<pre>       Final objective value: 0.526693</pre>"
      ],
      "text/plain": [
       "       Final objective value: 0.526693"
      ]
     },
     "metadata": {
      "tags": []
     },
     "output_type": "display_data"
    },
    {
     "data": {
      "text/html": [
       "<pre>       Final training RMSE: 0.724822</pre>"
      ],
      "text/plain": [
       "       Final training RMSE: 0.724822"
      ]
     },
     "metadata": {
      "tags": []
     },
     "output_type": "display_data"
    }
   ],
   "source": [
    "mf_model = tc.factorization_recommender.create(training_data_mf,'userId','movieId',target=\"rating\")"
   ]
  },
  {
   "cell_type": "code",
   "execution_count": 37,
   "metadata": {
    "executionInfo": {
     "elapsed": 954,
     "status": "ok",
     "timestamp": 1605864111349,
     "user": {
      "displayName": "Asnat Messica Greenst",
      "photoUrl": "",
      "userId": "14949188109355979794"
     },
     "user_tz": -120
    },
    "id": "ir1Jik7R8698"
   },
   "outputs": [],
   "source": [
    "validation_data_mf = validation_data.remove_column('timestamp')"
   ]
  },
  {
   "cell_type": "code",
   "execution_count": 39,
   "metadata": {
    "colab": {
     "base_uri": "https://localhost:8080/",
     "height": 1000
    },
    "executionInfo": {
     "elapsed": 2400,
     "status": "ok",
     "timestamp": 1605864220236,
     "user": {
      "displayName": "Asnat Messica Greenst",
      "photoUrl": "",
      "userId": "14949188109355979794"
     },
     "user_tz": -120
    },
    "id": "NH4XPfMO9giM",
    "outputId": "8e428b31-456b-48ce-a4a7-703c0efb8b0f"
   },
   "outputs": [
    {
     "name": "stdout",
     "output_type": "stream",
     "text": [
      "PROGRESS: Evaluate model pearson\n"
     ]
    },
    {
     "data": {
      "text/html": [
       "<pre>recommendations finished on 1000/1000 queries. users per second: 1783.5</pre>"
      ],
      "text/plain": [
       "recommendations finished on 1000/1000 queries. users per second: 1783.5"
      ]
     },
     "metadata": {
      "tags": []
     },
     "output_type": "display_data"
    },
    {
     "name": "stdout",
     "output_type": "stream",
     "text": [
      "\n",
      "Precision and recall summary statistics by cutoff\n",
      "+--------+----------------------+-----------------------+\n",
      "| cutoff |    mean_precision    |      mean_recall      |\n",
      "+--------+----------------------+-----------------------+\n",
      "|   1    |         0.0          |          0.0          |\n",
      "|   2    | 0.027000000000000003 |  0.003853266567243131 |\n",
      "|   3    | 0.02499999999999998  |  0.005448559964638377 |\n",
      "|   4    | 0.018749999999999992 |  0.005448559964638377 |\n",
      "|   5    | 0.015199999999999993 |  0.005615226631305042 |\n",
      "|   6    | 0.01266666666666666  |  0.005615226631305042 |\n",
      "|   7    | 0.012285714285714283 |  0.006615882119258838 |\n",
      "|   8    |       0.013875       | 0.0074728777566061095 |\n",
      "|   9    | 0.015666666666666634 |  0.00909093506449661  |\n",
      "|   10   | 0.017700000000000007 |  0.010945895297755758 |\n",
      "+--------+----------------------+-----------------------+\n",
      "[10 rows x 3 columns]\n",
      "\n",
      "\n",
      "Overall RMSE: 0.9287756236226004\n",
      "\n",
      "Per User RMSE (best)\n",
      "+--------+----------------------+-------+\n",
      "| userId |         rmse         | count |\n",
      "+--------+----------------------+-------+\n",
      "| 31021  | 0.035199377398174914 |   1   |\n",
      "+--------+----------------------+-------+\n",
      "[1 rows x 3 columns]\n",
      "\n",
      "\n",
      "Per User RMSE (worst)\n",
      "+--------+-------------------+-------+\n",
      "| userId |        rmse       | count |\n",
      "+--------+-------------------+-------+\n",
      "| 27291  | 2.760697754475229 |   3   |\n",
      "+--------+-------------------+-------+\n",
      "[1 rows x 3 columns]\n",
      "\n",
      "\n",
      "Per Item RMSE (best)\n",
      "+---------+-----------------------+-------+\n",
      "| movieId |          rmse         | count |\n",
      "+---------+-----------------------+-------+\n",
      "|  60735  | 4.440892098500626e-16 |   1   |\n",
      "+---------+-----------------------+-------+\n",
      "[1 rows x 3 columns]\n",
      "\n",
      "\n",
      "Per Item RMSE (worst)\n",
      "+---------+-------------------+-------+\n",
      "| movieId |        rmse       | count |\n",
      "+---------+-------------------+-------+\n",
      "|   6818  | 3.484939759036144 |   1   |\n",
      "+---------+-------------------+-------+\n",
      "[1 rows x 3 columns]\n",
      "\n",
      "PROGRESS: Evaluate model mf\n"
     ]
    },
    {
     "data": {
      "text/html": [
       "<pre>recommendations finished on 1000/1000 queries. users per second: 1841.57</pre>"
      ],
      "text/plain": [
       "recommendations finished on 1000/1000 queries. users per second: 1841.57"
      ]
     },
     "metadata": {
      "tags": []
     },
     "output_type": "display_data"
    },
    {
     "name": "stdout",
     "output_type": "stream",
     "text": [
      "\n",
      "Precision and recall summary statistics by cutoff\n",
      "+--------+-----------------------+------------------------+\n",
      "| cutoff |     mean_precision    |      mean_recall       |\n",
      "+--------+-----------------------+------------------------+\n",
      "|   1    |         0.002         | 1.6198571076619858e-05 |\n",
      "|   2    |         0.003         | 9.625078637772793e-05  |\n",
      "|   3    |  0.002999999999999999 | 0.00015040524553628883 |\n",
      "|   4    |  0.003000000000000001 | 0.0002924727955866994  |\n",
      "|   5    | 0.0031999999999999997 | 0.0003970558743077092  |\n",
      "|   6    |  0.002999999999999999 | 0.0004400628673147021  |\n",
      "|   7    |  0.002857142857142857 | 0.00046969938115195957 |\n",
      "|   8    |        0.003375       | 0.0007926100824433812  |\n",
      "|   9    |  0.003666666666666668 | 0.0008730467843142697  |\n",
      "|   10   |  0.003700000000000002 |  0.00106105960482709   |\n",
      "+--------+-----------------------+------------------------+\n",
      "[10 rows x 3 columns]\n",
      "\n",
      "\n",
      "Overall RMSE: 0.8058449573035918\n",
      "\n",
      "Per User RMSE (best)\n",
      "+--------+---------------------+-------+\n",
      "| userId |         rmse        | count |\n",
      "+--------+---------------------+-------+\n",
      "| 51174  | 0.07098097099939658 |   2   |\n",
      "+--------+---------------------+-------+\n",
      "[1 rows x 3 columns]\n",
      "\n",
      "\n",
      "Per User RMSE (worst)\n",
      "+--------+--------------------+-------+\n",
      "| userId |        rmse        | count |\n",
      "+--------+--------------------+-------+\n",
      "| 38426  | 2.2149197007065986 |   1   |\n",
      "+--------+--------------------+-------+\n",
      "[1 rows x 3 columns]\n",
      "\n",
      "\n",
      "Per Item RMSE (best)\n",
      "+---------+-----------------------+-------+\n",
      "| movieId |          rmse         | count |\n",
      "+---------+-----------------------+-------+\n",
      "|  55288  | 0.0010776067620485996 |   1   |\n",
      "+---------+-----------------------+-------+\n",
      "[1 rows x 3 columns]\n",
      "\n",
      "\n",
      "Per Item RMSE (worst)\n",
      "+---------+-------------------+-------+\n",
      "| movieId |        rmse       | count |\n",
      "+---------+-------------------+-------+\n",
      "|   8589  | 3.291188835585711 |   1   |\n",
      "+---------+-------------------+-------+\n",
      "[1 rows x 3 columns]\n",
      "\n"
     ]
    },
    {
     "data": {
      "text/plain": [
       "[{'precision_recall_by_user': Columns:\n",
       "  \tuserId\tint\n",
       "  \tcutoff\tint\n",
       "  \tprecision\tfloat\n",
       "  \trecall\tfloat\n",
       "  \tcount\tint\n",
       "  \n",
       "  Rows: 18000\n",
       "  \n",
       "  Data:\n",
       "  +--------+--------+-----------+--------+-------+\n",
       "  | userId | cutoff | precision | recall | count |\n",
       "  +--------+--------+-----------+--------+-------+\n",
       "  | 29099  |   1    |    0.0    |  0.0   |   30  |\n",
       "  | 29099  |   2    |    0.0    |  0.0   |   30  |\n",
       "  | 29099  |   3    |    0.0    |  0.0   |   30  |\n",
       "  | 29099  |   4    |    0.0    |  0.0   |   30  |\n",
       "  | 29099  |   5    |    0.0    |  0.0   |   30  |\n",
       "  | 29099  |   6    |    0.0    |  0.0   |   30  |\n",
       "  | 29099  |   7    |    0.0    |  0.0   |   30  |\n",
       "  | 29099  |   8    |    0.0    |  0.0   |   30  |\n",
       "  | 29099  |   9    |    0.0    |  0.0   |   30  |\n",
       "  | 29099  |   10   |    0.0    |  0.0   |   30  |\n",
       "  +--------+--------+-----------+--------+-------+\n",
       "  [18000 rows x 5 columns]\n",
       "  Note: Only the head of the SFrame is printed.\n",
       "  You can use print_rows(num_rows=m, num_columns=n) to print more rows and columns.,\n",
       "  'precision_recall_overall': Columns:\n",
       "  \tcutoff\tint\n",
       "  \tprecision\tfloat\n",
       "  \trecall\tfloat\n",
       "  \n",
       "  Rows: 18\n",
       "  \n",
       "  Data:\n",
       "  +--------+----------------------+-----------------------+\n",
       "  | cutoff |      precision       |         recall        |\n",
       "  +--------+----------------------+-----------------------+\n",
       "  |   1    |         0.0          |          0.0          |\n",
       "  |   2    |        0.027         |  0.00385326656724313  |\n",
       "  |   3    | 0.024999999999999994 | 0.0054485599646383765 |\n",
       "  |   4    | 0.018749999999999992 | 0.0054485599646383765 |\n",
       "  |   5    | 0.015199999999999986 |  0.005615226631305043 |\n",
       "  |   6    | 0.01266666666666666  |  0.005615226631305043 |\n",
       "  |   7    | 0.012285714285714285 |  0.00661588211925884  |\n",
       "  |   8    |       0.013875       | 0.0074728777566061095 |\n",
       "  |   9    | 0.01566666666666664  |  0.009090935064496599 |\n",
       "  |   10   | 0.017699999999999987 |  0.010945895297755762 |\n",
       "  +--------+----------------------+-----------------------+\n",
       "  [18 rows x 3 columns]\n",
       "  Note: Only the head of the SFrame is printed.\n",
       "  You can use print_rows(num_rows=m, num_columns=n) to print more rows and columns.,\n",
       "  'rmse_by_item': Columns:\n",
       "  \tmovieId\tint\n",
       "  \trmse\tfloat\n",
       "  \tcount\tint\n",
       "  \n",
       "  Rows: 5421\n",
       "  \n",
       "  Data:\n",
       "  +---------+----------------------+-------+\n",
       "  | movieId |         rmse         | count |\n",
       "  +---------+----------------------+-------+\n",
       "  |   5288  |  0.3884462151394432  |   1   |\n",
       "  |  96281  | 0.005613681601270848 |   1   |\n",
       "  |  61406  | 0.26535541442140076  |   1   |\n",
       "  |  26561  | 0.16666666666666652  |   1   |\n",
       "  |   2035  |  0.8037394413522025  |   1   |\n",
       "  |   1611  |  0.7563708124890649  |   5   |\n",
       "  |  42728  |  1.344132705347105   |   3   |\n",
       "  |  31270  | 0.17356249318998174  |   1   |\n",
       "  |   2779  |  0.8246724023268531  |   4   |\n",
       "  |   3988  |  1.4483935266018106  |   8   |\n",
       "  +---------+----------------------+-------+\n",
       "  [5421 rows x 3 columns]\n",
       "  Note: Only the head of the SFrame is printed.\n",
       "  You can use print_rows(num_rows=m, num_columns=n) to print more rows and columns.,\n",
       "  'rmse_by_user': Columns:\n",
       "  \tuserId\tint\n",
       "  \trmse\tfloat\n",
       "  \tcount\tint\n",
       "  \n",
       "  Rows: 1000\n",
       "  \n",
       "  Data:\n",
       "  +--------+--------------------+-------+\n",
       "  | userId |        rmse        | count |\n",
       "  +--------+--------------------+-------+\n",
       "  | 33105  | 0.7254802643729772 |   28  |\n",
       "  | 25926  | 0.7238931405870879 |   29  |\n",
       "  | 28012  | 0.8823818416989769 |   20  |\n",
       "  |  3159  | 2.1861905103939505 |   8   |\n",
       "  | 14451  | 0.7195716504066322 |  136  |\n",
       "  | 27530  | 0.6851402472297065 |   46  |\n",
       "  | 21451  | 0.7940974324164228 |   17  |\n",
       "  | 32356  | 0.8913603995662981 |   5   |\n",
       "  | 30593  | 0.7117677645746904 |   8   |\n",
       "  | 21918  | 1.3891354525550665 |   9   |\n",
       "  +--------+--------------------+-------+\n",
       "  [1000 rows x 3 columns]\n",
       "  Note: Only the head of the SFrame is printed.\n",
       "  You can use print_rows(num_rows=m, num_columns=n) to print more rows and columns.,\n",
       "  'rmse_overall': 0.9287756236226004},\n",
       " {'precision_recall_by_user': Columns:\n",
       "  \tuserId\tint\n",
       "  \tcutoff\tint\n",
       "  \tprecision\tfloat\n",
       "  \trecall\tfloat\n",
       "  \tcount\tint\n",
       "  \n",
       "  Rows: 18000\n",
       "  \n",
       "  Data:\n",
       "  +--------+--------+-----------+--------+-------+\n",
       "  | userId | cutoff | precision | recall | count |\n",
       "  +--------+--------+-----------+--------+-------+\n",
       "  | 29099  |   1    |    0.0    |  0.0   |   30  |\n",
       "  | 29099  |   2    |    0.0    |  0.0   |   30  |\n",
       "  | 29099  |   3    |    0.0    |  0.0   |   30  |\n",
       "  | 29099  |   4    |    0.0    |  0.0   |   30  |\n",
       "  | 29099  |   5    |    0.0    |  0.0   |   30  |\n",
       "  | 29099  |   6    |    0.0    |  0.0   |   30  |\n",
       "  | 29099  |   7    |    0.0    |  0.0   |   30  |\n",
       "  | 29099  |   8    |    0.0    |  0.0   |   30  |\n",
       "  | 29099  |   9    |    0.0    |  0.0   |   30  |\n",
       "  | 29099  |   10   |    0.0    |  0.0   |   30  |\n",
       "  +--------+--------+-----------+--------+-------+\n",
       "  [18000 rows x 5 columns]\n",
       "  Note: Only the head of the SFrame is printed.\n",
       "  You can use print_rows(num_rows=m, num_columns=n) to print more rows and columns.,\n",
       "  'precision_recall_overall': Columns:\n",
       "  \tcutoff\tint\n",
       "  \tprecision\tfloat\n",
       "  \trecall\tfloat\n",
       "  \n",
       "  Rows: 18\n",
       "  \n",
       "  Data:\n",
       "  +--------+-----------------------+------------------------+\n",
       "  | cutoff |       precision       |         recall         |\n",
       "  +--------+-----------------------+------------------------+\n",
       "  |   1    | 0.0019999999999999983 | 1.6198571076619854e-05 |\n",
       "  |   2    |         0.003         | 9.625078637772793e-05  |\n",
       "  |   3    | 0.0030000000000000005 | 0.0001504052455362888  |\n",
       "  |   4    |  0.003000000000000001 | 0.00029247279558669933 |\n",
       "  |   5    | 0.0031999999999999997 | 0.0003970558743077091  |\n",
       "  |   6    |  0.002999999999999999 | 0.0004400628673147021  |\n",
       "  |   7    | 0.0028571428571428563 | 0.0004696993811519592  |\n",
       "  |   8    |  0.003375000000000001 | 0.0007926100824433817  |\n",
       "  |   9    | 0.0036666666666666683 | 0.0008730467843142705  |\n",
       "  |   10   |  0.003700000000000001 | 0.0010610596048270904  |\n",
       "  +--------+-----------------------+------------------------+\n",
       "  [18 rows x 3 columns]\n",
       "  Note: Only the head of the SFrame is printed.\n",
       "  You can use print_rows(num_rows=m, num_columns=n) to print more rows and columns.,\n",
       "  'rmse_by_item': Columns:\n",
       "  \tmovieId\tint\n",
       "  \trmse\tfloat\n",
       "  \tcount\tint\n",
       "  \n",
       "  Rows: 5421\n",
       "  \n",
       "  Data:\n",
       "  +---------+---------------------+-------+\n",
       "  | movieId |         rmse        | count |\n",
       "  +---------+---------------------+-------+\n",
       "  |   5288  | 0.21364400587022603 |   1   |\n",
       "  |  96281  |  0.7970872255510066 |   1   |\n",
       "  |  61406  | 0.44733099588215053 |   1   |\n",
       "  |  26561  | 0.06437104144155681 |   1   |\n",
       "  |   2035  | 0.38525827177822336 |   1   |\n",
       "  |   1611  |  0.4653231022957012 |   5   |\n",
       "  |  42728  |  2.0388978767382833 |   3   |\n",
       "  |  31270  |  0.7226008628958493 |   1   |\n",
       "  |   2779  |  0.5547035165838925 |   4   |\n",
       "  |   3988  |  0.9042766974287326 |   8   |\n",
       "  +---------+---------------------+-------+\n",
       "  [5421 rows x 3 columns]\n",
       "  Note: Only the head of the SFrame is printed.\n",
       "  You can use print_rows(num_rows=m, num_columns=n) to print more rows and columns.,\n",
       "  'rmse_by_user': Columns:\n",
       "  \tuserId\tint\n",
       "  \trmse\tfloat\n",
       "  \tcount\tint\n",
       "  \n",
       "  Rows: 1000\n",
       "  \n",
       "  Data:\n",
       "  +--------+--------------------+-------+\n",
       "  | userId |        rmse        | count |\n",
       "  +--------+--------------------+-------+\n",
       "  | 33105  | 0.6295855521991609 |   28  |\n",
       "  | 25926  | 0.5962352757395591 |   29  |\n",
       "  | 28012  | 0.7972952864756319 |   20  |\n",
       "  |  3159  | 2.126995446262202  |   8   |\n",
       "  | 14451  | 0.5521755804732783 |  136  |\n",
       "  | 27530  | 0.560190774443867  |   46  |\n",
       "  | 21451  | 0.8343461396910371 |   17  |\n",
       "  | 32356  | 1.1596135650715977 |   5   |\n",
       "  | 30593  | 2.1380516513395267 |   8   |\n",
       "  | 21918  | 1.372240299799142  |   9   |\n",
       "  +--------+--------------------+-------+\n",
       "  [1000 rows x 3 columns]\n",
       "  Note: Only the head of the SFrame is printed.\n",
       "  You can use print_rows(num_rows=m, num_columns=n) to print more rows and columns.,\n",
       "  'rmse_overall': 0.8058449573035918}]"
      ]
     },
     "execution_count": 39,
     "metadata": {
      "tags": []
     },
     "output_type": "execute_result"
    }
   ],
   "source": [
    "tc.recommender.util.compare_models(validation_data_mf, [pearson_model,mf_model], model_names=[\"pearson\",\"mf\"])"
   ]
  },
  {
   "cell_type": "code",
   "execution_count": 40,
   "metadata": {
    "colab": {
     "base_uri": "https://localhost:8080/",
     "height": 1000
    },
    "executionInfo": {
     "elapsed": 311532,
     "status": "ok",
     "timestamp": 1605864677774,
     "user": {
      "displayName": "Asnat Messica Greenst",
      "photoUrl": "",
      "userId": "14949188109355979794"
     },
     "user_tz": -120
    },
    "id": "jq1ieTn9-TCr",
    "outputId": "6c494085-2b41-479d-f345-c4efdb364786"
   },
   "outputs": [
    {
     "data": {
      "text/html": [
       "<pre>Preparing data set.</pre>"
      ],
      "text/plain": [
       "Preparing data set."
      ]
     },
     "metadata": {
      "tags": []
     },
     "output_type": "display_data"
    },
    {
     "data": {
      "text/html": [
       "<pre>    Data has 8489725 observations with 58957 users and 14211 items.</pre>"
      ],
      "text/plain": [
       "    Data has 8489725 observations with 58957 users and 14211 items."
      ]
     },
     "metadata": {
      "tags": []
     },
     "output_type": "display_data"
    },
    {
     "data": {
      "text/html": [
       "<pre>    Data prepared in: 8.79002s</pre>"
      ],
      "text/plain": [
       "    Data prepared in: 8.79002s"
      ]
     },
     "metadata": {
      "tags": []
     },
     "output_type": "display_data"
    },
    {
     "data": {
      "text/html": [
       "<pre>Training ranking_factorization_recommender for recommendations.</pre>"
      ],
      "text/plain": [
       "Training ranking_factorization_recommender for recommendations."
      ]
     },
     "metadata": {
      "tags": []
     },
     "output_type": "display_data"
    },
    {
     "data": {
      "text/html": [
       "<pre>+--------------------------------+--------------------------------------------------+----------+</pre>"
      ],
      "text/plain": [
       "+--------------------------------+--------------------------------------------------+----------+"
      ]
     },
     "metadata": {
      "tags": []
     },
     "output_type": "display_data"
    },
    {
     "data": {
      "text/html": [
       "<pre>| Parameter                      | Description                                      | Value    |</pre>"
      ],
      "text/plain": [
       "| Parameter                      | Description                                      | Value    |"
      ]
     },
     "metadata": {
      "tags": []
     },
     "output_type": "display_data"
    },
    {
     "data": {
      "text/html": [
       "<pre>+--------------------------------+--------------------------------------------------+----------+</pre>"
      ],
      "text/plain": [
       "+--------------------------------+--------------------------------------------------+----------+"
      ]
     },
     "metadata": {
      "tags": []
     },
     "output_type": "display_data"
    },
    {
     "data": {
      "text/html": [
       "<pre>| num_factors                    | Factor Dimension                                 | 32       |</pre>"
      ],
      "text/plain": [
       "| num_factors                    | Factor Dimension                                 | 32       |"
      ]
     },
     "metadata": {
      "tags": []
     },
     "output_type": "display_data"
    },
    {
     "data": {
      "text/html": [
       "<pre>| regularization                 | L2 Regularization on Factors                     | 1e-09    |</pre>"
      ],
      "text/plain": [
       "| regularization                 | L2 Regularization on Factors                     | 1e-09    |"
      ]
     },
     "metadata": {
      "tags": []
     },
     "output_type": "display_data"
    },
    {
     "data": {
      "text/html": [
       "<pre>| solver                         | Solver used for training                         | sgd      |</pre>"
      ],
      "text/plain": [
       "| solver                         | Solver used for training                         | sgd      |"
      ]
     },
     "metadata": {
      "tags": []
     },
     "output_type": "display_data"
    },
    {
     "data": {
      "text/html": [
       "<pre>| linear_regularization          | L2 Regularization on Linear Coefficients         | 1e-09    |</pre>"
      ],
      "text/plain": [
       "| linear_regularization          | L2 Regularization on Linear Coefficients         | 1e-09    |"
      ]
     },
     "metadata": {
      "tags": []
     },
     "output_type": "display_data"
    },
    {
     "data": {
      "text/html": [
       "<pre>| ranking_regularization         | Rank-based Regularization Weight                 | 0.25     |</pre>"
      ],
      "text/plain": [
       "| ranking_regularization         | Rank-based Regularization Weight                 | 0.25     |"
      ]
     },
     "metadata": {
      "tags": []
     },
     "output_type": "display_data"
    },
    {
     "data": {
      "text/html": [
       "<pre>| max_iterations                 | Maximum Number of Iterations                     | 25       |</pre>"
      ],
      "text/plain": [
       "| max_iterations                 | Maximum Number of Iterations                     | 25       |"
      ]
     },
     "metadata": {
      "tags": []
     },
     "output_type": "display_data"
    },
    {
     "data": {
      "text/html": [
       "<pre>+--------------------------------+--------------------------------------------------+----------+</pre>"
      ],
      "text/plain": [
       "+--------------------------------+--------------------------------------------------+----------+"
      ]
     },
     "metadata": {
      "tags": []
     },
     "output_type": "display_data"
    },
    {
     "data": {
      "text/html": [
       "<pre>  Optimizing model using SGD; tuning step size.</pre>"
      ],
      "text/plain": [
       "  Optimizing model using SGD; tuning step size."
      ]
     },
     "metadata": {
      "tags": []
     },
     "output_type": "display_data"
    },
    {
     "data": {
      "text/html": [
       "<pre>  Using 1061215 / 8489725 points for tuning the step size.</pre>"
      ],
      "text/plain": [
       "  Using 1061215 / 8489725 points for tuning the step size."
      ]
     },
     "metadata": {
      "tags": []
     },
     "output_type": "display_data"
    },
    {
     "data": {
      "text/html": [
       "<pre>+---------+-------------------+------------------------------------------+</pre>"
      ],
      "text/plain": [
       "+---------+-------------------+------------------------------------------+"
      ]
     },
     "metadata": {
      "tags": []
     },
     "output_type": "display_data"
    },
    {
     "data": {
      "text/html": [
       "<pre>| Attempt | Initial Step Size | Estimated Objective Value                |</pre>"
      ],
      "text/plain": [
       "| Attempt | Initial Step Size | Estimated Objective Value                |"
      ]
     },
     "metadata": {
      "tags": []
     },
     "output_type": "display_data"
    },
    {
     "data": {
      "text/html": [
       "<pre>+---------+-------------------+------------------------------------------+</pre>"
      ],
      "text/plain": [
       "+---------+-------------------+------------------------------------------+"
      ]
     },
     "metadata": {
      "tags": []
     },
     "output_type": "display_data"
    },
    {
     "data": {
      "text/html": [
       "<pre>| 0       | 25                | Not Viable                               |</pre>"
      ],
      "text/plain": [
       "| 0       | 25                | Not Viable                               |"
      ]
     },
     "metadata": {
      "tags": []
     },
     "output_type": "display_data"
    },
    {
     "data": {
      "text/html": [
       "<pre>| 1       | 6.25              | Not Viable                               |</pre>"
      ],
      "text/plain": [
       "| 1       | 6.25              | Not Viable                               |"
      ]
     },
     "metadata": {
      "tags": []
     },
     "output_type": "display_data"
    },
    {
     "data": {
      "text/html": [
       "<pre>| 2       | 1.5625            | Not Viable                               |</pre>"
      ],
      "text/plain": [
       "| 2       | 1.5625            | Not Viable                               |"
      ]
     },
     "metadata": {
      "tags": []
     },
     "output_type": "display_data"
    },
    {
     "data": {
      "text/html": [
       "<pre>| 3       | 0.390625          | Not Viable                               |</pre>"
      ],
      "text/plain": [
       "| 3       | 0.390625          | Not Viable                               |"
      ]
     },
     "metadata": {
      "tags": []
     },
     "output_type": "display_data"
    },
    {
     "data": {
      "text/html": [
       "<pre>| 4       | 0.0976562         | 0.739816                                 |</pre>"
      ],
      "text/plain": [
       "| 4       | 0.0976562         | 0.739816                                 |"
      ]
     },
     "metadata": {
      "tags": []
     },
     "output_type": "display_data"
    },
    {
     "data": {
      "text/html": [
       "<pre>| 5       | 0.0488281         | 1.339                                    |</pre>"
      ],
      "text/plain": [
       "| 5       | 0.0488281         | 1.339                                    |"
      ]
     },
     "metadata": {
      "tags": []
     },
     "output_type": "display_data"
    },
    {
     "data": {
      "text/html": [
       "<pre>| 6       | 0.0244141         | 1.44192                                  |</pre>"
      ],
      "text/plain": [
       "| 6       | 0.0244141         | 1.44192                                  |"
      ]
     },
     "metadata": {
      "tags": []
     },
     "output_type": "display_data"
    },
    {
     "data": {
      "text/html": [
       "<pre>| 7       | 0.012207          | 1.46343                                  |</pre>"
      ],
      "text/plain": [
       "| 7       | 0.012207          | 1.46343                                  |"
      ]
     },
     "metadata": {
      "tags": []
     },
     "output_type": "display_data"
    },
    {
     "data": {
      "text/html": [
       "<pre>+---------+-------------------+------------------------------------------+</pre>"
      ],
      "text/plain": [
       "+---------+-------------------+------------------------------------------+"
      ]
     },
     "metadata": {
      "tags": []
     },
     "output_type": "display_data"
    },
    {
     "data": {
      "text/html": [
       "<pre>| Final   | 0.0976562         | 0.739816                                 |</pre>"
      ],
      "text/plain": [
       "| Final   | 0.0976562         | 0.739816                                 |"
      ]
     },
     "metadata": {
      "tags": []
     },
     "output_type": "display_data"
    },
    {
     "data": {
      "text/html": [
       "<pre>+---------+-------------------+------------------------------------------+</pre>"
      ],
      "text/plain": [
       "+---------+-------------------+------------------------------------------+"
      ]
     },
     "metadata": {
      "tags": []
     },
     "output_type": "display_data"
    },
    {
     "data": {
      "text/html": [
       "<pre>Starting Optimization.</pre>"
      ],
      "text/plain": [
       "Starting Optimization."
      ]
     },
     "metadata": {
      "tags": []
     },
     "output_type": "display_data"
    },
    {
     "data": {
      "text/html": [
       "<pre>+---------+--------------+-------------------+-----------------------+-------------+</pre>"
      ],
      "text/plain": [
       "+---------+--------------+-------------------+-----------------------+-------------+"
      ]
     },
     "metadata": {
      "tags": []
     },
     "output_type": "display_data"
    },
    {
     "data": {
      "text/html": [
       "<pre>| Iter.   | Elapsed Time | Approx. Objective | Approx. Training RMSE | Step Size   |</pre>"
      ],
      "text/plain": [
       "| Iter.   | Elapsed Time | Approx. Objective | Approx. Training RMSE | Step Size   |"
      ]
     },
     "metadata": {
      "tags": []
     },
     "output_type": "display_data"
    },
    {
     "data": {
      "text/html": [
       "<pre>+---------+--------------+-------------------+-----------------------+-------------+</pre>"
      ],
      "text/plain": [
       "+---------+--------------+-------------------+-----------------------+-------------+"
      ]
     },
     "metadata": {
      "tags": []
     },
     "output_type": "display_data"
    },
    {
     "data": {
      "text/html": [
       "<pre>| Initial | 213us        | 2.16394           | 1.05056               |             |</pre>"
      ],
      "text/plain": [
       "| Initial | 213us        | 2.16394           | 1.05056               |             |"
      ]
     },
     "metadata": {
      "tags": []
     },
     "output_type": "display_data"
    },
    {
     "data": {
      "text/html": [
       "<pre>+---------+--------------+-------------------+-----------------------+-------------+</pre>"
      ],
      "text/plain": [
       "+---------+--------------+-------------------+-----------------------+-------------+"
      ]
     },
     "metadata": {
      "tags": []
     },
     "output_type": "display_data"
    },
    {
     "data": {
      "text/html": [
       "<pre>| 1       | 13.57s       | DIVERGED          | DIVERGED              | 0.0976562   |</pre>"
      ],
      "text/plain": [
       "| 1       | 13.57s       | DIVERGED          | DIVERGED              | 0.0976562   |"
      ]
     },
     "metadata": {
      "tags": []
     },
     "output_type": "display_data"
    },
    {
     "data": {
      "text/html": [
       "<pre>| RESET   | 18.06s       | 2.16394           | 1.05056               |             |</pre>"
      ],
      "text/plain": [
       "| RESET   | 18.06s       | 2.16394           | 1.05056               |             |"
      ]
     },
     "metadata": {
      "tags": []
     },
     "output_type": "display_data"
    },
    {
     "data": {
      "text/html": [
       "<pre>| 1       | 28.25s       | 1.32205           | 0.966705              | 0.0488281   |</pre>"
      ],
      "text/plain": [
       "| 1       | 28.25s       | 1.32205           | 0.966705              | 0.0488281   |"
      ]
     },
     "metadata": {
      "tags": []
     },
     "output_type": "display_data"
    },
    {
     "data": {
      "text/html": [
       "<pre>| 2       | 38.06s       | 1.11237           | 0.893429              | 0.0290334   |</pre>"
      ],
      "text/plain": [
       "| 2       | 38.06s       | 1.11237           | 0.893429              | 0.0290334   |"
      ]
     },
     "metadata": {
      "tags": []
     },
     "output_type": "display_data"
    },
    {
     "data": {
      "text/html": [
       "<pre>| 3       | 47.89s       | 1.00312           | 0.841953              | 0.0214205   |</pre>"
      ],
      "text/plain": [
       "| 3       | 47.89s       | 1.00312           | 0.841953              | 0.0214205   |"
      ]
     },
     "metadata": {
      "tags": []
     },
     "output_type": "display_data"
    },
    {
     "data": {
      "text/html": [
       "<pre>| 4       | 57.58s       | 0.944988          | 0.816699              | 0.0172633   |</pre>"
      ],
      "text/plain": [
       "| 4       | 57.58s       | 0.944988          | 0.816699              | 0.0172633   |"
      ]
     },
     "metadata": {
      "tags": []
     },
     "output_type": "display_data"
    },
    {
     "data": {
      "text/html": [
       "<pre>| 5       | 1m 7s        | 0.910052          | 0.799452              | 0.014603    |</pre>"
      ],
      "text/plain": [
       "| 5       | 1m 7s        | 0.910052          | 0.799452              | 0.014603    |"
      ]
     },
     "metadata": {
      "tags": []
     },
     "output_type": "display_data"
    },
    {
     "data": {
      "text/html": [
       "<pre>| 7       | 1m 26s       | 0.868747          | 0.778883              | 0.0113461   |</pre>"
      ],
      "text/plain": [
       "| 7       | 1m 26s       | 0.868747          | 0.778883              | 0.0113461   |"
      ]
     },
     "metadata": {
      "tags": []
     },
     "output_type": "display_data"
    },
    {
     "data": {
      "text/html": [
       "<pre>| 8       | 1m 35s       | 0.855208          | 0.771981              | 0.0102648   |</pre>"
      ],
      "text/plain": [
       "| 8       | 1m 35s       | 0.855208          | 0.771981              | 0.0102648   |"
      ]
     },
     "metadata": {
      "tags": []
     },
     "output_type": "display_data"
    },
    {
     "data": {
      "text/html": [
       "<pre>| 9       | 1m 45s       | 0.844742          | 0.766542              | 0.00939698  |</pre>"
      ],
      "text/plain": [
       "| 9       | 1m 45s       | 0.844742          | 0.766542              | 0.00939698  |"
      ]
     },
     "metadata": {
      "tags": []
     },
     "output_type": "display_data"
    },
    {
     "data": {
      "text/html": [
       "<pre>| 10      | 1m 54s       | 0.835612          | 0.761821              | 0.008683    |</pre>"
      ],
      "text/plain": [
       "| 10      | 1m 54s       | 0.835612          | 0.761821              | 0.008683    |"
      ]
     },
     "metadata": {
      "tags": []
     },
     "output_type": "display_data"
    },
    {
     "data": {
      "text/html": [
       "<pre>| 11      | 2m 4s        | 0.82831           | 0.757929              | 0.00808399  |</pre>"
      ],
      "text/plain": [
       "| 11      | 2m 4s        | 0.82831           | 0.757929              | 0.00808399  |"
      ]
     },
     "metadata": {
      "tags": []
     },
     "output_type": "display_data"
    },
    {
     "data": {
      "text/html": [
       "<pre>| 12      | 2m 14s       | 0.821365          | 0.754304              | 0.00757328  |</pre>"
      ],
      "text/plain": [
       "| 12      | 2m 14s       | 0.821365          | 0.754304              | 0.00757328  |"
      ]
     },
     "metadata": {
      "tags": []
     },
     "output_type": "display_data"
    },
    {
     "data": {
      "text/html": [
       "<pre>| 13      | 2m 23s       | 0.816175          | 0.75158               | 0.00713202  |</pre>"
      ],
      "text/plain": [
       "| 13      | 2m 23s       | 0.816175          | 0.75158               | 0.00713202  |"
      ]
     },
     "metadata": {
      "tags": []
     },
     "output_type": "display_data"
    },
    {
     "data": {
      "text/html": [
       "<pre>| 14      | 2m 32s       | 0.811412          | 0.748971              | 0.00674643  |</pre>"
      ],
      "text/plain": [
       "| 14      | 2m 32s       | 0.811412          | 0.748971              | 0.00674643  |"
      ]
     },
     "metadata": {
      "tags": []
     },
     "output_type": "display_data"
    },
    {
     "data": {
      "text/html": [
       "<pre>| 15      | 2m 42s       | 0.806903          | 0.746589              | 0.00640622  |</pre>"
      ],
      "text/plain": [
       "| 15      | 2m 42s       | 0.806903          | 0.746589              | 0.00640622  |"
      ]
     },
     "metadata": {
      "tags": []
     },
     "output_type": "display_data"
    },
    {
     "data": {
      "text/html": [
       "<pre>| 16      | 2m 51s       | 0.803139          | 0.744449              | 0.00610352  |</pre>"
      ],
      "text/plain": [
       "| 16      | 2m 51s       | 0.803139          | 0.744449              | 0.00610352  |"
      ]
     },
     "metadata": {
      "tags": []
     },
     "output_type": "display_data"
    },
    {
     "data": {
      "text/html": [
       "<pre>| 17      | 3m 1s        | 0.79989           | 0.742699              | 0.00583221  |</pre>"
      ],
      "text/plain": [
       "| 17      | 3m 1s        | 0.79989           | 0.742699              | 0.00583221  |"
      ]
     },
     "metadata": {
      "tags": []
     },
     "output_type": "display_data"
    },
    {
     "data": {
      "text/html": [
       "<pre>| 18      | 3m 10s       | 0.796723          | 0.74092               | 0.00558748  |</pre>"
      ],
      "text/plain": [
       "| 18      | 3m 10s       | 0.796723          | 0.74092               | 0.00558748  |"
      ]
     },
     "metadata": {
      "tags": []
     },
     "output_type": "display_data"
    },
    {
     "data": {
      "text/html": [
       "<pre>| 19      | 3m 19s       | 0.793839          | 0.739483              | 0.00536543  |</pre>"
      ],
      "text/plain": [
       "| 19      | 3m 19s       | 0.793839          | 0.739483              | 0.00536543  |"
      ]
     },
     "metadata": {
      "tags": []
     },
     "output_type": "display_data"
    },
    {
     "data": {
      "text/html": [
       "<pre>| 20      | 3m 29s       | 0.791532          | 0.738308              | 0.00516295  |</pre>"
      ],
      "text/plain": [
       "| 20      | 3m 29s       | 0.791532          | 0.738308              | 0.00516295  |"
      ]
     },
     "metadata": {
      "tags": []
     },
     "output_type": "display_data"
    },
    {
     "data": {
      "text/html": [
       "<pre>| 21      | 3m 38s       | 0.789191          | 0.736849              | 0.00497743  |</pre>"
      ],
      "text/plain": [
       "| 21      | 3m 38s       | 0.789191          | 0.736849              | 0.00497743  |"
      ]
     },
     "metadata": {
      "tags": []
     },
     "output_type": "display_data"
    },
    {
     "data": {
      "text/html": [
       "<pre>| 22      | 3m 47s       | 0.786603          | 0.735651              | 0.00480677  |</pre>"
      ],
      "text/plain": [
       "| 22      | 3m 47s       | 0.786603          | 0.735651              | 0.00480677  |"
      ]
     },
     "metadata": {
      "tags": []
     },
     "output_type": "display_data"
    },
    {
     "data": {
      "text/html": [
       "<pre>| 23      | 3m 56s       | 0.784683          | 0.734554              | 0.00464916  |</pre>"
      ],
      "text/plain": [
       "| 23      | 3m 56s       | 0.784683          | 0.734554              | 0.00464916  |"
      ]
     },
     "metadata": {
      "tags": []
     },
     "output_type": "display_data"
    },
    {
     "data": {
      "text/html": [
       "<pre>| 24      | 4m 6s        | 0.782489          | 0.733419              | 0.0045031   |</pre>"
      ],
      "text/plain": [
       "| 24      | 4m 6s        | 0.782489          | 0.733419              | 0.0045031   |"
      ]
     },
     "metadata": {
      "tags": []
     },
     "output_type": "display_data"
    },
    {
     "data": {
      "text/html": [
       "<pre>| 25      | 4m 15s       | 0.780787          | 0.732406              | 0.00436732  |</pre>"
      ],
      "text/plain": [
       "| 25      | 4m 15s       | 0.780787          | 0.732406              | 0.00436732  |"
      ]
     },
     "metadata": {
      "tags": []
     },
     "output_type": "display_data"
    },
    {
     "data": {
      "text/html": [
       "<pre>+---------+--------------+-------------------+-----------------------+-------------+</pre>"
      ],
      "text/plain": [
       "+---------+--------------+-------------------+-----------------------+-------------+"
      ]
     },
     "metadata": {
      "tags": []
     },
     "output_type": "display_data"
    },
    {
     "data": {
      "text/html": [
       "<pre>Optimization Complete: Maximum number of passes through the data reached.</pre>"
      ],
      "text/plain": [
       "Optimization Complete: Maximum number of passes through the data reached."
      ]
     },
     "metadata": {
      "tags": []
     },
     "output_type": "display_data"
    },
    {
     "data": {
      "text/html": [
       "<pre>Computing final objective value and training RMSE.</pre>"
      ],
      "text/plain": [
       "Computing final objective value and training RMSE."
      ]
     },
     "metadata": {
      "tags": []
     },
     "output_type": "display_data"
    },
    {
     "data": {
      "text/html": [
       "<pre>       Final objective value: 0.762495</pre>"
      ],
      "text/plain": [
       "       Final objective value: 0.762495"
      ]
     },
     "metadata": {
      "tags": []
     },
     "output_type": "display_data"
    },
    {
     "data": {
      "text/html": [
       "<pre>       Final training RMSE: 0.712547</pre>"
      ],
      "text/plain": [
       "       Final training RMSE: 0.712547"
      ]
     },
     "metadata": {
      "tags": []
     },
     "output_type": "display_data"
    }
   ],
   "source": [
    "mf_rank_model = tc.ranking_factorization_recommender.create(training_data_mf,'userId','movieId',target=\"rating\")"
   ]
  },
  {
   "cell_type": "code",
   "execution_count": 42,
   "metadata": {
    "colab": {
     "base_uri": "https://localhost:8080/",
     "height": 1000
    },
    "executionInfo": {
     "elapsed": 2930,
     "status": "ok",
     "timestamp": 1605869477813,
     "user": {
      "displayName": "Asnat Messica Greenst",
      "photoUrl": "",
      "userId": "14949188109355979794"
     },
     "user_tz": -120
    },
    "id": "4Svkv68mRFVq",
    "outputId": "7690dadc-c415-45e3-a36b-2b2b923d8e3a"
   },
   "outputs": [
    {
     "name": "stdout",
     "output_type": "stream",
     "text": [
      "PROGRESS: Evaluate model cosine\n"
     ]
    },
    {
     "data": {
      "text/html": [
       "<pre>recommendations finished on 1000/1000 queries. users per second: 1770.36</pre>"
      ],
      "text/plain": [
       "recommendations finished on 1000/1000 queries. users per second: 1770.36"
      ]
     },
     "metadata": {
      "tags": []
     },
     "output_type": "display_data"
    },
    {
     "name": "stdout",
     "output_type": "stream",
     "text": [
      "\n",
      "Precision and recall summary statistics by cutoff\n",
      "+--------+---------------------+----------------------+\n",
      "| cutoff |    mean_precision   |     mean_recall      |\n",
      "+--------+---------------------+----------------------+\n",
      "|   1    |  0.3619999999999999 | 0.025476487256527135 |\n",
      "|   2    |        0.3285       | 0.045957361437810526 |\n",
      "|   3    |  0.3156666666666663 | 0.06499186837248325  |\n",
      "|   4    |  0.3010000000000001 |  0.0788392797585694  |\n",
      "|   5    |  0.2881999999999999 | 0.09193025569575682  |\n",
      "|   6    |  0.2781666666666668 | 0.10368574283030749  |\n",
      "|   7    | 0.26528571428571424 | 0.11308066816648561  |\n",
      "|   8    |       0.25475       | 0.12146416860303043  |\n",
      "|   9    | 0.24988888888888897 | 0.13262686270302135  |\n",
      "|   10   | 0.24270000000000005 | 0.14088886689367552  |\n",
      "+--------+---------------------+----------------------+\n",
      "[10 rows x 3 columns]\n",
      "\n",
      "\n",
      "Overall RMSE: 3.4918197617743125\n",
      "\n",
      "Per User RMSE (best)\n",
      "+--------+--------------------+-------+\n",
      "| userId |        rmse        | count |\n",
      "+--------+--------------------+-------+\n",
      "| 38426  | 0.5130768167345148 |   1   |\n",
      "+--------+--------------------+-------+\n",
      "[1 rows x 3 columns]\n",
      "\n",
      "\n",
      "Per User RMSE (worst)\n",
      "+--------+-------------------+-------+\n",
      "| userId |        rmse       | count |\n",
      "+--------+-------------------+-------+\n",
      "| 43479  | 4.923024062187441 |   1   |\n",
      "+--------+-------------------+-------+\n",
      "[1 rows x 3 columns]\n",
      "\n",
      "\n",
      "Per Item RMSE (best)\n",
      "+---------+--------------------+-------+\n",
      "| movieId |        rmse        | count |\n",
      "+---------+--------------------+-------+\n",
      "|  43679  | 0.4825447597392905 |   1   |\n",
      "+---------+--------------------+-------+\n",
      "[1 rows x 3 columns]\n",
      "\n",
      "\n",
      "Per Item RMSE (worst)\n",
      "+---------+------+-------+\n",
      "| movieId | rmse | count |\n",
      "+---------+------+-------+\n",
      "|   6772  | 5.0  |   1   |\n",
      "+---------+------+-------+\n",
      "[1 rows x 3 columns]\n",
      "\n",
      "PROGRESS: Evaluate model mf rank\n"
     ]
    },
    {
     "data": {
      "text/html": [
       "<pre>recommendations finished on 1000/1000 queries. users per second: 1579.37</pre>"
      ],
      "text/plain": [
       "recommendations finished on 1000/1000 queries. users per second: 1579.37"
      ]
     },
     "metadata": {
      "tags": []
     },
     "output_type": "display_data"
    },
    {
     "name": "stdout",
     "output_type": "stream",
     "text": [
      "\n",
      "Precision and recall summary statistics by cutoff\n",
      "+--------+---------------------+----------------------+\n",
      "| cutoff |    mean_precision   |     mean_recall      |\n",
      "+--------+---------------------+----------------------+\n",
      "|   1    | 0.24700000000000016 | 0.013718717353605097 |\n",
      "|   2    | 0.21800000000000003 | 0.022201854423126246 |\n",
      "|   3    | 0.20433333333333334 | 0.030421814268367483 |\n",
      "|   4    | 0.19775000000000004 | 0.038213625665178455 |\n",
      "|   5    | 0.19060000000000007 | 0.045976399676383325 |\n",
      "|   6    | 0.18599999999999994 | 0.054364329379747375 |\n",
      "|   7    | 0.18128571428571422 | 0.06155757876630905  |\n",
      "|   8    |       0.176875      | 0.06780341799846576  |\n",
      "|   9    | 0.17155555555555552 | 0.07359106293967094  |\n",
      "|   10   | 0.16820000000000002 |  0.078601598008863   |\n",
      "+--------+---------------------+----------------------+\n",
      "[10 rows x 3 columns]\n",
      "\n",
      "\n",
      "Overall RMSE: 0.890729291379845\n",
      "\n",
      "Per User RMSE (best)\n",
      "+--------+----------------------+-------+\n",
      "| userId |         rmse         | count |\n",
      "+--------+----------------------+-------+\n",
      "| 31021  | 0.004050030792314807 |   1   |\n",
      "+--------+----------------------+-------+\n",
      "[1 rows x 3 columns]\n",
      "\n",
      "\n",
      "Per User RMSE (worst)\n",
      "+--------+--------------------+-------+\n",
      "| userId |        rmse        | count |\n",
      "+--------+--------------------+-------+\n",
      "|  3156  | 2.4599270803603694 |   2   |\n",
      "+--------+--------------------+-------+\n",
      "[1 rows x 3 columns]\n",
      "\n",
      "\n",
      "Per Item RMSE (best)\n",
      "+---------+-----------------------+-------+\n",
      "| movieId |          rmse         | count |\n",
      "+---------+-----------------------+-------+\n",
      "|   7831  | 0.0006208563690970337 |   1   |\n",
      "+---------+-----------------------+-------+\n",
      "[1 rows x 3 columns]\n",
      "\n",
      "\n",
      "Per Item RMSE (worst)\n",
      "+---------+--------------------+-------+\n",
      "| movieId |        rmse        | count |\n",
      "+---------+--------------------+-------+\n",
      "|   5775  | 4.9669798915738275 |   1   |\n",
      "+---------+--------------------+-------+\n",
      "[1 rows x 3 columns]\n",
      "\n"
     ]
    },
    {
     "data": {
      "text/plain": [
       "[{'precision_recall_by_user': Columns:\n",
       "  \tuserId\tint\n",
       "  \tcutoff\tint\n",
       "  \tprecision\tfloat\n",
       "  \trecall\tfloat\n",
       "  \tcount\tint\n",
       "  \n",
       "  Rows: 18000\n",
       "  \n",
       "  Data:\n",
       "  +--------+--------+-----------+--------+-------+\n",
       "  | userId | cutoff | precision | recall | count |\n",
       "  +--------+--------+-----------+--------+-------+\n",
       "  | 29099  |   1    |    0.0    |  0.0   |   30  |\n",
       "  | 29099  |   2    |    0.0    |  0.0   |   30  |\n",
       "  | 29099  |   3    |    0.0    |  0.0   |   30  |\n",
       "  | 29099  |   4    |    0.0    |  0.0   |   30  |\n",
       "  | 29099  |   5    |    0.0    |  0.0   |   30  |\n",
       "  | 29099  |   6    |    0.0    |  0.0   |   30  |\n",
       "  | 29099  |   7    |    0.0    |  0.0   |   30  |\n",
       "  | 29099  |   8    |    0.0    |  0.0   |   30  |\n",
       "  | 29099  |   9    |    0.0    |  0.0   |   30  |\n",
       "  | 29099  |   10   |    0.0    |  0.0   |   30  |\n",
       "  +--------+--------+-----------+--------+-------+\n",
       "  [18000 rows x 5 columns]\n",
       "  Note: Only the head of the SFrame is printed.\n",
       "  You can use print_rows(num_rows=m, num_columns=n) to print more rows and columns.,\n",
       "  'precision_recall_overall': Columns:\n",
       "  \tcutoff\tint\n",
       "  \tprecision\tfloat\n",
       "  \trecall\tfloat\n",
       "  \n",
       "  Rows: 18\n",
       "  \n",
       "  Data:\n",
       "  +--------+---------------------+----------------------+\n",
       "  | cutoff |      precision      |        recall        |\n",
       "  +--------+---------------------+----------------------+\n",
       "  |   1    |        0.362        | 0.025476487256527167 |\n",
       "  |   2    |        0.3285       | 0.04595736143781057  |\n",
       "  |   3    |  0.3156666666666667 | 0.06499186837248319  |\n",
       "  |   4    | 0.30099999999999993 | 0.07883927975856939  |\n",
       "  |   5    | 0.28819999999999973 | 0.09193025569575676  |\n",
       "  |   6    |  0.2781666666666665 | 0.10368574283030745  |\n",
       "  |   7    | 0.26528571428571457 | 0.11308066816648563  |\n",
       "  |   8    | 0.25474999999999987 | 0.12146416860303047  |\n",
       "  |   9    | 0.24988888888888897 | 0.13262686270302146  |\n",
       "  |   10   |  0.2427000000000001 |  0.1408888668936755  |\n",
       "  +--------+---------------------+----------------------+\n",
       "  [18 rows x 3 columns]\n",
       "  Note: Only the head of the SFrame is printed.\n",
       "  You can use print_rows(num_rows=m, num_columns=n) to print more rows and columns.,\n",
       "  'rmse_by_item': Columns:\n",
       "  \tmovieId\tint\n",
       "  \trmse\tfloat\n",
       "  \tcount\tint\n",
       "  \n",
       "  Rows: 5421\n",
       "  \n",
       "  Data:\n",
       "  +---------+--------------------+-------+\n",
       "  | movieId |        rmse        | count |\n",
       "  +---------+--------------------+-------+\n",
       "  |   5288  |        3.5         |   1   |\n",
       "  |  96281  | 3.4651972866720624 |   1   |\n",
       "  |  61406  | 3.4992933714327448 |   1   |\n",
       "  |  26561  | 3.4883922934532166 |   1   |\n",
       "  |   2035  | 3.9861363379406356 |   1   |\n",
       "  |   1611  | 3.3724354854232454 |   5   |\n",
       "  |  42728  | 3.0621834249177478 |   3   |\n",
       "  |  31270  | 3.4948521269562773 |   1   |\n",
       "  |   2779  | 4.180957357594949  |   4   |\n",
       "  |   3988  | 2.8557196700234906 |   8   |\n",
       "  +---------+--------------------+-------+\n",
       "  [5421 rows x 3 columns]\n",
       "  Note: Only the head of the SFrame is printed.\n",
       "  You can use print_rows(num_rows=m, num_columns=n) to print more rows and columns.,\n",
       "  'rmse_by_user': Columns:\n",
       "  \tuserId\tint\n",
       "  \trmse\tfloat\n",
       "  \tcount\tint\n",
       "  \n",
       "  Rows: 1000\n",
       "  \n",
       "  Data:\n",
       "  +--------+--------------------+-------+\n",
       "  | userId |        rmse        | count |\n",
       "  +--------+--------------------+-------+\n",
       "  | 33105  | 3.717658464147923  |   28  |\n",
       "  | 25926  | 3.877858820552869  |   29  |\n",
       "  | 28012  | 3.484344078219774  |   20  |\n",
       "  |  3159  | 3.141500323878683  |   8   |\n",
       "  | 14451  | 4.072594032897611  |  136  |\n",
       "  | 27530  | 3.886667584454628  |   46  |\n",
       "  | 21451  | 3.981299519250892  |   17  |\n",
       "  | 32356  | 3.689924690847072  |   5   |\n",
       "  | 30593  | 3.4607503901171137 |   8   |\n",
       "  | 21918  | 3.095370499041059  |   9   |\n",
       "  +--------+--------------------+-------+\n",
       "  [1000 rows x 3 columns]\n",
       "  Note: Only the head of the SFrame is printed.\n",
       "  You can use print_rows(num_rows=m, num_columns=n) to print more rows and columns.,\n",
       "  'rmse_overall': 3.4918197617743125},\n",
       " {'precision_recall_by_user': Columns:\n",
       "  \tuserId\tint\n",
       "  \tcutoff\tint\n",
       "  \tprecision\tfloat\n",
       "  \trecall\tfloat\n",
       "  \tcount\tint\n",
       "  \n",
       "  Rows: 18000\n",
       "  \n",
       "  Data:\n",
       "  +--------+--------+--------------------+---------------------+-------+\n",
       "  | userId | cutoff |     precision      |        recall       | count |\n",
       "  +--------+--------+--------------------+---------------------+-------+\n",
       "  | 29099  |   1    |        1.0         | 0.03333333333333333 |   30  |\n",
       "  | 29099  |   2    |        0.5         | 0.03333333333333333 |   30  |\n",
       "  | 29099  |   3    | 0.3333333333333333 | 0.03333333333333333 |   30  |\n",
       "  | 29099  |   4    |        0.25        | 0.03333333333333333 |   30  |\n",
       "  | 29099  |   5    |        0.2         | 0.03333333333333333 |   30  |\n",
       "  | 29099  |   6    | 0.3333333333333333 | 0.06666666666666667 |   30  |\n",
       "  | 29099  |   7    | 0.2857142857142857 | 0.06666666666666667 |   30  |\n",
       "  | 29099  |   8    |        0.25        | 0.06666666666666667 |   30  |\n",
       "  | 29099  |   9    | 0.2222222222222222 | 0.06666666666666667 |   30  |\n",
       "  | 29099  |   10   |        0.2         | 0.06666666666666667 |   30  |\n",
       "  +--------+--------+--------------------+---------------------+-------+\n",
       "  [18000 rows x 5 columns]\n",
       "  Note: Only the head of the SFrame is printed.\n",
       "  You can use print_rows(num_rows=m, num_columns=n) to print more rows and columns.,\n",
       "  'precision_recall_overall': Columns:\n",
       "  \tcutoff\tint\n",
       "  \tprecision\tfloat\n",
       "  \trecall\tfloat\n",
       "  \n",
       "  Rows: 18\n",
       "  \n",
       "  Data:\n",
       "  +--------+---------------------+----------------------+\n",
       "  | cutoff |      precision      |        recall        |\n",
       "  +--------+---------------------+----------------------+\n",
       "  |   1    | 0.24699999999999994 | 0.013718717353605098 |\n",
       "  |   2    |        0.218        | 0.022201854423126253 |\n",
       "  |   3    | 0.20433333333333323 | 0.030421814268367493 |\n",
       "  |   4    |       0.19775       | 0.03821362566517849  |\n",
       "  |   5    | 0.19060000000000002 | 0.04597639967638332  |\n",
       "  |   6    | 0.18600000000000005 | 0.054364329379747355 |\n",
       "  |   7    | 0.18128571428571422 | 0.061557578766309025 |\n",
       "  |   8    | 0.17687499999999998 | 0.06780341799846575  |\n",
       "  |   9    | 0.17155555555555552 | 0.07359106293967092  |\n",
       "  |   10   |  0.1682000000000001 | 0.07860159800886292  |\n",
       "  +--------+---------------------+----------------------+\n",
       "  [18 rows x 3 columns]\n",
       "  Note: Only the head of the SFrame is printed.\n",
       "  You can use print_rows(num_rows=m, num_columns=n) to print more rows and columns.,\n",
       "  'rmse_by_item': Columns:\n",
       "  \tmovieId\tint\n",
       "  \trmse\tfloat\n",
       "  \tcount\tint\n",
       "  \n",
       "  Rows: 5421\n",
       "  \n",
       "  Data:\n",
       "  +---------+---------------------+-------+\n",
       "  | movieId |         rmse        | count |\n",
       "  +---------+---------------------+-------+\n",
       "  |   5288  |  1.1670873915309121 |   1   |\n",
       "  |  96281  |  0.9793450055176427 |   1   |\n",
       "  |  61406  |  1.0811178763860871 |   1   |\n",
       "  |  26561  |  1.7463318114632775 |   1   |\n",
       "  |   2035  | 0.06786780110542079 |   1   |\n",
       "  |   1611  |  0.6584317178960483 |   5   |\n",
       "  |  42728  |  1.4482479238615973 |   3   |\n",
       "  |  31270  |  1.3484852766150643 |   1   |\n",
       "  |   2779  |  1.0476666126947536 |   4   |\n",
       "  |   3988  |  1.0104075492489226 |   8   |\n",
       "  +---------+---------------------+-------+\n",
       "  [5421 rows x 3 columns]\n",
       "  Note: Only the head of the SFrame is printed.\n",
       "  You can use print_rows(num_rows=m, num_columns=n) to print more rows and columns.,\n",
       "  'rmse_by_user': Columns:\n",
       "  \tuserId\tint\n",
       "  \trmse\tfloat\n",
       "  \tcount\tint\n",
       "  \n",
       "  Rows: 1000\n",
       "  \n",
       "  Data:\n",
       "  +--------+--------------------+-------+\n",
       "  | userId |        rmse        | count |\n",
       "  +--------+--------------------+-------+\n",
       "  | 33105  |  0.98203839753093  |   28  |\n",
       "  | 25926  | 0.7271306132170692 |   29  |\n",
       "  | 28012  | 0.9344338328400896 |   20  |\n",
       "  |  3159  | 1.508690190374408  |   8   |\n",
       "  | 14451  | 0.6555219196126507 |  136  |\n",
       "  | 27530  | 0.8637207916418604 |   46  |\n",
       "  | 21451  | 0.7124381545988229 |   17  |\n",
       "  | 32356  | 1.6376268655383133 |   5   |\n",
       "  | 30593  | 1.0104916675945237 |   8   |\n",
       "  | 21918  | 1.7637381301434663 |   9   |\n",
       "  +--------+--------------------+-------+\n",
       "  [1000 rows x 3 columns]\n",
       "  Note: Only the head of the SFrame is printed.\n",
       "  You can use print_rows(num_rows=m, num_columns=n) to print more rows and columns.,\n",
       "  'rmse_overall': 0.890729291379845}]"
      ]
     },
     "execution_count": 42,
     "metadata": {
      "tags": []
     },
     "output_type": "execute_result"
    }
   ],
   "source": [
    "tc.recommender.util.compare_models(validation_data_mf, [model,mf_rank_model], model_names=[\"cosine\",\"mf rank\"])"
   ]
  }
 ],
 "metadata": {
  "colab": {
   "collapsed_sections": [],
   "name": "Turi Create Demo.ipynb",
   "provenance": []
  },
  "kernelspec": {
   "display_name": "Python 3",
   "language": "python",
   "name": "python3"
  },
  "language_info": {
   "codemirror_mode": {
    "name": "ipython",
    "version": 3
   },
   "file_extension": ".py",
   "mimetype": "text/x-python",
   "name": "python",
   "nbconvert_exporter": "python",
   "pygments_lexer": "ipython3",
   "version": "3.7.9"
  }
 },
 "nbformat": 4,
 "nbformat_minor": 4
}
