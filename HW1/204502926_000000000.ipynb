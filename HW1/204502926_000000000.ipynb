{
 "cells": [
  {
   "cell_type": "markdown",
   "metadata": {},
   "source": [
    "## IDs:\n",
    "ID 1: 204502926 <br>\n",
    "ID 2: 000000000"
   ]
  },
  {
   "cell_type": "markdown",
   "metadata": {},
   "source": [
    "## Imports:"
   ]
  },
  {
   "cell_type": "code",
   "execution_count": 1,
   "metadata": {},
   "outputs": [],
   "source": [
    "import numpy as np\n",
    "import pandas as pd\n",
    "import matplotlib.pyplot as plt\n",
    "from collections import defaultdict"
   ]
  },
  {
   "cell_type": "markdown",
   "metadata": {},
   "source": [
    "### Question 1: Data exploration (15 points)"
   ]
  },
  {
   "cell_type": "markdown",
   "metadata": {},
   "source": [
    "#### Answer:"
   ]
  },
  {
   "cell_type": "code",
   "execution_count": 7,
   "metadata": {},
   "outputs": [],
   "source": [
    "def make_histogram(dataset, attribute, bins=25, bar_color='#3498db', edge_color='#2980b9', title='Title', xlab='X', ylab='Y', sort_index=False): \n",
    "    fig, ax = plt.subplots(figsize=(9, 7))\n",
    "    ax.spines['top'].set_visible(False)\n",
    "    ax.spines['right'].set_visible(False)\n",
    "    ax.set_title(title, fontsize=24, pad=5, bbox={'facecolor':'k', 'pad':5},color='w')\n",
    "    ax.set_xlabel(xlab, fontsize=16, labelpad=10)\n",
    "    ax.set_ylabel(ylab, fontsize=16, labelpad=20)\n",
    "    plt.xticks(rotation=45)\n",
    "    plt.hist(dataset[attribute], bins=50, color=bar_color, ec=edge_color, linewidth=2)"
   ]
  },
  {
   "cell_type": "code",
   "execution_count": 9,
   "metadata": {},
   "outputs": [
    {
     "name": "stdout",
     "output_type": "stream",
     "text": [
      "Sparsity: 0.9369533063577546\n",
      "\n"
     ]
    },
    {
     "data": {
      "image/png": "[encoded data removed]",
      "text/plain": [
       "<Figure size 648x504 with 1 Axes>"
      ]
     },
     "metadata": {
      "needs_background": "light"
     },
     "output_type": "display_data"
    }
   ],
   "source": [
    "# Calculate the dataset sparsity, distribution of number of ratings as well as the average rating value per user\\item. \n",
    "# Include additional exploration you find relevant to questions 2 and 3.\n",
    "# Discuss your insights and possible challenges related to the prediction task described in question 2.\n",
    "\n",
    "\n",
    "# Remember that sparsity is calculated by the number of cells in a matrix that contain a rating divided by the total number of values that matrix could hold given the number of users and items (movies). \n",
    "# In other words, dividing the number of ratings present in the matrix by the product of users and movies in the matrix and subtracting that from 1 will give us the sparsity or the percentage of the ratings matrix that is empty.\n",
    "\n",
    "file_path = 'ml-100k/u.data' # grouplens.org/datasets/movielens/100k\n",
    "users = 943\n",
    "items = 1682\n",
    "ratings = 100000 # OR sum(1 for line in open(file_path))\n",
    "sparsity = 1 - (ratings / (users * items))\n",
    "print(f'Sparsity: {sparsity}')\n",
    "print()\n",
    "\n",
    "data = pd.read_csv(file_path, delimiter='\\t', header=None, names=(['user id', 'item id', 'rating', 'timestamp']))\n",
    "# print(data.head())\n",
    "# data.isnull().sum() # Not a single value is missing\n",
    "\n",
    "make_histogram(data, 'rating', title='Distribution of number of ratings', xlab='Rating', ylab='# of users')"
   ]
  },
  {
   "cell_type": "markdown",
   "metadata": {},
   "source": [
    "We can see that **'4'** is the dominant rating (34,174 ratings)<br>\n",
    "The average rating is: $\\frac{\\sum_{i=1}^n(i * y(i))}{|S|}$, where i is a rating value (1-5), y(i) is the amount of ratings per user/item, and |S| is the size of the dataset (100K).<br>\n",
    "We can also see that the users are more prone to give a perfect rating ('5') rather than < '3'."
   ]
  },
  {
   "cell_type": "code",
   "execution_count": 4,
   "metadata": {},
   "outputs": [
    {
     "name": "stdout",
     "output_type": "stream",
     "text": [
      "The average rating is 3.52986\n"
     ]
    }
   ],
   "source": [
    "average = sum(data['rating']) / len(data['rating'])\n",
    "print(f'The average rating is {average}')"
   ]
  },
  {
   "cell_type": "markdown",
   "metadata": {},
   "source": [
    "\n",
    "### Question 2: Matrix factorization model implementation and evaluation (60 points)"
   ]
  },
  {
   "cell_type": "markdown",
   "metadata": {},
   "source": [
    "#### Answer:"
   ]
  },
  {
   "cell_type": "code",
   "execution_count": null,
   "metadata": {},
   "outputs": [],
   "source": []
  },
  {
   "cell_type": "markdown",
   "metadata": {},
   "source": [
    "### Question 3: Matrix factorization – item similarity and model explainability (25 points)"
   ]
  },
  {
   "cell_type": "markdown",
   "metadata": {},
   "source": [
    "#### Answer:"
   ]
  },
  {
   "cell_type": "code",
   "execution_count": null,
   "metadata": {},
   "outputs": [],
   "source": []
  }
 ],
 "metadata": {
  "kernelspec": {
   "display_name": "Python 3",
   "language": "python",
   "name": "python3"
  },
  "language_info": {
   "codemirror_mode": {
    "name": "ipython",
    "version": 3
   },
   "file_extension": ".py",
   "mimetype": "text/x-python",
   "name": "python",
   "nbconvert_exporter": "python",
   "pygments_lexer": "ipython3",
   "version": "3.7.9"
  }
 },
 "nbformat": 4,
 "nbformat_minor": 4
}
