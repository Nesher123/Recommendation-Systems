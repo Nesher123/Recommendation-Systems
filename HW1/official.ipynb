{
 "cells": [
  {
   "cell_type": "code",
   "execution_count": 1,
   "metadata": {},
   "outputs": [],
   "source": [
    "import numpy as np\n",
    "import pandas as pd\n",
    "np.random.seed(0)\n"
   ]
  },
  {
   "cell_type": "code",
   "execution_count": 5,
   "metadata": {},
   "outputs": [],
   "source": [
    "folds_dir = './ml-100k/'"
   ]
  },
  {
   "cell_type": "code",
   "execution_count": 6,
   "metadata": {},
   "outputs": [],
   "source": [
    "def get_all_users_and_items():\n",
    "    header = ['user_id', 'item_id', 'rating', 'timestamp']   \n",
    "    df = pd.read_csv(f'{folds_dir}u.data', sep='\\t', names=header)\n",
    "    users = df.user_id.unique()\n",
    "    items = df.item_id.unique()\n",
    "    return users, items\n",
    "all_users_ids, all_items_ids = get_all_users_and_items()\n"
   ]
  },
  {
   "cell_type": "code",
   "execution_count": 4,
   "metadata": {},
   "outputs": [],
   "source": [
    "\n",
    "def create_rating_matrix_from_raw_data(df):\n",
    "\n",
    "    ratings = np.zeros((all_users_ids.shape[0], all_items_ids.shape[0]))\n",
    "\n",
    "    for row in df.itertuples():\n",
    "        ratings[row[1]-1][row[2]-1] = row[3]  \n",
    "        \n",
    "    return ratings\n"
   ]
  },
  {
   "cell_type": "code",
   "execution_count": 87,
   "metadata": {},
   "outputs": [
    {
     "name": "stdout",
     "output_type": "stream",
     "text": [
      "./ml-100k/u1.base\n",
      "./ml-100k/u2.base\n",
      "./ml-100k/u3.base\n",
      "./ml-100k/u4.base\n",
      "./ml-100k/u5.base\n",
      "(943, 1682) (943, 1682)\n",
      "(943, 1682) (943, 1682)\n",
      "(943, 1682) (943, 1682)\n",
      "(943, 1682) (943, 1682)\n",
      "(943, 1682) (943, 1682)\n"
     ]
    }
   ],
   "source": [
    "def get_5_folds(folds_dir='./ml-100k/'):    \n",
    "    header = ['user_id', 'item_id', 'rating', 'timestamp']\n",
    "    folds = []\n",
    "    \n",
    "    for i in range(5):     \n",
    "        print(f'{folds_dir}u{i+1}.base')\n",
    "        df_train = pd.read_csv(f'{folds_dir}u{i+1}.base', sep='\\t', names=header)\n",
    "        df_test = pd.read_csv(f'{folds_dir}u{i+1}.test', sep='\\t', names=header)   \n",
    "        \n",
    "        rating_train = create_rating_matrix_from_raw_data(df_train)\n",
    "        rating_test  = create_rating_matrix_from_raw_data(df_test)        \n",
    "           \n",
    "        folds.append((rating_train, rating_test))\n",
    "    return folds\n",
    "folds = get_5_folds()\n",
    "\n",
    "for fold in folds:\n",
    "    print(fold[0].shape, fold[1].shape)"
   ]
  },
  {
   "cell_type": "code",
   "execution_count": 88,
   "metadata": {},
   "outputs": [],
   "source": [
    "import pickle\n",
    "\n",
    "for idx, fold in enumerate(folds, start=1):\n",
    "    pickle.dump(fold, open(f\"fold{idx}.pkl\", \"wb\"))"
   ]
  },
  {
   "cell_type": "code",
   "execution_count": 89,
   "metadata": {},
   "outputs": [
    {
     "name": "stdout",
     "output_type": "stream",
     "text": [
      "In Fold 1, we have:\n",
      "Train: 943 unique users & 1682 unique items\n",
      "Test: 943 unique users & 1682 unique items\n",
      "\n",
      "In Fold 2, we have:\n",
      "Train: 943 unique users & 1682 unique items\n",
      "Test: 943 unique users & 1682 unique items\n",
      "\n",
      "In Fold 3, we have:\n",
      "Train: 943 unique users & 1682 unique items\n",
      "Test: 943 unique users & 1682 unique items\n",
      "\n",
      "In Fold 4, we have:\n",
      "Train: 943 unique users & 1682 unique items\n",
      "Test: 943 unique users & 1682 unique items\n",
      "\n",
      "In Fold 5, we have:\n",
      "Train: 943 unique users & 1682 unique items\n",
      "Test: 943 unique users & 1682 unique items\n",
      "\n"
     ]
    }
   ],
   "source": [
    "for idx, fold in enumerate(folds, start=1):\n",
    "    train_rating, test_rating = fold\n",
    "    print(f\"In Fold {idx}, we have:\")\n",
    "    \n",
    "    print(f\"Train: {train_rating.shape[0]} unique users & {train_rating.shape[1]} unique items\")\n",
    "    print(f\"Test: {test_rating.shape[0]} unique users & {test_rating.shape[1]} unique items\\n\")    "
   ]
  },
  {
   "cell_type": "markdown",
   "metadata": {},
   "source": [
    "# Sparsity"
   ]
  },
  {
   "cell_type": "code",
   "execution_count": 92,
   "metadata": {},
   "outputs": [
    {
     "name": "stdout",
     "output_type": "stream",
     "text": [
      "Train Sparsity: 5.04%, Test Sparsity: 1.26%\n",
      "Train Sparsity: 5.04%, Test Sparsity: 1.26%\n",
      "Train Sparsity: 5.04%, Test Sparsity: 1.26%\n",
      "Train Sparsity: 5.04%, Test Sparsity: 1.26%\n",
      "Train Sparsity: 5.04%, Test Sparsity: 1.26%\n"
     ]
    }
   ],
   "source": [
    "def calc_sparsity(rating):\n",
    "    sparsity = float(len(np.nan_to_num(rating).nonzero()[0]))\n",
    "    sparsity /= (rating.shape[0] * rating.shape[1])\n",
    "    sparsity *= 100\n",
    "    return sparsity\n",
    "    \n",
    "for fold in folds:\n",
    "    rating_train, rating_test = fold\n",
    "    sparsity_train = calc_sparsity(rating_train)\n",
    "    sparsity_test = calc_sparsity(rating_test)\n",
    "    print('Train Sparsity: {:4.2f}%, Test Sparsity: {:4.2f}%'.format(sparsity_train, sparsity_test))\n"
   ]
  }
 ],
 "metadata": {
  "kernelspec": {
   "display_name": "Python 3",
   "language": "python",
   "name": "python3"
  },
  "language_info": {
   "codemirror_mode": {
    "name": "ipython",
    "version": 3
   },
   "file_extension": ".py",
   "mimetype": "text/x-python",
   "name": "python",
   "nbconvert_exporter": "python",
   "pygments_lexer": "ipython3",
   "version": "3.8.6"
  }
 },
 "nbformat": 4,
 "nbformat_minor": 4
}
