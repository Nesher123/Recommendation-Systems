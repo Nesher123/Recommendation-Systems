{
 "cells": [
  {
   "cell_type": "markdown",
   "metadata": {},
   "source": [
    "## IDs:\n",
    "ID 1: 204502926 <br>\n",
    "ID 2: 039065313"
   ]
  },
  {
   "cell_type": "markdown",
   "metadata": {},
   "source": [
    "## Imports:"
   ]
  },
  {
   "cell_type": "code",
   "execution_count": 1,
   "metadata": {},
   "outputs": [],
   "source": [
    "import numpy as np\n",
    "import pandas as pd\n",
    "# %matplotlib inline\n",
    "import matplotlib.pyplot as plt\n",
    "from collections import defaultdict\n",
    "import seaborn as sns\n",
    "from numpy.linalg import solve\n",
    "\n",
    "np.random.seed(0)"
   ]
  },
  {
   "cell_type": "markdown",
   "metadata": {},
   "source": [
    "### Question 1: Data exploration (15 points)"
   ]
  },
  {
   "cell_type": "markdown",
   "metadata": {},
   "source": [
    "#### Answer:"
   ]
  },
  {
   "cell_type": "code",
   "execution_count": 2,
   "metadata": {},
   "outputs": [],
   "source": [
    "def make_histogram(dataset, attribute, bins=25, bar_color='#3498db', edge_color='#2980b9', title='Title', xlab='X', ylab='Y', sort_index=False): \n",
    "    fig, ax = plt.subplots(figsize=(9, 7))\n",
    "    ax.spines['top'].set_visible(False)\n",
    "    ax.spines['right'].set_visible(False)\n",
    "    ax.set_title(title, fontsize=24, pad=5, bbox={'facecolor':'k', 'pad':5},color='w')\n",
    "    ax.set_xlabel(xlab, fontsize=16, labelpad=10)\n",
    "    ax.set_ylabel(ylab, fontsize=16, labelpad=20)\n",
    "    plt.xticks(rotation=45)\n",
    "    plt.hist(dataset[attribute], bins=50, color=bar_color, ec=edge_color, linewidth=2)"
   ]
  },
  {
   "cell_type": "code",
   "execution_count": 3,
   "metadata": {},
   "outputs": [
    {
     "name": "stdout",
     "output_type": "stream",
     "text": [
      "   user_id  item_id  rating  timestamp\n",
      "0      196      242       3  881250949\n",
      "1      186      302       3  891717742\n",
      "2       22      377       1  878887116\n",
      "3      244       51       2  880606923\n",
      "4      166      346       1  886397596\n",
      "Sparsity: 0.9369533063577546\n",
      "\n"
     ]
    },
    {
     "data": {
      "image/png": "[encoded data removed]",
      "text/plain": [
       "<Figure size 648x504 with 1 Axes>"
      ]
     },
     "metadata": {
      "needs_background": "light"
     },
     "output_type": "display_data"
    }
   ],
   "source": [
    "# Calculate the dataset sparsity, distribution of number of ratings as well as the average rating value per user\\item. \n",
    "# Include additional exploration you find relevant to questions 2 and 3.\n",
    "# Discuss your insights and possible challenges related to the prediction task described in question 2.\n",
    "\n",
    "\n",
    "# Remember that sparsity is calculated by the number of cells in a matrix that contain a rating divided by the total number of values that matrix could hold given the number of users and items (movies). \n",
    "# In other words, dividing the number of ratings present in the matrix by the product of users and movies in the matrix and subtracting that from 1 will give us the sparsity or the percentage of the ratings matrix that is empty.\n",
    "\n",
    "file_path = 'ml-100k/u.data' # grouplens.org/datasets/movielens/100k\n",
    "\n",
    "names = ['user_id', 'item_id', 'rating', 'timestamp']\n",
    "data = pd.read_csv(file_path, sep='\\t', names=names)\n",
    "\n",
    "print(data.head())\n",
    "\n",
    "all_users_ids = data.user_id.unique()\n",
    "all_items_ids = data.item_id.unique()\n",
    "ratings_count = data.shape[0] # 100,000\n",
    "users_count = len(all_users_ids)\n",
    "items_count = len(all_items_ids)\n",
    "sparsity = 1 - (ratings_count / (users_count * items_count))\n",
    "print(f'Sparsity: {sparsity}')\n",
    "print()\n",
    "\n",
    "\n",
    "make_histogram(data, 'rating', title='Distribution of number of ratings', xlab='Rating', ylab='# of items')"
   ]
  },
  {
   "cell_type": "markdown",
   "metadata": {},
   "source": [
    "We can see that **'4'** is the dominant rating (34,174 ratings)<br>\n",
    "The average rating is: $\\frac{\\sum_{i=1}^n(i * y(i))}{|S|}$, where i is a rating value (1-5), y(i) is the amount of ratings per user/item, and |S| is the size of the dataset (100K).<br>\n",
    "We can also see that the users are more prone to give a perfect rating ('5') rather than < '3'."
   ]
  },
  {
   "cell_type": "code",
   "execution_count": 4,
   "metadata": {},
   "outputs": [
    {
     "name": "stdout",
     "output_type": "stream",
     "text": [
      "The average rating is 3.52986\n"
     ]
    }
   ],
   "source": [
    "average = sum(data['rating']) / len(data['rating'])\n",
    "print(f'The average rating is {average}')"
   ]
  },
  {
   "cell_type": "markdown",
   "metadata": {},
   "source": [
    "\n",
    "### Question 2: Matrix factorization model implementation and evaluation (60 points)"
   ]
  },
  {
   "cell_type": "markdown",
   "metadata": {},
   "source": [
    "#### Answer:"
   ]
  },
  {
   "cell_type": "code",
   "execution_count": 5,
   "metadata": {},
   "outputs": [],
   "source": [
    "def create_rating_matrix_from_raw_data(df):\n",
    "    ratings = np.zeros((all_users_ids.shape[0], all_items_ids.shape[0]))\n",
    "\n",
    "    for row in df.itertuples():\n",
    "        ratings[row[1]-1][row[2]-1] = row[3]  \n",
    "        \n",
    "    return ratings"
   ]
  },
  {
   "cell_type": "code",
   "execution_count": 6,
   "metadata": {},
   "outputs": [],
   "source": [
    "ratings = create_rating_matrix_from_raw_data(data)\n",
    "# ratings.shape"
   ]
  },
  {
   "cell_type": "code",
   "execution_count": 7,
   "metadata": {},
   "outputs": [
    {
     "name": "stdout",
     "output_type": "stream",
     "text": [
      "./ml-100k/u1.base\n",
      "./ml-100k/u2.base\n",
      "(943, 1682) (943, 1682)\n",
      "(943, 1682) (943, 1682)\n"
     ]
    }
   ],
   "source": [
    "def get_5_folds(folds_dir='./ml-100k/'):\n",
    "    \n",
    "    \n",
    "    \n",
    "    \n",
    "    \n",
    "#     change to 5!!!!!!!\n",
    "\n",
    "\n",
    "\n",
    "\n",
    "\n",
    "\n",
    "    number_of_folds = 2\n",
    "    header = ['user_id', 'item_id', 'rating', 'timestamp']\n",
    "    folds = []\n",
    "    \n",
    "    for i in range(number_of_folds):     \n",
    "        print(f'{folds_dir}u{i+1}.base')\n",
    "        \n",
    "        df_train = pd.read_csv(f'{folds_dir}u{i+1}.base', sep='\\t', names=header)\n",
    "        df_test = pd.read_csv(f'{folds_dir}u{i+1}.test', sep='\\t', names=header)   \n",
    "        \n",
    "        rating_train = create_rating_matrix_from_raw_data(df_train)\n",
    "        rating_test  = create_rating_matrix_from_raw_data(df_test)        \n",
    "           \n",
    "        folds.append((rating_train, rating_test))\n",
    "        \n",
    "    return folds\n",
    "\n",
    "\n",
    "folds = get_5_folds()\n",
    "\n",
    "for fold in folds:\n",
    "    print(fold[0].shape, fold[1].shape)"
   ]
  },
  {
   "cell_type": "code",
   "execution_count": 8,
   "metadata": {},
   "outputs": [],
   "source": [
    "from sklearn.metrics import mean_squared_error\n",
    "\n",
    "def get_mse(pred, actual):\n",
    "    # Ignore nonzero terms\n",
    "    pred = pred[actual.nonzero()].flatten()\n",
    "    actual = actual[actual.nonzero()].flatten()\n",
    "    \n",
    "    return mean_squared_error(pred, actual)"
   ]
  },
  {
   "cell_type": "code",
   "execution_count": 9,
   "metadata": {},
   "outputs": [],
   "source": [
    "class ExplicitMFSGD():\n",
    "    def __init__(self, \n",
    "                 ratings,\n",
    "                 k_factors = 40,\n",
    "                 item_fact_reg = 0.0, \n",
    "                 user_fact_reg = 0.0,\n",
    "                 item_bias_reg = 0.0,\n",
    "                 user_bias_reg = 0.0,\n",
    "                 verbose = False):\n",
    "        \"\"\"\n",
    "        Train a matrix factorization model to predict empty entries in a matrix. \n",
    "        The terminology assumes a ratings matrix which is ~ user x item.\n",
    "        \n",
    "        (To avoid overfitting we use regularization)\n",
    "\n",
    "        Params\n",
    "        ======\n",
    "        ratings: (ndarray)\n",
    "            User x Item matrix with corresponding ratings\n",
    "        \n",
    "        k_factors: (int)\n",
    "            Number of latent factors to use in matrix factorization model\n",
    "        \n",
    "        item_fact_reg: (float)\n",
    "            Regularization term for item latent factors\n",
    "            \n",
    "        user_fact_reg: (float)\n",
    "            Regularization term for user latent factors\n",
    "            \n",
    "        item_bias_reg: (float)\n",
    "            Regularization term for item biases\n",
    "        \n",
    "        user_bias_reg: (float)\n",
    "            Regularization term for user biases\n",
    "        \n",
    "        verbose: (bool)\n",
    "            Whether or not to printout training progress\n",
    "        \"\"\"\n",
    "        \n",
    "        self.ratings = ratings\n",
    "        self.users_count = users_count\n",
    "        self.items_count = items_count\n",
    "        self.k_factors = k_factors\n",
    "        self.item_fact_reg = item_fact_reg\n",
    "        self.user_fact_reg = user_fact_reg\n",
    "        self.item_bias_reg = item_bias_reg\n",
    "        self.user_bias_reg = user_bias_reg\n",
    "        \n",
    "        self.sample_row, self.sample_col = self.ratings.nonzero()\n",
    "        self.n_samples = len(self.sample_row)\n",
    "        self._v = verbose\n",
    "        self.curr_iter = 1\n",
    "\n",
    "        \n",
    "    def calculate_learning_curve(self, iter_array, test, learning_rate):\n",
    "        iter_array.sort()\n",
    "        self.init_for_train(learning_rate)\n",
    "        training_mse, test_mse = [], []\n",
    "        \n",
    "        for n_iter in iter_array:            \n",
    "            self.print_verbose(f'k={self.k_factors}, alpha={learning_rate}, '\\\n",
    "                              f'iterations={n_iter}, item_fact_reg={self.item_fact_reg}, '\\\n",
    "                              f'user_fact_reg={self.user_fact_reg}, item_bias_reg={self.item_bias_reg}, '\\\n",
    "                              f'user_bias_reg={self.user_bias_reg}')\n",
    "            self.train(n_iter)\n",
    "            predictions = self.get_prediction_matrix()\n",
    "            self.evaluate(predictions, training_mse, test_mse, test)\n",
    "            \n",
    "        print('======================')\n",
    "        \n",
    "        return training_mse, test_mse\n",
    "    \n",
    "    \n",
    "    def init_for_train(self, learning_rate=0.1):        \n",
    "        # initialize latent vectors\n",
    "        # Approximate rating matrix by product of lower rank matrix\n",
    "        self.user_vecs = np.random.normal(scale=1./self.k_factors, size=(self.users_count, self.k_factors))\n",
    "        self.item_vecs = np.random.normal(scale=1./self.k_factors, size=(self.items_count, self.k_factors))\n",
    "        \n",
    "        self.learning_rate = learning_rate\n",
    "        self.user_bias = np.zeros(self.users_count)\n",
    "        self.item_bias = np.zeros(self.items_count)\n",
    "        self.global_bias = np.mean(self.ratings[np.where(self.ratings != 0)])\n",
    "\n",
    "    def train(self, n_iter):\n",
    "        \"\"\" \n",
    "        Train model for n_iter iterations. \n",
    "        Can be called multiple times for further training.\n",
    "        \"\"\"\n",
    "        while self.curr_iter <= n_iter:\n",
    "            if self.curr_iter % 10 == 0 and n_iter > 10 and self._v:\n",
    "                print(f'\\tStill running...')\n",
    "                print(f'\\tCurrent iteration: {self.curr_iter}')\n",
    "                \n",
    "            self.training_indices = np.arange(self.n_samples)\n",
    "            np.random.shuffle(self.training_indices)\n",
    "            self.perform_sgd()\n",
    "            self.curr_iter += 1\n",
    "            \n",
    "    def predict(self, user, item):\n",
    "        \"\"\"\n",
    "        Single user and item prediction\n",
    "        \"\"\"\n",
    "        biases = self.global_bias + self.user_bias[user] + self.item_bias[item]\n",
    "        prediction_value = biases + self.user_vecs[user, :].dot(self.item_vecs[item, :].T)\n",
    "        \n",
    "        return prediction_value\n",
    "    \n",
    "    def perform_sgd(self):\n",
    "        for idx in self.training_indices:\n",
    "            user = self.sample_row[idx]\n",
    "            item = self.sample_col[idx]\n",
    "            prediction = self.predict(user, item)\n",
    "            actual_rating = self.ratings[user, item] # get actual rating from the dataset's ratings array \n",
    "            error = actual_rating - prediction\n",
    "            \n",
    "            # Update biases\n",
    "            self.user_bias[user] += self.learning_rate * (error - self.user_bias_reg * self.user_bias[user])\n",
    "            self.item_bias[item] += self.learning_rate * (error - self.item_bias_reg * self.item_bias[item])\n",
    "            \n",
    "            # Update latent factors\n",
    "            self.user_vecs[user, :] += self.learning_rate * (error * self.item_vecs[item, :] - self.user_fact_reg * self.user_vecs[user,:])\n",
    "            self.item_vecs[item, :] += self.learning_rate * (error * self.user_vecs[user, :] - self.item_fact_reg * self.item_vecs[item,:])\n",
    "    \n",
    "    def get_prediction_matrix(self):\n",
    "        \"\"\"\n",
    "        Predict ratings for every user and item\n",
    "        \"\"\"\n",
    "        predictions = np.zeros((self.user_vecs.shape[0], \n",
    "                                self.item_vecs.shape[0]))\n",
    "        \n",
    "        for user in range(self.user_vecs.shape[0]):\n",
    "            for item in range(self.item_vecs.shape[0]):\n",
    "                predictions[user, item] = self.predict(user, item)\n",
    "                \n",
    "        return predictions\n",
    "    \n",
    "    def evaluate(self, predictions, training_mse, test_mse, test):\n",
    "        training_mse.append(get_mse(predictions, self.ratings))\n",
    "        test_mse.append(get_mse(predictions, test))\n",
    "\n",
    "        self.print_verbose(f'Training MSE = {training_mse[-1]}')\n",
    "        self.print_verbose(f'Test MSE = {test_mse[-1]}')\n",
    "\n",
    "    def print_verbose(self, msg):\n",
    "        if self._v:\n",
    "            print(msg)"
   ]
  },
  {
   "cell_type": "code",
   "execution_count": 10,
   "metadata": {},
   "outputs": [],
   "source": [
    "# sns.set()\n",
    "\n",
    "# def plot_learning_curve(iter_array, model, k, learning_rate):\n",
    "#     plt.figure(num=None, figsize=(8, 4), dpi=80, facecolor='w', edgecolor='k')\n",
    "\n",
    "#     plt.plot(iter_array, model.training_mse, label=f\"Training k={{{0}}}, alpha={{{1}}}\".format(k, learning_rate), linewidth=5)\n",
    "#     plt.plot(iter_array, model.test_mse, label=f\"Test k={{{0}}}, alpha={{{1}}}\".format(k, learning_rate), linewidth=5)\n",
    "\n",
    "#     plt.xticks(fontsize=16);\n",
    "#     plt.yticks(fontsize=16);\n",
    "#     plt.xlabel('iterations', fontsize=30);\n",
    "#     plt.ylabel('MSE', fontsize=30);\n",
    "#     plt.legend(loc='best', fontsize=20);"
   ]
  },
  {
   "cell_type": "code",
   "execution_count": 11,
   "metadata": {},
   "outputs": [],
   "source": [
    "sns.set()\n",
    "\n",
    "def plot_learning_curve_list(iter_array, predictions, title, mse_extractor):\n",
    "    plt.figure(num=None, figsize=(10, 8), dpi=80, facecolor='w', edgecolor='k')\n",
    "\n",
    "    for prediction in predictions:\n",
    "        k, learning_rate = prediction[\"k\"], prediction[\"learning_rate\"]\n",
    "        plt.plot(iter_array, mse_extractor(prediction), label=f\"{title} k={k}, alpha={learning_rate}\", linewidth=5)\n",
    "\n",
    "    plt.xticks(fontsize=16);\n",
    "    plt.yticks(fontsize=16);\n",
    "    plt.xlabel('iterations', fontsize=30);\n",
    "    plt.ylabel('MSE', fontsize=30);\n",
    "#     plt.title(title)\n",
    "    plt.legend(loc='best', fontsize=20);"
   ]
  },
  {
   "cell_type": "code",
   "execution_count": 12,
   "metadata": {},
   "outputs": [],
   "source": [
    "import copy\n",
    "from itertools import combinations, combinations_with_replacement, permutations\n",
    "\n",
    "\n",
    "def permutation_regularization_generator(base_dict):\n",
    "#     regularization_parameters_values = [100.0, 10.0, 1.0, 0.0, 0.1, 0.01, 0.0001]\n",
    "    regularization_parameters_values = [100.0]\n",
    "    regularization_permutations = set()\n",
    "    number_of_regularization_params = len(base_dict)\n",
    "    \n",
    "    for seq in list(combinations_with_replacement(regularization_parameters_values, number_of_regularization_params)):\n",
    "        for perm_seq in permutations(seq, number_of_regularization_params):\n",
    "            regularization_permutations.add(perm_seq)\n",
    "\n",
    "    regularization_parameters_dict_list = []      \n",
    "    keys = base_dict.keys()\n",
    "    \n",
    "    for perm in regularization_permutations:\n",
    "        curr_values_dict = copy.deepcopy(base_dict)\n",
    "        \n",
    "        for idx, key in enumerate(keys):\n",
    "            curr_values_dict[key] = perm[idx]\n",
    "        \n",
    "        regularization_parameters_dict_list.append(curr_values_dict)\n",
    "        \n",
    "    return regularization_parameters_dict_list"
   ]
  },
  {
   "cell_type": "code",
   "execution_count": 13,
   "metadata": {},
   "outputs": [],
   "source": [
    "def generate_list_of_regularization_parameters_values(model_type):\n",
    "    if model_type == \"als\":\n",
    "        base_dict = {'item_reg': 0.0, 'user_reg':0.0}\n",
    "    else: # model type == \"sgd\"\n",
    "        base_dict = {'item_fact_reg': 0.0, 'user_fact_reg': 0.0, 'item_bias_reg': 0.0, 'user_bias_reg':0.0}\n",
    "        \n",
    "    return permutation_regularization_generator(base_dict)        \n",
    "\n",
    "    \n",
    "def als_model_provider(**params):\n",
    "    return ExplicitMFALS(**params)\n",
    "\n",
    "\n",
    "def sgd_model_provider(**params):\n",
    "    return ExplicitMFSGD(**params)"
   ]
  },
  {
   "cell_type": "code",
   "execution_count": 14,
   "metadata": {},
   "outputs": [
    {
     "name": "stdout",
     "output_type": "stream",
     "text": [
      "a:10, b:20, c:35, d:45\n"
     ]
    }
   ],
   "source": [
    "# CODE EXAMPLE ON HOW I PASSED PARAMS:\n",
    "\n",
    "def y(a=0, b=1, c=2, d=3):\n",
    "    print(f'a:{a}, b:{b}, c:{c}, d:{d}')\n",
    "    \n",
    "def x(**params):\n",
    "    y(**params)\n",
    "    \n",
    "last_params = {'c': 35, 'd': 45}\n",
    "x(a=10,b=20,**last_params)   "
   ]
  },
  {
   "cell_type": "code",
   "execution_count": 15,
   "metadata": {},
   "outputs": [],
   "source": [
    "def calculate_learning_curve(training_data, test_data, model_provider, model_type=\"sgd\"):\n",
    "    k_options = [20, 30, 40, 70, 150]\n",
    "    learning_rate_options = [0.001, 0.01, 0.1]\n",
    "    iter_array = [1, 5, 10, 25, 50, 100, 200]\n",
    "    regularization_parameters_values = generate_list_of_regularization_parameters_values(model_type)\n",
    "#     print(regularization_parameters_values)\n",
    "    \n",
    "    k_options = [20]\n",
    "    learning_rate_options = [0.001]\n",
    "    iter_array = [1, 10, 25]\n",
    "\n",
    "    hyper_param_learning_iter_num = len(k_options)*len(learning_rate_options)*len(regularization_parameters_values)\n",
    "    print(f'Going to do {hyper_param_learning_iter_num} permutation on the model parameters')\n",
    "    \n",
    "    perm_count = 1\n",
    "    params_and_results = []\n",
    "    \n",
    "    for k in k_options:\n",
    "        for learning_rate in learning_rate_options:\n",
    "            for regularization_parameters_value in regularization_parameters_values:    \n",
    "                print(f'iteration {perm_count}/{hyper_param_learning_iter_num} ')\n",
    "                model = model_provider(ratings=training_data, k_factors=k, verbose=True, **regularization_parameters_value)\n",
    "                training_mse, test_mse = model.calculate_learning_curve(iter_array, test_data, learning_rate)\n",
    "                curr_run_params_and_results = {\"k\": k, \"learning_rate\": learning_rate, \"training_mse\": training_mse, \"test_mse\": test_mse}\n",
    "                params_and_results.append({**curr_run_params_and_results, **regularization_parameters_value})    \n",
    "                perm_count += 1\n",
    "                \n",
    "    return params_and_results"
   ]
  },
  {
   "cell_type": "markdown",
   "metadata": {},
   "source": [
    "## Train/Test/Collect ALS 5-folds"
   ]
  },
  {
   "cell_type": "code",
   "execution_count": 16,
   "metadata": {},
   "outputs": [],
   "source": [
    "if False:\n",
    "    als_folds_results = []\n",
    "    \n",
    "    for fold in folds:\n",
    "        training_data, test_data = fold\n",
    "        params_and_results = calculate_learning_curve(training_data, test_data, model_provider=als_model_provider, model_type=\"als\")\n",
    "        als_folds_results.append(params_and_results)"
   ]
  },
  {
   "cell_type": "markdown",
   "metadata": {},
   "source": [
    "## Train/Test/Collect SGD 5-folds"
   ]
  },
  {
   "cell_type": "code",
   "execution_count": 17,
   "metadata": {},
   "outputs": [
    {
     "name": "stdout",
     "output_type": "stream",
     "text": [
      "Running on fold 0/1\n",
      "Going to do 1 permutation on the model parameters\n",
      "iteration 1/1 \n",
      "k=20, alpha=0.001, iterations=1, item_fact_reg=100.0, user_fact_reg=100.0, item_bias_reg=100.0, user_bias_reg=100.0\n",
      "Training MSE = 1.2425937873118829\n",
      "Test MSE = 1.3221014125700028\n",
      "k=20, alpha=0.001, iterations=10, item_fact_reg=100.0, user_fact_reg=100.0, item_bias_reg=100.0, user_bias_reg=100.0\n",
      "Training MSE = 1.2421754864265517\n",
      "Test MSE = 1.3216157405966278\n",
      "k=20, alpha=0.001, iterations=25, item_fact_reg=100.0, user_fact_reg=100.0, item_bias_reg=100.0, user_bias_reg=100.0\n",
      "\tStill running...\n",
      "\tCurrent iteration: 20\n",
      "Training MSE = 1.2420816739883451\n",
      "Test MSE = 1.321381640851526\n",
      "======================\n",
      "Running on fold 1/1\n",
      "Going to do 1 permutation on the model parameters\n",
      "iteration 1/1 \n",
      "k=20, alpha=0.001, iterations=1, item_fact_reg=100.0, user_fact_reg=100.0, item_bias_reg=100.0, user_bias_reg=100.0\n",
      "Training MSE = 1.2555149775272627\n",
      "Test MSE = 1.2701138162477614\n",
      "k=20, alpha=0.001, iterations=10, item_fact_reg=100.0, user_fact_reg=100.0, item_bias_reg=100.0, user_bias_reg=100.0\n",
      "Training MSE = 1.255069554076997\n",
      "Test MSE = 1.2698430638476592\n",
      "k=20, alpha=0.001, iterations=25, item_fact_reg=100.0, user_fact_reg=100.0, item_bias_reg=100.0, user_bias_reg=100.0\n",
      "\tStill running...\n",
      "\tCurrent iteration: 20\n",
      "Training MSE = 1.254744102303591\n",
      "Test MSE = 1.2694983189052205\n",
      "======================\n"
     ]
    }
   ],
   "source": [
    "sgd_folds_results = []\n",
    "\n",
    "for idx, fold in enumerate(folds, start = 0):\n",
    "    print(f'Running on fold {idx}/{len(folds) - 1}')\n",
    "    training_data, test_data = fold\n",
    "    params_and_results = calculate_learning_curve(training_data, test_data, model_provider=sgd_model_provider, model_type=\"sgd\")\n",
    "    sgd_folds_results.append(params_and_results)"
   ]
  },
  {
   "cell_type": "code",
   "execution_count": 18,
   "metadata": {},
   "outputs": [],
   "source": [
    "# k_options = [10, 40]\n",
    "# learning_rate_options = [0.001, 0.01]\n",
    "# iter_array = [1, 5, 10]\n",
    "\n",
    "# k_options = [20, 30, 40, 70, 150]\n",
    "# learning_rate_optiAons = [0.001, 0.01, 0.1]\n",
    "# iter_array = [1, 5, 10, 25, 50, 100, 200]\n",
    "\n",
    "# MF_SGD_list = []\n",
    "\n",
    "# for k in k_options:\n",
    "#     for learning_rate in learning_rate_options:\n",
    "# #         for item_fact_reg\n",
    "# #         for user_fact_reg\n",
    "# #         for bias ???                 \n",
    "#         model = ExplicitMFSGD(ratings=training_data, k_factors=k, verbose=True)\n",
    "#         training_mse, test_mse = model.calculate_learning_curve(iter_array, test_data, learning_rate)\n",
    "#         predictions.append({\"k\": k, \"learning_rate:\": learning_rate, \"training_mse\": training_mse, \"test_mse\": test_mse})"
   ]
  },
  {
   "cell_type": "code",
   "execution_count": 19,
   "metadata": {},
   "outputs": [],
   "source": [
    "# predictions.append({\"k\": k, \"learning_rate:\": learning_rate, \"training_mse\": training_mse, \"test_mse\": test_mse})\n",
    "\n",
    "# plot_learning_curve_list(iter_array, predictions, title='Training', mse_extractor=lambda model: model[\"training_mse\"])\n",
    "# plot_learning_curve_list(iter_array, predictions, title='Test', mse_extractor=lambda model: model[\"test_mse\"])"
   ]
  },
  {
   "cell_type": "code",
   "execution_count": 23,
   "metadata": {},
   "outputs": [
    {
     "name": "stdout",
     "output_type": "stream",
     "text": [
      "k_20_lr_0.001_if_100.0_uf_100.0_ib_100.0_ub_100.0\n"
     ]
    }
   ],
   "source": [
    "# print(range(len(sgd_folds_results)))\n",
    "# print(sgd_folds_results)\n",
    "\n",
    "demo = []\n",
    "demo.append([{'k': 9, 'training_mse': [9, 1, 2]}, {'training_mse': [3, 4, 5]}, {'training_mse': [6, 7, 8]}])\n",
    "demo.append([{'training_mse': [9, 1, 2]}, {'training_mse': [3, 4, 5]}, {'training_mse': [6, 7, 8]}])\n",
    "\n",
    "example = {'k': 20, 'learning_rate': 0.001, 'training_mse': [1.2425937873118829, 1.2421754864265517, 1.2420816739883451], 'test_mse': [1.3221014125700028, 1.3216157405966278, 1.321381640851526], \n",
    "           'item_fact_reg': 100.0, 'user_fact_reg': 100.0, 'item_bias_reg': 100.0, 'user_bias_reg': 100.0}\n",
    "\n",
    "def generate_key(example):\n",
    "    key = f\"k_{example['k']}_lr_{example['learning_rate']}_if_{example['item_fact_reg']}_uf_{example['user_fact_reg']}_ib_{example['item_bias_reg']}_ub_{example['user_bias_reg']}\"\n",
    "    print(key)\n",
    "    \n",
    "    \n",
    "generate_key(example)\n",
    "\n",
    "\n",
    "\n",
    "\n",
    "# def get_average_fold_error_results(array):\n",
    "#     average_error_result_per_fold = []    \n",
    "#     sum = 0\n",
    "#     for i in range(len(array) + 1):\n",
    "#         print(f'i: {i}')\n",
    "        \n",
    "#         for j in array:\n",
    "#             print(j[i].get('training_mse'))\n",
    "#             print(range(len(j[i].get('training_mse'))))\n",
    "            \n",
    "#             for k in range(len(j[i].get('training_mse'))):\n",
    "#                 print(f\"k: {j[i].get('training_mse')[k]}\")\n",
    "#                 sum += j[i].get('training_mse')[k]\n",
    "#                 print(f'sum: {sum}')\n",
    "#                 break\n",
    "                \n",
    "#             sum /= \n",
    "\n",
    "\n",
    "# get_average_fold_error_results(demo)"
   ]
  },
  {
   "cell_type": "code",
   "execution_count": 24,
   "metadata": {},
   "outputs": [
    {
     "data": {
      "text/plain": [
       "defaultdict(list,\n",
       "            {0: [0],\n",
       "             1: [1],\n",
       "             2: [2],\n",
       "             3: [3],\n",
       "             4: [4],\n",
       "             5: [5],\n",
       "             6: [6],\n",
       "             7: [7],\n",
       "             8: [8],\n",
       "             9: [9]})"
      ]
     },
     "execution_count": 24,
     "metadata": {},
     "output_type": "execute_result"
    }
   ],
   "source": [
    "from collections import defaultdict\n",
    "\n",
    "ohad = defaultdict(list)\n",
    "\n",
    "for i in range(10):\n",
    "    ohad[i].append(i)\n",
    "    \n",
    "ohad"
   ]
  },
  {
   "cell_type": "code",
   "execution_count": 22,
   "metadata": {},
   "outputs": [
    {
     "ename": "NameError",
     "evalue": "name 'MF_SGD_list' is not defined",
     "output_type": "error",
     "traceback": [
      "\u001b[1;31m---------------------------------------------------------------------------\u001b[0m",
      "\u001b[1;31mNameError\u001b[0m                                 Traceback (most recent call last)",
      "\u001b[1;32m<ipython-input-22-8b7e287a35e8>\u001b[0m in \u001b[0;36m<module>\u001b[1;34m\u001b[0m\n\u001b[0;32m      3\u001b[0m \u001b[0mplt\u001b[0m\u001b[1;33m.\u001b[0m\u001b[0mfigure\u001b[0m\u001b[1;33m(\u001b[0m\u001b[0mnum\u001b[0m\u001b[1;33m=\u001b[0m\u001b[1;32mNone\u001b[0m\u001b[1;33m,\u001b[0m \u001b[0mfigsize\u001b[0m\u001b[1;33m=\u001b[0m\u001b[1;33m(\u001b[0m\u001b[1;36m10\u001b[0m\u001b[1;33m,\u001b[0m \u001b[1;36m8\u001b[0m\u001b[1;33m)\u001b[0m\u001b[1;33m,\u001b[0m \u001b[0mdpi\u001b[0m\u001b[1;33m=\u001b[0m\u001b[1;36m80\u001b[0m\u001b[1;33m,\u001b[0m \u001b[0mfacecolor\u001b[0m\u001b[1;33m=\u001b[0m\u001b[1;34m'w'\u001b[0m\u001b[1;33m,\u001b[0m \u001b[0medgecolor\u001b[0m\u001b[1;33m=\u001b[0m\u001b[1;34m'k'\u001b[0m\u001b[1;33m)\u001b[0m\u001b[1;33m\u001b[0m\u001b[1;33m\u001b[0m\u001b[0m\n\u001b[0;32m      4\u001b[0m \u001b[1;33m\u001b[0m\u001b[0m\n\u001b[1;32m----> 5\u001b[1;33m \u001b[0mmodel\u001b[0m\u001b[1;33m,\u001b[0m \u001b[0mk\u001b[0m\u001b[1;33m,\u001b[0m \u001b[0mlearning_rate\u001b[0m \u001b[1;33m=\u001b[0m \u001b[0mMF_SGD_list\u001b[0m\u001b[1;33m[\u001b[0m\u001b[1;36m0\u001b[0m\u001b[1;33m]\u001b[0m\u001b[1;33m\u001b[0m\u001b[1;33m\u001b[0m\u001b[0m\n\u001b[0m\u001b[0;32m      6\u001b[0m \u001b[0mplt\u001b[0m\u001b[1;33m.\u001b[0m\u001b[0mplot\u001b[0m\u001b[1;33m(\u001b[0m\u001b[0miter_array\u001b[0m\u001b[1;33m,\u001b[0m \u001b[0mmodel\u001b[0m\u001b[1;33m.\u001b[0m\u001b[0mtraining_mse\u001b[0m\u001b[1;33m,\u001b[0m \u001b[0mlabel\u001b[0m\u001b[1;33m=\u001b[0m\u001b[1;34mf\" k={k}, alpha={learning_rate}\"\u001b[0m\u001b[1;33m,\u001b[0m \u001b[0mlinewidth\u001b[0m\u001b[1;33m=\u001b[0m\u001b[1;36m5\u001b[0m\u001b[1;33m)\u001b[0m\u001b[1;33m\u001b[0m\u001b[1;33m\u001b[0m\u001b[0m\n\u001b[0;32m      7\u001b[0m \u001b[1;33m\u001b[0m\u001b[0m\n",
      "\u001b[1;31mNameError\u001b[0m: name 'MF_SGD_list' is not defined"
     ]
    },
    {
     "data": {
      "text/plain": [
       "<Figure size 800x640 with 0 Axes>"
      ]
     },
     "metadata": {},
     "output_type": "display_data"
    }
   ],
   "source": [
    "sns.set()\n",
    "\n",
    "plt.figure(num=None, figsize=(10, 8), dpi=80, facecolor='w', edgecolor='k')\n",
    "\n",
    "model, k, learning_rate = MF_SGD_list[0]\n",
    "plt.plot(iter_array, model.training_mse, label=f\" k={k}, alpha={learning_rate}\", linewidth=5)\n",
    "\n",
    "plt.xticks(fontsize=16);\n",
    "plt.yticks(fontsize=16);\n",
    "plt.xlabel('iterations', fontsize=30);\n",
    "plt.ylabel('MSE', fontsize=30);\n",
    "plt.title('training_mse')\n",
    "plt.legend(loc='best', fontsize=20);"
   ]
  },
  {
   "cell_type": "code",
   "execution_count": 40,
   "metadata": {},
   "outputs": [
    {
     "data": {
      "image/png": "[encoded data removed]",
      "text/plain": [
       "<Figure size 800x640 with 1 Axes>"
      ]
     },
     "metadata": {},
     "output_type": "display_data"
    }
   ],
   "source": [
    "sns.set()\n",
    "\n",
    "plt.figure(num=None, figsize=(10, 8), dpi=80, facecolor='w', edgecolor='k')\n",
    "\n",
    "model, k, learning_rate = MF_SGD_list[1]\n",
    "plt.plot(iter_array, model.training_mse, label=f\" k={k}, alpha={learning_rate}\", linewidth=5)\n",
    "\n",
    "plt.xticks(fontsize=16);\n",
    "plt.yticks(fontsize=16);\n",
    "plt.xlabel('iterations', fontsize=30);\n",
    "plt.ylabel('MSE', fontsize=30);\n",
    "plt.title('training_mse')\n",
    "plt.legend(loc='best', fontsize=20);"
   ]
  },
  {
   "cell_type": "code",
   "execution_count": 41,
   "metadata": {},
   "outputs": [
    {
     "data": {
      "image/png": "[encoded data removed]",
      "text/plain": [
       "<Figure size 800x640 with 1 Axes>"
      ]
     },
     "metadata": {},
     "output_type": "display_data"
    }
   ],
   "source": [
    "sns.set()\n",
    "\n",
    "plt.figure(num=None, figsize=(10, 8), dpi=80, facecolor='w', edgecolor='k')\n",
    "\n",
    "model, k, learning_rate = MF_SGD_list[2]\n",
    "plt.plot(iter_array, model.training_mse, label=f\" k={k}, alpha={learning_rate}\", linewidth=5)\n",
    "\n",
    "plt.xticks(fontsize=16);\n",
    "plt.yticks(fontsize=16);\n",
    "plt.xlabel('iterations', fontsize=30);\n",
    "plt.ylabel('MSE', fontsize=30);\n",
    "plt.title('training_mse')\n",
    "plt.legend(loc='best', fontsize=20);"
   ]
  },
  {
   "cell_type": "code",
   "execution_count": 43,
   "metadata": {},
   "outputs": [
    {
     "data": {
      "image/png": "[encoded data removed]",
      "text/plain": [
       "<Figure size 800x640 with 1 Axes>"
      ]
     },
     "metadata": {},
     "output_type": "display_data"
    }
   ],
   "source": [
    "sns.set()\n",
    "\n",
    "plt.figure(num=None, figsize=(10, 8), dpi=80, facecolor='w', edgecolor='k')\n",
    "\n",
    "model, k, learning_rate = MF_SGD_list[3]\n",
    "plt.plot(iter_array, model.training_mse, label=f\" k={k}, alpha={learning_rate}\", linewidth=5)\n",
    "\n",
    "plt.xticks(fontsize=16);\n",
    "plt.yticks(fontsize=16);\n",
    "plt.xlabel('iterations', fontsize=30);\n",
    "plt.ylabel('MSE', fontsize=30);\n",
    "plt.title('training_mse')\n",
    "plt.legend(loc='best', fontsize=20);"
   ]
  },
  {
   "cell_type": "code",
   "execution_count": null,
   "metadata": {},
   "outputs": [],
   "source": []
  },
  {
   "cell_type": "code",
   "execution_count": null,
   "metadata": {},
   "outputs": [],
   "source": []
  },
  {
   "cell_type": "code",
   "execution_count": null,
   "metadata": {},
   "outputs": [],
   "source": []
  },
  {
   "cell_type": "code",
   "execution_count": null,
   "metadata": {},
   "outputs": [],
   "source": []
  },
  {
   "cell_type": "code",
   "execution_count": null,
   "metadata": {},
   "outputs": [],
   "source": []
  },
  {
   "cell_type": "code",
   "execution_count": null,
   "metadata": {},
   "outputs": [],
   "source": []
  },
  {
   "cell_type": "code",
   "execution_count": null,
   "metadata": {},
   "outputs": [],
   "source": []
  },
  {
   "cell_type": "markdown",
   "metadata": {},
   "source": [
    "### Question 3: Matrix factorization – item similarity and model explainability (25 points)"
   ]
  },
  {
   "cell_type": "markdown",
   "metadata": {},
   "source": [
    "#### Answer:"
   ]
  },
  {
   "cell_type": "code",
   "execution_count": null,
   "metadata": {},
   "outputs": [],
   "source": []
  }
 ],
 "metadata": {
  "kernelspec": {
   "display_name": "Python 3",
   "language": "python",
   "name": "python3"
  },
  "language_info": {
   "codemirror_mode": {
    "name": "ipython",
    "version": 3
   },
   "file_extension": ".py",
   "mimetype": "text/x-python",
   "name": "python",
   "nbconvert_exporter": "python",
   "pygments_lexer": "ipython3",
   "version": "3.7.9"
  }
 },
 "nbformat": 4,
 "nbformat_minor": 4
}
