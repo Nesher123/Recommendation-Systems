{
 "cells": [
  {
   "cell_type": "markdown",
   "metadata": {},
   "source": [
    "# Recommendations Systems\n",
    "## Homework 3: Neural Collaborative Filtering"
   ]
  },
  {
   "cell_type": "markdown",
   "metadata": {},
   "source": [
    "Submit your solution in the form of an Jupyter notebook file (with extension ipynb).   \n",
    "Images of graphs or tables should be submitted as PNG or JPG files.   \n",
    "The code used to answer the questions should be included, runnable and documented in the notebook.   \n",
    "Python 3.6 should be used."
   ]
  },
  {
   "cell_type": "markdown",
   "metadata": {},
   "source": [
    "The goal of this homework is to let you understand the concept of  recommendations based on implicit data which is very common in real life, and learn how ‘Deep neural networks’ components can be used to implement a collaborative filtering and hybrid approach recommenders.  \n",
    "Implementation example is presented in the <a href='https://colab.research.google.com/drive/1v72_zpCObTFMbNnQXUknoQVXR1vBRX6_?usp=sharing'>NeuralCollaborativeFiltering_Implicit</a> notebook in Moodle."
   ]
  },
  {
   "cell_type": "markdown",
   "metadata": {},
   "source": [
    "We will use a dataset based on the <a href='https://grouplens.org/datasets/movielens/1m/'>MovieLens 1M rating dataset</a> after some pre-processing to adapt it to an implicit feedback use case scenario.  \n",
    "You can download the dataset used by <a href='https://github.com/hexiangnan/neural_collaborative_filtering'>this implementation</a> of the paper Neural Collaborative Filtering or from the NeuralCollaborativeFiltering_implicit notebook in Moodle.\n",
    "<br>"
   ]
  },
  {
   "cell_type": "markdown",
   "metadata": {},
   "source": [
    "## Imports:"
   ]
  },
  {
   "cell_type": "code",
   "execution_count": 22,
   "metadata": {},
   "outputs": [],
   "source": [
    "import numpy as np\n",
    "import pandas as pd\n",
    "import matplotlib.pyplot as plt\n",
    "import os\n",
    "\n",
    "\n",
    "np.random.seed(0)"
   ]
  },
  {
   "cell_type": "markdown",
   "metadata": {},
   "source": [
    "#### Constants:"
   ]
  },
  {
   "cell_type": "code",
   "execution_count": null,
   "metadata": {},
   "outputs": [],
   "source": []
  },
  {
   "cell_type": "markdown",
   "metadata": {},
   "source": [
    "#### Preprocessing:"
   ]
  },
  {
   "cell_type": "code",
   "execution_count": 3,
   "metadata": {},
   "outputs": [
    {
     "name": "stderr",
     "output_type": "stream",
     "text": [
      "Cloning into 'neural_collaborative_filtering'...\n"
     ]
    }
   ],
   "source": [
    "# !git clone https://github.com/hexiangnan/neural_collaborative_filtering.git"
   ]
  },
  {
   "cell_type": "code",
   "execution_count": 21,
   "metadata": {},
   "outputs": [],
   "source": [
    "column_names = ['user_id', 'item_id', 'rating', 'timestamp']\n",
    "training = pd.read_csv('./neural_collaborative_filtering/Data/ml-1m.train.rating', sep='\\t', names=column_names) # Read the training file\n",
    "test_rating = pd.read_csv('./neural_collaborative_filtering/Data/ml-1m.test.rating', sep='\\t', names=column_names) # Read the test file\n",
    "\n",
    "negative_ids = ['(user_id, item_id)']\n",
    "\n",
    "for i in range(1,100):\n",
    "    negative_ids.append(f'id-{i}')\n",
    "\n",
    "test_negative = pd.read_csv('./neural_collaborative_filtering/Data/ml-1m.test.negative', sep='\\t', names=negative_ids)"
   ]
  },
  {
   "cell_type": "code",
   "execution_count": 20,
   "metadata": {},
   "outputs": [
    {
     "data": {
      "text/html": [
       "<div>\n",
       "<style scoped>\n",
       "    .dataframe tbody tr th:only-of-type {\n",
       "        vertical-align: middle;\n",
       "    }\n",
       "\n",
       "    .dataframe tbody tr th {\n",
       "        vertical-align: top;\n",
       "    }\n",
       "\n",
       "    .dataframe thead th {\n",
       "        text-align: right;\n",
       "    }\n",
       "</style>\n",
       "<table border=\"1\" class=\"dataframe\">\n",
       "  <thead>\n",
       "    <tr style=\"text-align: right;\">\n",
       "      <th></th>\n",
       "      <th>(user_id, item_id)</th>\n",
       "      <th>id-1</th>\n",
       "      <th>id-2</th>\n",
       "      <th>id-3</th>\n",
       "      <th>id-4</th>\n",
       "      <th>id-5</th>\n",
       "      <th>id-6</th>\n",
       "      <th>id-7</th>\n",
       "      <th>id-8</th>\n",
       "      <th>id-9</th>\n",
       "      <th>...</th>\n",
       "      <th>id-90</th>\n",
       "      <th>id-91</th>\n",
       "      <th>id-92</th>\n",
       "      <th>id-93</th>\n",
       "      <th>id-94</th>\n",
       "      <th>id-95</th>\n",
       "      <th>id-96</th>\n",
       "      <th>id-97</th>\n",
       "      <th>id-98</th>\n",
       "      <th>id-99</th>\n",
       "    </tr>\n",
       "  </thead>\n",
       "  <tbody>\n",
       "    <tr>\n",
       "      <th>0</th>\n",
       "      <td>(0,25)</td>\n",
       "      <td>1064</td>\n",
       "      <td>174</td>\n",
       "      <td>2791</td>\n",
       "      <td>3373</td>\n",
       "      <td>269</td>\n",
       "      <td>2678</td>\n",
       "      <td>1902</td>\n",
       "      <td>3641</td>\n",
       "      <td>1216</td>\n",
       "      <td>...</td>\n",
       "      <td>2854</td>\n",
       "      <td>3067</td>\n",
       "      <td>58</td>\n",
       "      <td>2551</td>\n",
       "      <td>2333</td>\n",
       "      <td>2688</td>\n",
       "      <td>3703</td>\n",
       "      <td>1300</td>\n",
       "      <td>1924</td>\n",
       "      <td>3118</td>\n",
       "    </tr>\n",
       "    <tr>\n",
       "      <th>1</th>\n",
       "      <td>(1,133)</td>\n",
       "      <td>1072</td>\n",
       "      <td>3154</td>\n",
       "      <td>3368</td>\n",
       "      <td>3644</td>\n",
       "      <td>549</td>\n",
       "      <td>1810</td>\n",
       "      <td>937</td>\n",
       "      <td>1514</td>\n",
       "      <td>1713</td>\n",
       "      <td>...</td>\n",
       "      <td>1535</td>\n",
       "      <td>341</td>\n",
       "      <td>3525</td>\n",
       "      <td>1429</td>\n",
       "      <td>2225</td>\n",
       "      <td>1628</td>\n",
       "      <td>2061</td>\n",
       "      <td>469</td>\n",
       "      <td>3056</td>\n",
       "      <td>2553</td>\n",
       "    </tr>\n",
       "    <tr>\n",
       "      <th>2</th>\n",
       "      <td>(2,207)</td>\n",
       "      <td>2216</td>\n",
       "      <td>209</td>\n",
       "      <td>2347</td>\n",
       "      <td>3</td>\n",
       "      <td>1652</td>\n",
       "      <td>3397</td>\n",
       "      <td>383</td>\n",
       "      <td>2905</td>\n",
       "      <td>2284</td>\n",
       "      <td>...</td>\n",
       "      <td>953</td>\n",
       "      <td>865</td>\n",
       "      <td>813</td>\n",
       "      <td>1353</td>\n",
       "      <td>2945</td>\n",
       "      <td>2580</td>\n",
       "      <td>2989</td>\n",
       "      <td>2790</td>\n",
       "      <td>2879</td>\n",
       "      <td>2481</td>\n",
       "    </tr>\n",
       "    <tr>\n",
       "      <th>3</th>\n",
       "      <td>(3,208)</td>\n",
       "      <td>3023</td>\n",
       "      <td>1489</td>\n",
       "      <td>1916</td>\n",
       "      <td>1706</td>\n",
       "      <td>1221</td>\n",
       "      <td>1191</td>\n",
       "      <td>2671</td>\n",
       "      <td>81</td>\n",
       "      <td>2483</td>\n",
       "      <td>...</td>\n",
       "      <td>3347</td>\n",
       "      <td>1707</td>\n",
       "      <td>2901</td>\n",
       "      <td>2767</td>\n",
       "      <td>2167</td>\n",
       "      <td>1921</td>\n",
       "      <td>247</td>\n",
       "      <td>1618</td>\n",
       "      <td>2016</td>\n",
       "      <td>2323</td>\n",
       "    </tr>\n",
       "    <tr>\n",
       "      <th>4</th>\n",
       "      <td>(4,222)</td>\n",
       "      <td>1794</td>\n",
       "      <td>3535</td>\n",
       "      <td>108</td>\n",
       "      <td>593</td>\n",
       "      <td>466</td>\n",
       "      <td>2048</td>\n",
       "      <td>854</td>\n",
       "      <td>1378</td>\n",
       "      <td>1301</td>\n",
       "      <td>...</td>\n",
       "      <td>2490</td>\n",
       "      <td>1332</td>\n",
       "      <td>2526</td>\n",
       "      <td>2804</td>\n",
       "      <td>2027</td>\n",
       "      <td>833</td>\n",
       "      <td>176</td>\n",
       "      <td>463</td>\n",
       "      <td>2851</td>\n",
       "      <td>2453</td>\n",
       "    </tr>\n",
       "    <tr>\n",
       "      <th>...</th>\n",
       "      <td>...</td>\n",
       "      <td>...</td>\n",
       "      <td>...</td>\n",
       "      <td>...</td>\n",
       "      <td>...</td>\n",
       "      <td>...</td>\n",
       "      <td>...</td>\n",
       "      <td>...</td>\n",
       "      <td>...</td>\n",
       "      <td>...</td>\n",
       "      <td>...</td>\n",
       "      <td>...</td>\n",
       "      <td>...</td>\n",
       "      <td>...</td>\n",
       "      <td>...</td>\n",
       "      <td>...</td>\n",
       "      <td>...</td>\n",
       "      <td>...</td>\n",
       "      <td>...</td>\n",
       "      <td>...</td>\n",
       "      <td>...</td>\n",
       "    </tr>\n",
       "    <tr>\n",
       "      <th>6035</th>\n",
       "      <td>(6035,1048)</td>\n",
       "      <td>2495</td>\n",
       "      <td>3406</td>\n",
       "      <td>819</td>\n",
       "      <td>729</td>\n",
       "      <td>1920</td>\n",
       "      <td>2003</td>\n",
       "      <td>3329</td>\n",
       "      <td>2351</td>\n",
       "      <td>549</td>\n",
       "      <td>...</td>\n",
       "      <td>2583</td>\n",
       "      <td>2905</td>\n",
       "      <td>2713</td>\n",
       "      <td>2361</td>\n",
       "      <td>2542</td>\n",
       "      <td>2598</td>\n",
       "      <td>2030</td>\n",
       "      <td>2984</td>\n",
       "      <td>3382</td>\n",
       "      <td>2771</td>\n",
       "    </tr>\n",
       "    <tr>\n",
       "      <th>6036</th>\n",
       "      <td>(6036,294)</td>\n",
       "      <td>2248</td>\n",
       "      <td>1318</td>\n",
       "      <td>3661</td>\n",
       "      <td>72</td>\n",
       "      <td>351</td>\n",
       "      <td>2131</td>\n",
       "      <td>3281</td>\n",
       "      <td>2482</td>\n",
       "      <td>639</td>\n",
       "      <td>...</td>\n",
       "      <td>110</td>\n",
       "      <td>508</td>\n",
       "      <td>2168</td>\n",
       "      <td>354</td>\n",
       "      <td>1156</td>\n",
       "      <td>1646</td>\n",
       "      <td>3238</td>\n",
       "      <td>2091</td>\n",
       "      <td>1494</td>\n",
       "      <td>2489</td>\n",
       "    </tr>\n",
       "    <tr>\n",
       "      <th>6037</th>\n",
       "      <td>(6037,1528)</td>\n",
       "      <td>2194</td>\n",
       "      <td>867</td>\n",
       "      <td>1424</td>\n",
       "      <td>2517</td>\n",
       "      <td>3080</td>\n",
       "      <td>2789</td>\n",
       "      <td>1210</td>\n",
       "      <td>3150</td>\n",
       "      <td>466</td>\n",
       "      <td>...</td>\n",
       "      <td>1428</td>\n",
       "      <td>433</td>\n",
       "      <td>74</td>\n",
       "      <td>3457</td>\n",
       "      <td>833</td>\n",
       "      <td>2823</td>\n",
       "      <td>2425</td>\n",
       "      <td>3434</td>\n",
       "      <td>2331</td>\n",
       "      <td>2530</td>\n",
       "    </tr>\n",
       "    <tr>\n",
       "      <th>6038</th>\n",
       "      <td>(6038,1449)</td>\n",
       "      <td>2606</td>\n",
       "      <td>2054</td>\n",
       "      <td>2754</td>\n",
       "      <td>1299</td>\n",
       "      <td>2854</td>\n",
       "      <td>2413</td>\n",
       "      <td>1055</td>\n",
       "      <td>742</td>\n",
       "      <td>2876</td>\n",
       "      <td>...</td>\n",
       "      <td>2140</td>\n",
       "      <td>3401</td>\n",
       "      <td>813</td>\n",
       "      <td>1374</td>\n",
       "      <td>307</td>\n",
       "      <td>1477</td>\n",
       "      <td>2327</td>\n",
       "      <td>114</td>\n",
       "      <td>98</td>\n",
       "      <td>3021</td>\n",
       "    </tr>\n",
       "    <tr>\n",
       "      <th>6039</th>\n",
       "      <td>(6039,434)</td>\n",
       "      <td>3289</td>\n",
       "      <td>3432</td>\n",
       "      <td>2599</td>\n",
       "      <td>2162</td>\n",
       "      <td>1653</td>\n",
       "      <td>2363</td>\n",
       "      <td>2576</td>\n",
       "      <td>1315</td>\n",
       "      <td>3255</td>\n",
       "      <td>...</td>\n",
       "      <td>394</td>\n",
       "      <td>195</td>\n",
       "      <td>1698</td>\n",
       "      <td>110</td>\n",
       "      <td>1985</td>\n",
       "      <td>873</td>\n",
       "      <td>674</td>\n",
       "      <td>555</td>\n",
       "      <td>746</td>\n",
       "      <td>1526</td>\n",
       "    </tr>\n",
       "  </tbody>\n",
       "</table>\n",
       "<p>6040 rows × 100 columns</p>\n",
       "</div>"
      ],
      "text/plain": [
       "     (user_id, item_id)  id-1  id-2  id-3  id-4  id-5  id-6  id-7  id-8  id-9  \\\n",
       "0                (0,25)  1064   174  2791  3373   269  2678  1902  3641  1216   \n",
       "1               (1,133)  1072  3154  3368  3644   549  1810   937  1514  1713   \n",
       "2               (2,207)  2216   209  2347     3  1652  3397   383  2905  2284   \n",
       "3               (3,208)  3023  1489  1916  1706  1221  1191  2671    81  2483   \n",
       "4               (4,222)  1794  3535   108   593   466  2048   854  1378  1301   \n",
       "...                 ...   ...   ...   ...   ...   ...   ...   ...   ...   ...   \n",
       "6035        (6035,1048)  2495  3406   819   729  1920  2003  3329  2351   549   \n",
       "6036         (6036,294)  2248  1318  3661    72   351  2131  3281  2482   639   \n",
       "6037        (6037,1528)  2194   867  1424  2517  3080  2789  1210  3150   466   \n",
       "6038        (6038,1449)  2606  2054  2754  1299  2854  2413  1055   742  2876   \n",
       "6039         (6039,434)  3289  3432  2599  2162  1653  2363  2576  1315  3255   \n",
       "\n",
       "      ...  id-90  id-91  id-92  id-93  id-94  id-95  id-96  id-97  id-98  \\\n",
       "0     ...   2854   3067     58   2551   2333   2688   3703   1300   1924   \n",
       "1     ...   1535    341   3525   1429   2225   1628   2061    469   3056   \n",
       "2     ...    953    865    813   1353   2945   2580   2989   2790   2879   \n",
       "3     ...   3347   1707   2901   2767   2167   1921    247   1618   2016   \n",
       "4     ...   2490   1332   2526   2804   2027    833    176    463   2851   \n",
       "...   ...    ...    ...    ...    ...    ...    ...    ...    ...    ...   \n",
       "6035  ...   2583   2905   2713   2361   2542   2598   2030   2984   3382   \n",
       "6036  ...    110    508   2168    354   1156   1646   3238   2091   1494   \n",
       "6037  ...   1428    433     74   3457    833   2823   2425   3434   2331   \n",
       "6038  ...   2140   3401    813   1374    307   1477   2327    114     98   \n",
       "6039  ...    394    195   1698    110   1985    873    674    555    746   \n",
       "\n",
       "      id-99  \n",
       "0      3118  \n",
       "1      2553  \n",
       "2      2481  \n",
       "3      2323  \n",
       "4      2453  \n",
       "...     ...  \n",
       "6035   2771  \n",
       "6036   2489  \n",
       "6037   2530  \n",
       "6038   3021  \n",
       "6039   1526  \n",
       "\n",
       "[6040 rows x 100 columns]"
      ]
     },
     "execution_count": 20,
     "metadata": {},
     "output_type": "execute_result"
    }
   ],
   "source": [
    "test_negative"
   ]
  },
  {
   "cell_type": "markdown",
   "metadata": {},
   "source": [
    "## Question 1: Dataset preparation"
   ]
  },
  {
   "cell_type": "markdown",
   "metadata": {},
   "source": [
    "a. This implementation contains one file for training and two files for testing:\n",
    "- ml-1m.train.rating\n",
    "- ml-1m.test.rating\n",
    "- ml-1m.test.negative\n",
    "\n",
    "**Explain** the role and structure of each file and how it was created from the original MovieLens 1M rating dataset.\n",
    "\n",
    "##### Answer:"
   ]
  },
  {
   "cell_type": "markdown",
   "metadata": {},
   "source": [
    "ml-1m.train.rating:\n",
    "- Training file\n",
    "- Each line is a training instance: userID\\t itemID\\t rating\\t timestamp (if exists)\n",
    "\n",
    "ml-1m.test.rating:\n",
    "- Test file (positive instances)\n",
    "- Each line is a testing instance: userID\\t itemID\\t rating\\t timestamp (if exists)\n",
    "\n",
    "ml-1m.test.negative:\n",
    "- Test file (negative instances)\n",
    "- Each line corresponds to the line of test.rating, containing 99 negative samples\n",
    "- Each line is in the format: (userID,itemID)\\t negativeItemID1\\t negativeItemID2..."
   ]
  },
  {
   "cell_type": "markdown",
   "metadata": {},
   "source": [
    "b. **Explain** how the training dataset is created.\n",
    "\n",
    "##### Answer:"
   ]
  },
  {
   "cell_type": "markdown",
   "metadata": {},
   "source": []
  },
  {
   "cell_type": "markdown",
   "metadata": {},
   "source": [
    "c. **Explain** how the test dataset is created.\n",
    "\n",
    "##### Answer:"
   ]
  },
  {
   "cell_type": "markdown",
   "metadata": {},
   "source": []
  },
  {
   "cell_type": "markdown",
   "metadata": {},
   "source": [
    "<br>"
   ]
  },
  {
   "cell_type": "markdown",
   "metadata": {},
   "source": [
    "***\n",
    "## Question 2: Neural Collaborative filtering"
   ]
  },
  {
   "cell_type": "markdown",
   "metadata": {},
   "source": [
    "a. Build the following four models using the neural collaborative filtering approach: \n",
    "- Matrix Factorization (MF)\n",
    "- Multi layer perceptron (MLP)\n",
    "- Generalized Matrix Factorization (GMF) \n",
    "- NeuroMatrixFactorization (NMF)"
   ]
  },
  {
   "cell_type": "code",
   "execution_count": null,
   "metadata": {},
   "outputs": [],
   "source": []
  },
  {
   "cell_type": "markdown",
   "metadata": {},
   "source": [
    "b. Train and evaluate the recommendations accuracy of three models: \n",
    "- MF or GMF\n",
    "- MLP\n",
    "- NMF\n",
    "\n",
    "Compare the learning curve and recommendations accuracy using NDCG and MRR metrics with cutoff values of 5 and 10.   \n",
    "Discuss the comparison. "
   ]
  },
  {
   "cell_type": "code",
   "execution_count": null,
   "metadata": {},
   "outputs": [],
   "source": []
  },
  {
   "cell_type": "markdown",
   "metadata": {},
   "source": [
    "c. How the values of MRR and NDCG are differ from the results you got in the previous exercises which implemented the explicit recommendation approach. \n",
    "What are the difference in preparing the dataset for evaluation. "
   ]
  },
  {
   "cell_type": "code",
   "execution_count": null,
   "metadata": {},
   "outputs": [],
   "source": []
  },
  {
   "cell_type": "markdown",
   "metadata": {},
   "source": [
    "d. How will you measure item similarity using the NeuMF model?"
   ]
  },
  {
   "cell_type": "code",
   "execution_count": null,
   "metadata": {},
   "outputs": [],
   "source": []
  },
  {
   "cell_type": "markdown",
   "metadata": {},
   "source": [
    "<br>"
   ]
  },
  {
   "cell_type": "markdown",
   "metadata": {},
   "source": [
    "***\n",
    "## Question 3: Loss function"
   ]
  },
  {
   "cell_type": "markdown",
   "metadata": {},
   "source": [
    "a. One of the enhancements presented in the Neural Collaborative Filtering paper is the usage of probabilistic activation function (the sigmoid) and binary cross entropy loss function.   \n",
    "\n",
    "Select one of the models you implemented in question 2 and change the loss function to a Mean Squared Error and the activation function of the last layer to RELU.   \n",
    "\n",
    "Train the model and evaluate it in a similar way to what you did in question 2. \n",
    "Compare the results and discuss."
   ]
  },
  {
   "cell_type": "code",
   "execution_count": 5,
   "metadata": {},
   "outputs": [],
   "source": [
    "# from HW1\n",
    "def get_mse(pred, actual):\n",
    "    I = actual != 0  # Indicator function which is zero for missing data\n",
    "    ME = I * (actual - pred)  # Errors between real and predicted ratings\n",
    "    MSE = ME**2\n",
    "    return np.sum(MSE)/np.sum(I)"
   ]
  },
  {
   "cell_type": "code",
   "execution_count": null,
   "metadata": {},
   "outputs": [],
   "source": []
  }
 ],
 "metadata": {
  "kernelspec": {
   "display_name": "Python 3",
   "language": "python",
   "name": "python3"
  },
  "language_info": {
   "codemirror_mode": {
    "name": "ipython",
    "version": 3
   },
   "file_extension": ".py",
   "mimetype": "text/x-python",
   "name": "python",
   "nbconvert_exporter": "python",
   "pygments_lexer": "ipython3",
   "version": "3.8.5"
  }
 },
 "nbformat": 4,
 "nbformat_minor": 4
}
