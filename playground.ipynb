{
 "cells": [
  {
   "cell_type": "code",
   "execution_count": 1,
   "metadata": {},
   "outputs": [],
   "source": [
    "import numpy as np\n",
    "import pandas as pd\n",
    "np.random.seed(0)\n"
   ]
  },
  {
   "cell_type": "code",
   "execution_count": 2,
   "metadata": {},
   "outputs": [
    {
     "data": {
      "text/html": [
       "<div>\n",
       "<style scoped>\n",
       "    .dataframe tbody tr th:only-of-type {\n",
       "        vertical-align: middle;\n",
       "    }\n",
       "\n",
       "    .dataframe tbody tr th {\n",
       "        vertical-align: top;\n",
       "    }\n",
       "\n",
       "    .dataframe thead th {\n",
       "        text-align: right;\n",
       "    }\n",
       "</style>\n",
       "<table border=\"1\" class=\"dataframe\">\n",
       "  <thead>\n",
       "    <tr style=\"text-align: right;\">\n",
       "      <th></th>\n",
       "      <th>user_id</th>\n",
       "      <th>item_id</th>\n",
       "      <th>rating</th>\n",
       "      <th>timestamp</th>\n",
       "    </tr>\n",
       "  </thead>\n",
       "  <tbody>\n",
       "    <tr>\n",
       "      <th>0</th>\n",
       "      <td>196</td>\n",
       "      <td>242</td>\n",
       "      <td>3</td>\n",
       "      <td>881250949</td>\n",
       "    </tr>\n",
       "    <tr>\n",
       "      <th>1</th>\n",
       "      <td>186</td>\n",
       "      <td>302</td>\n",
       "      <td>3</td>\n",
       "      <td>891717742</td>\n",
       "    </tr>\n",
       "    <tr>\n",
       "      <th>2</th>\n",
       "      <td>22</td>\n",
       "      <td>377</td>\n",
       "      <td>1</td>\n",
       "      <td>878887116</td>\n",
       "    </tr>\n",
       "    <tr>\n",
       "      <th>3</th>\n",
       "      <td>244</td>\n",
       "      <td>51</td>\n",
       "      <td>2</td>\n",
       "      <td>880606923</td>\n",
       "    </tr>\n",
       "    <tr>\n",
       "      <th>4</th>\n",
       "      <td>166</td>\n",
       "      <td>346</td>\n",
       "      <td>1</td>\n",
       "      <td>886397596</td>\n",
       "    </tr>\n",
       "  </tbody>\n",
       "</table>\n",
       "</div>"
      ],
      "text/plain": [
       "   user_id  item_id  rating  timestamp\n",
       "0      196      242       3  881250949\n",
       "1      186      302       3  891717742\n",
       "2       22      377       1  878887116\n",
       "3      244       51       2  880606923\n",
       "4      166      346       1  886397596"
      ]
     },
     "execution_count": 2,
     "metadata": {},
     "output_type": "execute_result"
    }
   ],
   "source": [
    "folds_dir = './ml-100k/'\n",
    "\n",
    "header = ['user_id', 'item_id', 'rating', 'timestamp']   \n",
    "df = pd.read_csv(f'{folds_dir}u.data', sep='\\t', names=header)\n",
    "df.head()"
   ]
  },
  {
   "cell_type": "code",
   "execution_count": 3,
   "metadata": {},
   "outputs": [],
   "source": [
    "def get_all_users_and_items():\n",
    "    header = ['user_id', 'item_id', 'rating', 'timestamp']   \n",
    "    df = pd.read_csv(f'{folds_dir}u.data', sep='\\t', names=header)\n",
    "    users = df.user_id.unique()\n",
    "    items = df.item_id.unique()\n",
    "    return users, items\n",
    "all_users_ids, all_items_ids = get_all_users_and_items()\n"
   ]
  },
  {
   "cell_type": "code",
   "execution_count": 4,
   "metadata": {},
   "outputs": [],
   "source": [
    "\n",
    "def create_rating_matrix_from_raw_data(df):\n",
    "\n",
    "    ratings = np.zeros((all_users_ids.shape[0], all_items_ids.shape[0]))\n",
    "\n",
    "    for row in df.itertuples():\n",
    "        ratings[row[1]-1][row[2]-1] = row[3]  \n",
    "        \n",
    "    return ratings\n"
   ]
  },
  {
   "cell_type": "code",
   "execution_count": 5,
   "metadata": {},
   "outputs": [
    {
     "data": {
      "text/plain": [
       "(943, 1682)"
      ]
     },
     "execution_count": 5,
     "metadata": {},
     "output_type": "execute_result"
    }
   ],
   "source": [
    "df = pd.read_csv(f'{folds_dir}u.data', sep='\\t', names=header)\n",
    "df.shape\n",
    "\n",
    "ratings = create_rating_matrix_from_raw_data(df)\n",
    "ratings.shape"
   ]
  },
  {
   "cell_type": "code",
   "execution_count": 6,
   "metadata": {},
   "outputs": [
    {
     "name": "stdout",
     "output_type": "stream",
     "text": [
      "Sparsity: 6.30%\n"
     ]
    }
   ],
   "source": [
    "import numpy as np\n",
    "sparsity = float(len(np.nan_to_num(ratings).nonzero()[0]))\n",
    "sparsity /= (ratings.shape[0] * ratings.shape[1])\n",
    "sparsity *= 100\n",
    "print('Sparsity: {:4.2f}%'.format(sparsity))"
   ]
  },
  {
   "cell_type": "code",
   "execution_count": 7,
   "metadata": {},
   "outputs": [],
   "source": [
    "def train_test_split(ratings):\n",
    "    test = np.zeros(ratings.shape)\n",
    "    train = ratings.copy()\n",
    "    for user in range(ratings.shape[0]):\n",
    "        test_ratings = np.random.choice(ratings[user, :].nonzero()[0], \n",
    "                                        size=10, \n",
    "                                        replace=False)\n",
    "        train[user, test_ratings] = 0.\n",
    "        test[user, test_ratings] = ratings[user, test_ratings]\n",
    "        \n",
    "    # Test and training are truly disjoint\n",
    "    assert(np.all((train * test) == 0)) \n",
    "    return train, test"
   ]
  },
  {
   "cell_type": "code",
   "execution_count": 8,
   "metadata": {},
   "outputs": [],
   "source": [
    "train, test = train_test_split(ratings)"
   ]
  },
  {
   "cell_type": "code",
   "execution_count": null,
   "metadata": {},
   "outputs": [],
   "source": []
  },
  {
   "cell_type": "code",
   "execution_count": null,
   "metadata": {},
   "outputs": [],
   "source": []
  },
  {
   "cell_type": "code",
   "execution_count": null,
   "metadata": {},
   "outputs": [],
   "source": [
    "def get_5_folds(folds_dir='./ml-100k/'):    \n",
    "    header = ['user_id', 'item_id', 'rating', 'timestamp']\n",
    "    folds = []\n",
    "    \n",
    "    for i in range(5):     \n",
    "        print(f'{folds_dir}u{i+1}.base')\n",
    "        df_train = pd.read_csv(f'{folds_dir}u{i+1}.base', sep='\\t', names=header)\n",
    "        df_test = pd.read_csv(f'{folds_dir}u{i+1}.test', sep='\\t', names=header)   \n",
    "        \n",
    "        rating_train = create_rating_matrix_from_raw_data(df_train)\n",
    "        rating_test  = create_rating_matrix_from_raw_data(df_test)        \n",
    "           \n",
    "        folds.append((rating_train, rating_test))\n",
    "    return folds\n",
    "folds = get_5_folds()\n",
    "\n",
    "for fold in folds:\n",
    "    print(fold[0].shape, fold[1].shape)"
   ]
  },
  {
   "cell_type": "code",
   "execution_count": null,
   "metadata": {},
   "outputs": [],
   "source": [
    "train_data, test_data = folds[0]\n",
    "train_data.shape"
   ]
  },
  {
   "cell_type": "code",
   "execution_count": 15,
   "metadata": {},
   "outputs": [],
   "source": [
    "import numpy as np\n",
    "from numpy.linalg import solve\n",
    "from sklearn.metrics import mean_squared_error\n",
    "\n",
    "\n",
    "def get_mse(pred, actual):\n",
    "    # Ignore nonzero terms.\n",
    "    pred = pred[actual.nonzero()].flatten()\n",
    "    actual = actual[actual.nonzero()].flatten()\n",
    "    return mean_squared_error(pred, actual)\n",
    "\n",
    "\n",
    "class MatrixFactorizationALS:\n",
    "    def __init__(self,\n",
    "                 ratings,\n",
    "                 n_factors=40,\n",
    "                 item_reg=0.0,\n",
    "                 user_reg=0.0,\n",
    "                 verbose=False):\n",
    "        self.ratings = ratings\n",
    "        self.n_users, self.n_items = ratings.shape\n",
    "        self.n_factors = n_factors\n",
    "        self.item_reg = item_reg\n",
    "        self.user_reg = user_reg\n",
    "        self._v = verbose\n",
    "\n",
    "    def als_step_user(self,\n",
    "                      latent_vectors,\n",
    "                      fixed_vecs,\n",
    "                      ratings,\n",
    "                      _lambda):\n",
    "        YTY = fixed_vecs.T.dot(fixed_vecs)\n",
    "        lambdaI = np.eye(YTY.shape[0]) * _lambda\n",
    "\n",
    "        for u in range(latent_vectors.shape[0]):\n",
    "            latent_vectors[u, :] = solve((YTY + lambdaI), ratings[u, :].dot(fixed_vecs))\n",
    "        return latent_vectors\n",
    "\n",
    "    def als_step_item(self,\n",
    "                      latent_vectors,\n",
    "                      fixed_vecs,\n",
    "                      ratings,\n",
    "                      _lambda):\n",
    "        XTX = fixed_vecs.T.dot(fixed_vecs)\n",
    "        lambdaI = np.eye(XTX.shape[0]) * _lambda\n",
    "\n",
    "        for i in range(latent_vectors.shape[0]):\n",
    "            latent_vectors[i, :] = solve((XTX + lambdaI), ratings[:, i].T.dot(fixed_vecs))\n",
    "        return latent_vectors\n",
    "\n",
    "    def train(self, n_iter=10):\n",
    "        \"\"\" Train model for n_iter iterations from scratch.\"\"\"\n",
    "        # initialize latent vectors\n",
    "        self.user_vecs = np.random.normal(scale=1. / self.n_factors,\n",
    "                                          size=(self.n_users, self.n_factors))\n",
    "        self.item_vecs = np.random.normal(scale=1. / self.n_factors,\n",
    "                                          size=(self.n_items, self.n_factors))\n",
    "        self.partial_train(n_iter)\n",
    "\n",
    "    def partial_train(self, n_iter):\n",
    "        ctr = 1\n",
    "        while ctr <= n_iter:\n",
    "            if ctr % 10 == 0 and self._v:\n",
    "                print(f'\\tcurrent iteration: {ctr}')\n",
    "            self.user_vecs = self.als_step_user(self.user_vecs,\n",
    "                                                self.item_vecs,\n",
    "                                                self.ratings,\n",
    "                                                self.user_reg)\n",
    "            self.item_vecs = self.als_step_item(self.item_vecs,\n",
    "                                                self.user_vecs,\n",
    "                                                self.ratings,\n",
    "                                                self.item_reg)\n",
    "\n",
    "            ctr += 1\n",
    "\n",
    "    def predict(self, u, i):\n",
    "        return self.user_vecs[u, :].dot(self.item_vecs[i, :].T)\n",
    "\n",
    "    def predict_all(self):\n",
    "        predictions = np.zeros((self.user_vecs.shape[0],\n",
    "                                self.item_vecs.shape[0]))\n",
    "        for u in range(self.user_vecs.shape[0]):\n",
    "            for i in range(self.item_vecs.shape[0]):\n",
    "                predictions[u, i] = self.predict(u, i)\n",
    "\n",
    "        return predictions\n",
    "\n",
    "    def calculate_learning_curve(self, iter_array, test):\n",
    "        iter_array.sort()\n",
    "        self.train_mse = []\n",
    "        self.test_mse = []\n",
    "        iter_diff = 0\n",
    "        for (i, n_iter) in enumerate(iter_array):\n",
    "            if self._v:\n",
    "                print(f'Iteration: {n_iter}')\n",
    "            if i == 0:\n",
    "                self.train(n_iter - iter_diff)\n",
    "            else:\n",
    "                self.partial_train(n_iter - iter_diff)\n",
    "\n",
    "            predictions = self.predict_all()\n",
    "\n",
    "            self.train_mse += [get_mse(predictions, self.ratings)]\n",
    "            self.test_mse += [get_mse(predictions, test)]\n",
    "            if self._v:\n",
    "                print(f'Train mse: {str(self.train_mse[-1])}')\n",
    "                print(f'Test mse: {str(self.test_mse[-1])}')\n",
    "            iter_diff = n_iter\n"
   ]
  },
  {
   "cell_type": "code",
   "execution_count": 16,
   "metadata": {},
   "outputs": [
    {
     "name": "stdout",
     "output_type": "stream",
     "text": [
      "Iteration: 1\n",
      "Train mse: 5.432576495368798\n",
      "Test mse: 9.86092561961515\n",
      "Iteration: 2\n",
      "Train mse: 4.214419478631128\n",
      "Test mse: 8.617990670480376\n",
      "Iteration: 5\n",
      "Train mse: 3.9712319959888807\n",
      "Test mse: 8.46098206557439\n",
      "Iteration: 10\n",
      "Train mse: 3.9349021551909393\n",
      "Test mse: 8.450793648665558\n",
      "Iteration: 25\n",
      "\tcurrent iteration: 10\n",
      "Train mse: 3.924911105021586\n",
      "Test mse: 8.45928512541879\n",
      "Iteration: 50\n",
      "\tcurrent iteration: 10\n",
      "\tcurrent iteration: 20\n",
      "Train mse: 3.9237737238957457\n",
      "Test mse: 8.463674633642704\n",
      "Iteration: 100\n",
      "\tcurrent iteration: 10\n",
      "\tcurrent iteration: 20\n",
      "\tcurrent iteration: 30\n",
      "\tcurrent iteration: 40\n",
      "\tcurrent iteration: 50\n",
      "Train mse: 3.923370043600883\n",
      "Test mse: 8.466561433543408\n"
     ]
    }
   ],
   "source": [
    "MF_ALS = MatrixFactorization(train, n_factors=40, \\\n",
    "                    user_reg=0.0, item_reg=0.0, verbose=True)\n",
    "iter_array = [1, 2, 5, 10, 25, 50, 100]\n",
    "MF_ALS.calculate_learning_curve(iter_array, test)"
   ]
  },
  {
   "cell_type": "code",
   "execution_count": 17,
   "metadata": {},
   "outputs": [],
   "source": [
    "%matplotlib inline\n",
    "import matplotlib.pyplot as plt\n",
    "import seaborn as sns\n",
    "sns.set()\n",
    "\n",
    "def plot_learning_curve(iter_array, model):\n",
    "    plt.plot(iter_array, model.train_mse, \\\n",
    "             label='Training', linewidth=5)\n",
    "    plt.plot(iter_array, model.test_mse, \\\n",
    "             label='Test', linewidth=5)\n",
    "\n",
    "\n",
    "    plt.xticks(fontsize=16);\n",
    "    plt.yticks(fontsize=16);\n",
    "    plt.xlabel('iterations', fontsize=30);\n",
    "    plt.ylabel('MSE', fontsize=30);\n",
    "    plt.legend(loc='best', fontsize=20);"
   ]
  },
  {
   "cell_type": "code",
   "execution_count": 12,
   "metadata": {},
   "outputs": [
    {
     "data": {
      "image/png": "[encoded data removed]",
      "text/plain": [
       "<Figure size 432x288 with 1 Axes>"
      ]
     },
     "metadata": {},
     "output_type": "display_data"
    }
   ],
   "source": [
    "plot_learning_curve(iter_array, MF_ALS)"
   ]
  }
 ],
 "metadata": {
  "kernelspec": {
   "display_name": "Python 3",
   "language": "python",
   "name": "python3"
  },
  "language_info": {
   "codemirror_mode": {
    "name": "ipython",
    "version": 3
   },
   "file_extension": ".py",
   "mimetype": "text/x-python",
   "name": "python",
   "nbconvert_exporter": "python",
   "pygments_lexer": "ipython3",
   "version": "3.8.5"
  }
 },
 "nbformat": 4,
 "nbformat_minor": 4
}
