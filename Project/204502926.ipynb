{
 "cells": [
  {
   "cell_type": "markdown",
   "metadata": {
    "id": "pYsDpFkWGRef"
   },
   "source": [
    "## Imports:"
   ]
  },
  {
   "cell_type": "code",
   "execution_count": null,
   "metadata": {
    "id": "0cvN9YvoGReg"
   },
   "outputs": [],
   "source": [
    "# General\n",
    "import os  \n",
    "import sys\n",
    "import time\n",
    "import warnings\n",
    "import multiprocessing\n",
    "from time import time\n",
    "from random import randrange\n",
    "import math\n",
    "import heapq # for retrieval topK\n",
    "import multiprocessing\n",
    "import pickle\n",
    "\n",
    "# Data Science\n",
    "import numpy  as np\n",
    "import scipy  as sp\n",
    "import pandas as pd\n",
    "\n",
    "# Visual\n",
    "import seaborn as sns\n",
    "import matplotlib.pyplot as plt\n",
    "from mpl_toolkits import mplot3d\n",
    "\n",
    "# Notebook\n",
    "from IPython.display import display, HTML\n",
    "\n",
    "# Deep\n",
    "import tensorflow\n",
    "from tensorflow import keras\n",
    "from tensorflow.keras.models import Model\n",
    "from tensorflow.keras import initializers\n",
    "from tensorflow.keras.regularizers import l2\n",
    "from tensorflow.keras.initializers import RandomNormal\n",
    "from tensorflow.keras.layers import Dense,Lambda,Activation\n",
    "from tensorflow.keras.optimizers import Adam,SGD,RMSprop,Adamax\n",
    "from tensorflow.keras.models import Sequential,Model,load_model,save_model\n",
    "from tensorflow.keras.callbacks import Callback, EarlyStopping, ModelCheckpoint\n",
    "from tensorflow.keras.layers import Embedding,Input,Dense,Reshape,Flatten,Dropout,Multiply,Concatenate"
   ]
  },
  {
   "cell_type": "code",
   "execution_count": null,
   "metadata": {
    "colab": {
     "base_uri": "https://localhost:8080/"
    },
    "id": "MCFf0TvsMLmr",
    "outputId": "b2a42f15-15d7-409e-9a7b-5efa19fd0497"
   },
   "outputs": [
    {
     "name": "stdout",
     "output_type": "stream",
     "text": [
      "Drive already mounted at /content/drive; to attempt to forcibly remount, call drive.mount(\"/content/drive\", force_remount=True).\n"
     ]
    }
   ],
   "source": [
    "from google.colab import drive\r\n",
    "drive.mount('/content/drive')"
   ]
  },
  {
   "cell_type": "markdown",
   "metadata": {
    "id": "ZW0UYR1fGReh"
   },
   "source": [
    "#### CONSTANTS:"
   ]
  },
  {
   "cell_type": "code",
   "execution_count": null,
   "metadata": {
    "id": "NLPgjncYGReh"
   },
   "outputs": [],
   "source": [
    "#  From Asi's notebook used also in HW3\n",
    "\n",
    "K = 5 # used to evaluate the model. Top K recommendations are used.\n",
    "num_factors = 8 # size of embedding size. Can be split to 4 different params potentially.\n",
    "num_negatives = 4 # how many negative samples per positive sample?\n",
    "learning_rate = 0.001\n",
    "batch_size = 256\n",
    "verbose = 1\n",
    "epochs = 10"
   ]
  },
  {
   "cell_type": "markdown",
   "metadata": {
    "id": "6oY6U0gnGReh"
   },
   "source": [
    "#### Preprocessing:"
   ]
  },
  {
   "cell_type": "code",
   "execution_count": null,
   "metadata": {
    "id": "iGobUOhaGRei"
   },
   "outputs": [],
   "source": [
    "column_names = ['user_id', 'item_id', 'rating', 'timestamp']\n",
    "\n",
    "# Read the training file\n",
    "train = pd.read_csv('./drive/My Drive/RecSys/neural_collaborative_filtering/Data/ml-1m.train.rating', sep='\\t', names=column_names)\n",
    "\n",
    "# Read the test file\n",
    "test_rating = pd.read_csv('./drive/My Drive/RecSys/neural_collaborative_filtering/Data/ml-1m.test.rating', sep='\\t', names=column_names)\n",
    "\n",
    "\n",
    "negative_ids = ['(user_id, item_id)']\n",
    "\n",
    "for i in range(1,100):\n",
    "    negative_ids.append(f'id-{i}')\n",
    "\n",
    "test_negative = pd.read_csv('./drive/My Drive/RecSys/neural_collaborative_filtering/Data/ml-1m.test.negative', sep='\\t', names=negative_ids)"
   ]
  },
  {
   "cell_type": "code",
   "execution_count": null,
   "metadata": {
    "colab": {
     "base_uri": "https://localhost:8080/",
     "height": 204
    },
    "id": "iCYX0gMOGRei",
    "outputId": "c289ffd8-f2e0-440c-83af-e5ae7e395c36"
   },
   "outputs": [
    {
     "data": {
      "text/html": [
       "<div>\n",
       "<style scoped>\n",
       "    .dataframe tbody tr th:only-of-type {\n",
       "        vertical-align: middle;\n",
       "    }\n",
       "\n",
       "    .dataframe tbody tr th {\n",
       "        vertical-align: top;\n",
       "    }\n",
       "\n",
       "    .dataframe thead th {\n",
       "        text-align: right;\n",
       "    }\n",
       "</style>\n",
       "<table border=\"1\" class=\"dataframe\">\n",
       "  <thead>\n",
       "    <tr style=\"text-align: right;\">\n",
       "      <th></th>\n",
       "      <th>user_id</th>\n",
       "      <th>item_id</th>\n",
       "      <th>rating</th>\n",
       "      <th>timestamp</th>\n",
       "    </tr>\n",
       "  </thead>\n",
       "  <tbody>\n",
       "    <tr>\n",
       "      <th>0</th>\n",
       "      <td>0</td>\n",
       "      <td>32</td>\n",
       "      <td>4</td>\n",
       "      <td>978824330</td>\n",
       "    </tr>\n",
       "    <tr>\n",
       "      <th>1</th>\n",
       "      <td>0</td>\n",
       "      <td>34</td>\n",
       "      <td>4</td>\n",
       "      <td>978824330</td>\n",
       "    </tr>\n",
       "    <tr>\n",
       "      <th>2</th>\n",
       "      <td>0</td>\n",
       "      <td>4</td>\n",
       "      <td>5</td>\n",
       "      <td>978824291</td>\n",
       "    </tr>\n",
       "    <tr>\n",
       "      <th>3</th>\n",
       "      <td>0</td>\n",
       "      <td>35</td>\n",
       "      <td>4</td>\n",
       "      <td>978824291</td>\n",
       "    </tr>\n",
       "    <tr>\n",
       "      <th>4</th>\n",
       "      <td>0</td>\n",
       "      <td>30</td>\n",
       "      <td>4</td>\n",
       "      <td>978824291</td>\n",
       "    </tr>\n",
       "  </tbody>\n",
       "</table>\n",
       "</div>"
      ],
      "text/plain": [
       "   user_id  item_id  rating  timestamp\n",
       "0        0       32       4  978824330\n",
       "1        0       34       4  978824330\n",
       "2        0        4       5  978824291\n",
       "3        0       35       4  978824291\n",
       "4        0       30       4  978824291"
      ]
     },
     "execution_count": 59,
     "metadata": {
      "tags": []
     },
     "output_type": "execute_result"
    }
   ],
   "source": [
    "train.head()"
   ]
  },
  {
   "cell_type": "code",
   "execution_count": null,
   "metadata": {
    "id": "_OxEGf-Ml-W8"
   },
   "outputs": [],
   "source": [
    "def get_train_instances(train, num_negatives):\n",
    "    user_input, item_input, labels = [0]*((num_negatives + 1)*len(train)),[0]*((num_negatives + 1)*len(train)),[1]\n",
    "    ratings_random = [0]*((num_negatives + 1)*len(train)) # for section E\n",
    "    num_users = train.shape[0]\n",
    "    all_items = train.item_id.unique().argsort()\n",
    "\n",
    "    negatives = [0]*num_negatives\n",
    "    labels.extend(negatives)\n",
    "    total_labels = labels*len(train)\n",
    "#     list(map(lambda x: total_labels.extend(labels), range(len(train))))\n",
    "#     return\n",
    "    percent_1 = int(len(train)/100)\n",
    "    \n",
    "    items_the_user_didnt_rank = None\n",
    "    prev_user = -1\n",
    "    chosen_item_per_user = []\n",
    "\n",
    "    for idx_i in range(len(train)):\n",
    "        curr_index = idx_i * (num_negatives + 1)\n",
    "\n",
    "        # if idx_i != 0 and idx_i % percent_1 == 0:\n",
    "        #     print(f'{int(idx_i/percent_1)}%')\n",
    "        \n",
    "        u = train.iloc[idx_i].user_id\n",
    "        i = train.iloc[idx_i].item_id\n",
    "\n",
    "        user_input[curr_index:curr_index + (num_negatives + 1)] = [u]*(num_negatives + 1)\n",
    "        item_input[curr_index] = i\n",
    "\n",
    "        ### for section E - start\n",
    "        r = train.iloc[idx_i].rating # get rating of user to movie\n",
    "\n",
    "        ratings_random[curr_index] = r\n",
    "\n",
    "        for i in range(1, num_negatives+1):\n",
    "          # When no rating available, random rating \n",
    "          ratings_random[curr_index+i] = randrange(1,5)\n",
    "        ### for section E - end\n",
    "\n",
    "        if u != prev_user:\n",
    "            items = train[train['user_id'] == u].item_id.to_numpy().argsort()\n",
    "            items_the_user_didnt_rank = all_items[~np.in1d(all_items,items)]\n",
    "            prev_user = u\n",
    "#             chosen_item_per_user = []\n",
    "\n",
    "#         items_the_user_didnt_rank = items_the_user_didnt_rank[~np.in1d(items_the_user_didnt_rank,chosen_item_per_user)]\n",
    "        sample_items = items_the_user_didnt_rank[np.random.choice(len(items_the_user_didnt_rank), size=num_negatives, replace=False)]\n",
    "        item_input[curr_index+1:curr_index + (num_negatives + 1)] = sample_items\n",
    "#         chosen_item_per_user.extend(sample_items)\n",
    "    \n",
    "    print('DONE')\n",
    "\n",
    "    return user_input, item_input, total_labels, ratings_random"
   ]
  },
  {
   "cell_type": "code",
   "execution_count": null,
   "metadata": {
    "colab": {
     "base_uri": "https://localhost:8080/"
    },
    "id": "MmXrly9gl0CE",
    "outputId": "3d5bc888-cada-4aa3-f476-e6811cf17f38"
   },
   "outputs": [
    {
     "name": "stdout",
     "output_type": "stream",
     "text": [
      "DONE\n"
     ]
    }
   ],
   "source": [
    "# This takes a couple of minutes...\r\n",
    "training_data = get_train_instances(train, num_negatives)"
   ]
  },
  {
   "cell_type": "code",
   "execution_count": null,
   "metadata": {
    "id": "5bRkckU-n8Oy"
   },
   "outputs": [],
   "source": [
    "user_input, item_input, labels, ratings_random = training_data"
   ]
  },
  {
   "cell_type": "code",
   "execution_count": null,
   "metadata": {
    "colab": {
     "base_uri": "https://localhost:8080/"
    },
    "id": "-hhW4ffLoA8H",
    "outputId": "65b652cc-922a-4c15-8ecb-9eaa65aaeb63"
   },
   "outputs": [
    {
     "name": "stdout",
     "output_type": "stream",
     "text": [
      "6040\n",
      "3706\n"
     ]
    }
   ],
   "source": [
    "num_users = len(set(user_input))\r\n",
    "num_items = len(set(item_input))\r\n",
    "\r\n",
    "print(num_users)\r\n",
    "print(num_items)"
   ]
  },
  {
   "cell_type": "markdown",
   "metadata": {
    "id": "DyBG_Ku0GRej"
   },
   "source": [
    "***\r\n",
    "## Question 1: Matrix Factorization with custom loss"
   ]
  },
  {
   "cell_type": "markdown",
   "metadata": {
    "id": "qiL2QB3AGRek"
   },
   "source": [
    "A) Answer:\n",
    "\n",
    "Given\n",
    "$$\n",
    "L=-\\frac{1}{N} \\sum_{(i, j) \\in S}^{N} \\alpha_{j}\\left(y_{i, j} \\log \\left(\\sigma\\left(\\mu+p_{i}+o_{j}+\\boldsymbol{u}_{i}^{T} v_{j}\\right)\\right)+\\left(1-y_{i, j}\\right) \\log \\left(1-\\sigma\\left(\\mu+p_{i}+o_{j}+\\boldsymbol{u}_{i}^{T} v_{j}\\right)\\right)\\right)\n",
    "$$\n",
    "\n",
    "Note that:\n",
    "$$\n",
    "\\log (\\sigma (z)) \\\\\n",
    "= \\log (\\frac{1}{1+e^{-z}}) \\\\\n",
    "= \\log(1) - \\log(1+e^{-z}) \\\\\n",
    "= -\\log(1+e^{-z})\n",
    "$$\n",
    "* (Here, we used the fact that $\\log(\\frac{x}{y}) = \\log(x) - \\log(y)$)\n",
    "\n",
    "Similarly:\n",
    "$$\n",
    "\\log (1 - \\sigma (z)) \\\\\n",
    "= \\log (1 - \\frac{1}{1+e^{-z}}) \\\\\n",
    "= \\log (\\frac{1+e^{-z} - 1}{1+e^{-z}}) \\\\\n",
    "= \\log (\\frac{e^{-z}}{1+e^{-z}}) \\\\\n",
    "= \\log(e^{-z}) - \\log(1+e^{-z}) \\\\\n",
    "= -z - \\log(1+e^{-z}) \\\\\n",
    "= -\\big( z + \\log(1+e^{-z}) \\big)\n",
    "$$\n",
    "\n",
    "\n",
    "**Denote** $\\boldsymbol{z = \\mu+p_{i}+o_{j}+{u}_{i}^{T} v_{j}}$ <br>\n",
    "Now, using $z$ and plugging in the two simplified expressions from above, we obtain:\n",
    "$$\n",
    "L=-\\frac{1}{N} \\sum_{(i, j) \\in S}^{N} \\alpha_{j}\\left(y_{i, j} \\log \\left(\\sigma\\left(z\\right)\\right)+\\left(1-y_{i, j}\\right) \\log \\left(1-\\sigma\\left(z\\right)\\right)\\right) \\\\\n",
    "=-\\frac{1}{N} \\sum_{(i, j) \\in S}^{N} \\alpha_{j}\\left(-1 \\cdot y_{i, j} \\log(1+e^{-z}) +\\left(1-y_{i, j}\\right) \n",
    "\\left( -(z + \\log(1+e^{-z}))\\right)\\right) \\\\\n",
    "=-\\frac{1}{N} \\sum_{(i, j) \\in S}^{N} \\alpha_{j}\\left(-1 \\cdot y_{i, j} \\log(1+e^{-z}) - \\left(1-y_{i, j}\\right)(z + \\log(1+e^{-z})) \\right) \\\\\n",
    "= \\frac{1}{N} \\sum_{(i, j) \\in S}^{N} \\alpha_{j}\\left(y_{i, j} \\log(1+e^{-z}) + \\left(1-y_{i, j}\\right)(z + \\log(1+e^{-z})) \\right) \\\\\n",
    "$$\n",
    "\n",
    "After opening up the multiplications, we end up with:\n",
    "$$\n",
    "L= \\frac{1}{N} \\sum_{(i, j) \\in S}^{N} \\alpha_{j}\\left( z - y_{i, j} z + \\log(1+e^{-z}) \\right)\n",
    "$$\n",
    "\n",
    "\n",
    "- Reference: https://math.stackexchange.com/questions/477207/derivative-of-cost-function-for-logistic-regression"
   ]
  },
  {
   "cell_type": "markdown",
   "metadata": {
    "id": "M0nbbJypGRek"
   },
   "source": [
    "All we need now is to compute the partial derivatives of $L$ w.r.t the user and item latent vector weights ($u_i,  v_j$), the global bias ($\\mu$), user bias ($p_i$) and item bias ($o_j$) variables for user i and item j.<br>\n",
    "The update rules are:\n",
    "$$\n",
    "u = u - \\frac{\\partial L}{\\partial u} \\\\\n",
    "v = v - \\frac{\\partial L}{\\partial v} \\\\\n",
    "\\mu = \\mu - \\frac{\\partial L}{\\partial \\mu} \\\\\n",
    "p = p - \\frac{\\partial L}{\\partial p} \\\\\n",
    "o = o - \\frac{\\partial L}{\\partial o}\n",
    "$$\n",
    "\n",
    "Using the \"Chain Rule\" - we solve each derivative separately and then plug back in:\n",
    "\n",
    "\n",
    "- **user latent vector weights ($u_i$):**\n",
    "$$\n",
    "\\frac{\\partial [\\alpha_{j} z]}{\\partial u_i}\n",
    "= \\frac{\\partial [\\alpha_{j} (\\mu+p_{i}+o_{j}+{u}_{i}^{T} v_{j})]}{\\partial u_i} \n",
    "= \\alpha_{j} v_{j}\n",
    "$$\n",
    "\n",
    "$$\n",
    "\\frac{\\partial [-\\alpha_{j}  y_{i, j} z]}{\\partial u_i}\n",
    "= \\frac{\\partial [- \\alpha_{j} y_{i, j}(\\mu+p_{i}+o_{j}+{u}_{i}^{T} v_{j})]} {\\partial u_i} \n",
    "= -\\alpha_{j} y_{i, j} v_{j}\n",
    "$$\n",
    "\n",
    "\n",
    "$$\n",
    "\\frac{\\partial [\\alpha_{j}  \\log(1+e^{-z})]}{\\partial u_i}\n",
    "= \\frac{\\alpha_j e^{-z} \\frac{\\partial z}{\\partial u_i}} {1 + e^{-z}}\n",
    "= - \\frac{\\alpha_{j} e^{-z} v_{j}}{1 + e^{-z}}\n",
    "$$\n",
    "\n",
    "* (Last transition, log derivative, follows from [here](https://www.symbolab.com/solver/step-by-step/%5Cleft(log_%7Be%7D%5Cleft(1%2Be%5E%7B-2x%7D%5Cright)%5Cright)%5E%7B'%7D))\n",
    "\n",
    "Hence,\n",
    "$$\n",
    "\\frac{\\partial L}{\\partial u_i}\n",
    "= \\frac{1}{N} \\sum_{(i, j) \\in S}^{N} \\big( \\alpha_{j} v_{j} - \\alpha_{j} y_{i, j} v_{j} - \\frac{\\alpha_{j} e^{-z} v_{j}}{1 + e^{-z}} \\big) \n",
    "= \\frac{1}{N} \\sum_{(i, j) \\in S}^{N} \\alpha_{j} v_{j} \\big( 1 - y_{i, j} - \\frac{e^{-z}}{1 + e^{-z}} \\big) \n",
    "$$\n",
    "\n",
    "\n",
    "- **item latent vector weights ($v_j$)** is very similar, since both terms are multiplied with each other:\n",
    "$$\n",
    "\\frac{\\partial L}{\\partial v_j}\n",
    "= \\frac{1}{N} \\sum_{(i, j) \\in S}^{N} \\big( \\alpha_{j} {u}_{i}^{T} - \\alpha_{j} y_{i, j} {u}_{i}^{T} - \\frac{\\alpha_{j} e^{-z} {u}_{i}^{T}}{1 + e^{-z}} \\big) \n",
    "= \\frac{1}{N} \\sum_{(i, j) \\in S}^{N} \\alpha_{j} {u}_{i}^{T} \\big( 1 - y_{i, j} - \\frac{e^{-z}}{1 + e^{-z}} \\big) \n",
    "$$\n",
    "\n",
    "\n",
    "- **the global bias, $\\mu$:**\n",
    "$$\n",
    "\\frac{\\partial [\\alpha_{j} z]}{\\partial \\mu}\n",
    "= \\frac{\\partial [\\alpha_{j} (\\mu+p_{i}+o_{j}+{u}_{i}^{T} v_{j})]}{\\partial \\mu} \n",
    "= \\alpha_{j}\n",
    "$$\n",
    "\n",
    "$$\n",
    "\\frac{\\partial [-\\alpha_{j}  y_{i, j} z]}{\\partial \\mu}\n",
    "= \\frac{\\partial [- \\alpha_{j} y_{i, j}(\\mu+p_{i}+o_{j}+{u}_{i}^{T} v_{j})]} {\\partial \\mu} \n",
    "= -\\alpha_{j} y_{i, j}\n",
    "$$\n",
    "\n",
    "$$\n",
    "\\frac{\\partial [\\alpha_{j}  \\log(1+e^{-z})]}{\\partial \\mu}\n",
    "= \\frac{\\partial [\\alpha_{j} \\log(1 + e^{\\mu+p_{i}+o_{j}+{u}_{i}^{T} v_{j}})]} {\\partial \\mu} \n",
    "= \\frac{\\alpha_j e^{-z} \\frac{\\partial z}{\\partial u_i}} {1 + e^{-z}}\n",
    "= - \\frac{\\alpha_{j} e^{-z}}{1 + e^{-z}}\n",
    "$$\n",
    "\n",
    "Hence,\n",
    "$$\n",
    "\\frac{\\partial L}{\\partial \\mu}\n",
    "= \\frac{1}{N} \\sum_{(i, j) \\in S}^{N} \\big( \\alpha_{j} - \\alpha_{j} y_{i, j} - \\frac{\\alpha_{j} e^{-z}}{1 + e^{-z}} \\big) \n",
    "= \\frac{1}{N} \\sum_{(i, j) \\in S}^{N} \\alpha_{j} \\big( 1 - y_{i, j} - \\frac{e^{-z}}{1 + e^{-z}} \\big) \n",
    "$$\n",
    "\n",
    "\n",
    "- **user bias $p_i$** follows the same calculation as $\\mu$ since it's added as a standalone addition:\n",
    "$$\n",
    "\\frac{\\partial L}{\\partial p_i}\n",
    "= \\frac{\\partial L}{\\partial \\mu}\n",
    "= \\frac{1}{N} \\sum_{(i, j) \\in S}^{N} \\alpha_{j} \\big( 1 - y_{i, j} - \\frac{e^{-z}}{1 + e^{-z}} \\big) \n",
    "$$\n",
    "\n",
    "\n",
    "- **item bias $o_j$** follows the same calculation as $\\mu$ since it's added as a standalone addition:\n",
    "$$\n",
    "\\frac{\\partial L}{\\partial o_j}\n",
    "= \\frac{\\partial L}{\\partial \\mu}\n",
    "= \\frac{1}{N} \\sum_{(i, j) \\in S}^{N} \\alpha_{j} \\big( 1 - y_{i, j} - \\frac{e^{-z}}{1 + e^{-z}} \\big) \n",
    "$$"
   ]
  },
  {
   "cell_type": "markdown",
   "metadata": {
    "id": "zhlvoLRlGReo"
   },
   "source": [
    "***\n",
    "B) Answer:\n",
    "\n",
    "Given the prices of the different items from the catalog, we can set the weights for each training instance based on the **item price divided by the maximal price** we have.\n",
    "Meaning, we're giving each weight its relative \"significance\".\n",
    "\n",
    "This is very intuitive and straightforward - The more expensive an item is, the larger weight it's given, where weights' values range from 0 to 1."
   ]
  },
  {
   "cell_type": "markdown",
   "metadata": {
    "id": "qhUWzoOGGRer"
   },
   "source": [
    "***\n",
    "## Question 2: Neural Collaborative Filtering"
   ]
  },
  {
   "cell_type": "markdown",
   "metadata": {
    "id": "ANlLDJYoGRes"
   },
   "source": [
    "##### A)"
   ]
  },
  {
   "cell_type": "code",
   "execution_count": null,
   "metadata": {
    "colab": {
     "base_uri": "https://localhost:8080/",
     "height": 450
    },
    "id": "PaPfufMwGRes",
    "outputId": "090ed294-4623-4dff-86ca-1d850b68c7d0"
   },
   "outputs": [
    {
     "data": {
      "text/html": [
       "<div>\n",
       "<style scoped>\n",
       "    .dataframe tbody tr th:only-of-type {\n",
       "        vertical-align: middle;\n",
       "    }\n",
       "\n",
       "    .dataframe tbody tr th {\n",
       "        vertical-align: top;\n",
       "    }\n",
       "\n",
       "    .dataframe thead th {\n",
       "        text-align: right;\n",
       "    }\n",
       "</style>\n",
       "<table border=\"1\" class=\"dataframe\">\n",
       "  <thead>\n",
       "    <tr style=\"text-align: right;\">\n",
       "      <th></th>\n",
       "      <th>price</th>\n",
       "    </tr>\n",
       "    <tr>\n",
       "      <th>item</th>\n",
       "      <th></th>\n",
       "    </tr>\n",
       "  </thead>\n",
       "  <tbody>\n",
       "    <tr>\n",
       "      <th>0</th>\n",
       "      <td>4</td>\n",
       "    </tr>\n",
       "    <tr>\n",
       "      <th>1</th>\n",
       "      <td>1</td>\n",
       "    </tr>\n",
       "    <tr>\n",
       "      <th>2</th>\n",
       "      <td>1</td>\n",
       "    </tr>\n",
       "    <tr>\n",
       "      <th>3</th>\n",
       "      <td>2</td>\n",
       "    </tr>\n",
       "    <tr>\n",
       "      <th>4</th>\n",
       "      <td>2</td>\n",
       "    </tr>\n",
       "    <tr>\n",
       "      <th>...</th>\n",
       "      <td>...</td>\n",
       "    </tr>\n",
       "    <tr>\n",
       "      <th>3701</th>\n",
       "      <td>25</td>\n",
       "    </tr>\n",
       "    <tr>\n",
       "      <th>3702</th>\n",
       "      <td>4</td>\n",
       "    </tr>\n",
       "    <tr>\n",
       "      <th>3703</th>\n",
       "      <td>1</td>\n",
       "    </tr>\n",
       "    <tr>\n",
       "      <th>3704</th>\n",
       "      <td>4</td>\n",
       "    </tr>\n",
       "    <tr>\n",
       "      <th>3705</th>\n",
       "      <td>4</td>\n",
       "    </tr>\n",
       "  </tbody>\n",
       "</table>\n",
       "<p>3706 rows × 1 columns</p>\n",
       "</div>"
      ],
      "text/plain": [
       "      price\n",
       "item       \n",
       "0         4\n",
       "1         1\n",
       "2         1\n",
       "3         2\n",
       "4         2\n",
       "...     ...\n",
       "3701     25\n",
       "3702      4\n",
       "3703      1\n",
       "3704      4\n",
       "3705      4\n",
       "\n",
       "[3706 rows x 1 columns]"
      ]
     },
     "execution_count": 64,
     "metadata": {
      "tags": []
     },
     "output_type": "execute_result"
    }
   ],
   "source": [
    "item_price = pd.read_csv('./drive/My Drive/RecSys/item_price.csv')\n",
    "item_price.set_index('item')"
   ]
  },
  {
   "cell_type": "code",
   "execution_count": null,
   "metadata": {
    "id": "Vvr0bLsHGRes"
   },
   "outputs": [],
   "source": [
    "qprices = item_price['price']"
   ]
  },
  {
   "cell_type": "code",
   "execution_count": null,
   "metadata": {
    "colab": {
     "base_uri": "https://localhost:8080/",
     "height": 367
    },
    "id": "J0-OPhrtGRet",
    "outputId": "d2ccc31b-55ff-4a48-fbcc-13ce432cfce8"
   },
   "outputs": [
    {
     "data": {
      "text/plain": [
       "([<matplotlib.axis.XTick at 0x7ff90afea400>,\n",
       "  <matplotlib.axis.XTick at 0x7ff90afea1d0>,\n",
       "  <matplotlib.axis.XTick at 0x7ff90afea320>,\n",
       "  <matplotlib.axis.XTick at 0x7ff8cc7d6710>,\n",
       "  <matplotlib.axis.XTick at 0x7ff8cc7d6cc0>],\n",
       " <a list of 5 Text major ticklabel objects>)"
      ]
     },
     "execution_count": 66,
     "metadata": {
      "tags": []
     },
     "output_type": "execute_result"
    },
    {
     "data": {
      "image/png": "[encoded data removed]",
      "text/plain": [
       "<Figure size 432x288 with 1 Axes>"
      ]
     },
     "metadata": {
      "needs_background": "light",
      "tags": []
     },
     "output_type": "display_data"
    }
   ],
   "source": [
    "plt.hist(item_price.price, align='mid', bins=50)\n",
    "plt.xticks(item_price.price.unique())"
   ]
  },
  {
   "cell_type": "code",
   "execution_count": null,
   "metadata": {
    "colab": {
     "base_uri": "https://localhost:8080/"
    },
    "id": "6DoZuP8vGRet",
    "outputId": "4023cf36-c031-46af-9f45-cc05888b032e"
   },
   "outputs": [
    {
     "data": {
      "text/plain": [
       "price\n",
       "1     1326\n",
       "2      896\n",
       "4      709\n",
       "9      589\n",
       "25     186\n",
       "Name: item, dtype: int64"
      ]
     },
     "execution_count": 67,
     "metadata": {
      "tags": []
     },
     "output_type": "execute_result"
    }
   ],
   "source": [
    "item_price.groupby('price')['item'].nunique()"
   ]
  },
  {
   "cell_type": "code",
   "execution_count": null,
   "metadata": {
    "colab": {
     "base_uri": "https://localhost:8080/",
     "height": 297
    },
    "id": "MnMhPj5-GRet",
    "outputId": "4c6d483f-2fa0-48b6-d7a3-969bda05ca8c"
   },
   "outputs": [
    {
     "data": {
      "text/html": [
       "<div>\n",
       "<style scoped>\n",
       "    .dataframe tbody tr th:only-of-type {\n",
       "        vertical-align: middle;\n",
       "    }\n",
       "\n",
       "    .dataframe tbody tr th {\n",
       "        vertical-align: top;\n",
       "    }\n",
       "\n",
       "    .dataframe thead th {\n",
       "        text-align: right;\n",
       "    }\n",
       "</style>\n",
       "<table border=\"1\" class=\"dataframe\">\n",
       "  <thead>\n",
       "    <tr style=\"text-align: right;\">\n",
       "      <th></th>\n",
       "      <th>item</th>\n",
       "      <th>price</th>\n",
       "    </tr>\n",
       "  </thead>\n",
       "  <tbody>\n",
       "    <tr>\n",
       "      <th>count</th>\n",
       "      <td>3706.000000</td>\n",
       "      <td>3706.000000</td>\n",
       "    </tr>\n",
       "    <tr>\n",
       "      <th>mean</th>\n",
       "      <td>1852.500000</td>\n",
       "      <td>4.291689</td>\n",
       "    </tr>\n",
       "    <tr>\n",
       "      <th>std</th>\n",
       "      <td>1069.974377</td>\n",
       "      <td>5.496992</td>\n",
       "    </tr>\n",
       "    <tr>\n",
       "      <th>min</th>\n",
       "      <td>0.000000</td>\n",
       "      <td>1.000000</td>\n",
       "    </tr>\n",
       "    <tr>\n",
       "      <th>25%</th>\n",
       "      <td>926.250000</td>\n",
       "      <td>1.000000</td>\n",
       "    </tr>\n",
       "    <tr>\n",
       "      <th>50%</th>\n",
       "      <td>1852.500000</td>\n",
       "      <td>2.000000</td>\n",
       "    </tr>\n",
       "    <tr>\n",
       "      <th>75%</th>\n",
       "      <td>2778.750000</td>\n",
       "      <td>4.000000</td>\n",
       "    </tr>\n",
       "    <tr>\n",
       "      <th>max</th>\n",
       "      <td>3705.000000</td>\n",
       "      <td>25.000000</td>\n",
       "    </tr>\n",
       "  </tbody>\n",
       "</table>\n",
       "</div>"
      ],
      "text/plain": [
       "              item        price\n",
       "count  3706.000000  3706.000000\n",
       "mean   1852.500000     4.291689\n",
       "std    1069.974377     5.496992\n",
       "min       0.000000     1.000000\n",
       "25%     926.250000     1.000000\n",
       "50%    1852.500000     2.000000\n",
       "75%    2778.750000     4.000000\n",
       "max    3705.000000    25.000000"
      ]
     },
     "execution_count": 68,
     "metadata": {
      "tags": []
     },
     "output_type": "execute_result"
    }
   ],
   "source": [
    "item_price.describe()"
   ]
  },
  {
   "cell_type": "markdown",
   "metadata": {
    "id": "-6M8SzMRGReu"
   },
   "source": [
    "There are 3706 items with prices distributed from [1, 2, 4, 9, 25].<br>\n",
    "From the histogram and the data we see that most of the items are priced 2 and lower - ((1: 1326), (2: 896), (4: 709), (9: 589), (25: 186))<br>\n",
    "It doesn't look like we can deduce a behaviour of a specific distribution (like normal/uniform etc.), especially since we don't have enough data other than ID numbers and prices...<br>"
   ]
  },
  {
   "cell_type": "markdown",
   "metadata": {
    "id": "iOAnOjzfGReu"
   },
   "source": [
    "***\n",
    "##### B)"
   ]
  },
  {
   "cell_type": "code",
   "execution_count": null,
   "metadata": {
    "id": "s6XlXsyDGReu"
   },
   "outputs": [],
   "source": [
    "def get_revenue_k(rank_list, gt_item):\n",
    "    for item in rank_list:\n",
    "        if item == gt_item:\n",
    "            return list(item_price[item_price.item == item].price)[0]\n",
    "    return 0"
   ]
  },
  {
   "cell_type": "markdown",
   "metadata": {
    "id": "4E6qgdbBGReu"
   },
   "source": [
    "***\n",
    "##### C)"
   ]
  },
  {
   "cell_type": "markdown",
   "metadata": {
    "id": "heLIVXw8GReu"
   },
   "source": [
    "We can incorporate the ranking together with the item price:<br>\r\n",
    "The custom metric is a simple multiplication of Revenue@K from section B above with the NDCG metric we used in the previous assignment and also here during the evaluation in section E.<br>\r\n",
    "This is suitable because the higher the hit rank, the larger the NDCG value.<br>\r\n",
    "Therefore, the result will also be larger after the multiplication (becasue all prices are larger from/equal to 1).<br>\r\n",
    "This should work also with MRR for the same reasons."
   ]
  },
  {
   "cell_type": "code",
   "execution_count": null,
   "metadata": {
    "id": "6iehNtZQDv2z"
   },
   "outputs": [],
   "source": [
    "def get_custom_metric(ranklist, gtItem):\r\n",
    "    for i in range(len(ranklist)):\r\n",
    "        item = ranklist[i]\r\n",
    "        if item == gtItem:\r\n",
    "            return (list(item_price[item_price.item == item].price)[0]) * (math.log(2) / math.log(i+2))\r\n",
    "    return 0"
   ]
  },
  {
   "cell_type": "markdown",
   "metadata": {
    "id": "ZqicwZonGRev"
   },
   "source": [
    "***\n",
    "##### D)"
   ]
  },
  {
   "cell_type": "code",
   "execution_count": null,
   "metadata": {
    "id": "jTa1enq7GRev"
   },
   "outputs": [],
   "source": [
    "def get_GMF_model(num_users, num_items, latent_dim, regs=None, activation='sigmoid'):\n",
    "    '''Generalized Matrix Factorization'''\n",
    "\n",
    "    if not regs:\n",
    "        regs = [[0,0]]\n",
    "    \n",
    "    # Input variables\n",
    "    user_input = Input(shape=(1,), dtype='int32', name = 'user_input')\n",
    "    item_input = Input(shape=(1,), dtype='int32', name = 'item_input')\n",
    "\n",
    "    MF_Embedding_User = Embedding(input_dim = num_users, output_dim = latent_dim, name = 'user_embedding',\n",
    "                                   embeddings_regularizer = l2(regs[0][0]), input_length=1,embeddings_initializer=RandomNormal(mean=0.0, stddev=0.01)) #init = init_normal,\n",
    "    MF_Embedding_Item = Embedding(input_dim = num_items, output_dim = latent_dim, name = 'item_embedding',\n",
    "                                   embeddings_regularizer = l2(regs[0][1]), input_length=1,embeddings_initializer=RandomNormal(mean=0.0, stddev=0.01))  #init = init_normal, \n",
    "    \n",
    "    # Crucial to flatten an embedding vector!\n",
    "    user_latent = Flatten()(MF_Embedding_User(user_input))\n",
    "    item_latent = Flatten()(MF_Embedding_Item(item_input))\n",
    "    \n",
    "    # Element-wise product of user and item embeddings \n",
    "    predict_vector = Multiply()([user_latent, item_latent]) #merge([user_latent, item_latent], mode = 'mul')\n",
    "    \n",
    "    # Final prediction layer\n",
    "    prediction = Dense(1, activation=activation, kernel_initializer='lecun_uniform', name = 'prediction')(predict_vector)\n",
    "    model = Model(inputs=[user_input, item_input], outputs=prediction)\n",
    "    \n",
    "    return model\n",
    "\n",
    "\n",
    "def build_model():\n",
    "    gmf_model = get_GMF_model(num_users, num_items, num_factors, regs = [[0,0]])\n",
    "    gmf_model.compile(optimizer=Adam(lr=learning_rate), loss='binary_crossentropy')\n",
    "    return gmf_model"
   ]
  },
  {
   "cell_type": "markdown",
   "metadata": {
    "id": "P-4vQ07GKs_M"
   },
   "source": [
    "**Since our loss function here is a Weighted Binary Cross Entropy, I passed the normal loss='binary_crossentropy' above in the \"compile\" function and incorporated the movie price vector to the loss function as part of the training in the model.fit as an extra attribute called \"sample_weight\".**"
   ]
  },
  {
   "cell_type": "markdown",
   "metadata": {
    "id": "EBgneicCGRew"
   },
   "source": [
    "***\n",
    "##### E) \n",
    "Compare the results of the original model and the one with the customized loss across the four metrics: MRR@5, NDCG@5, Revenue@5, your custom metric"
   ]
  },
  {
   "cell_type": "code",
   "execution_count": null,
   "metadata": {
    "id": "oBPq7edBBjTK"
   },
   "outputs": [],
   "source": [
    "def evaluate_model(model, test_ratings, test_negatives, K):\n",
    "    \"\"\"\n",
    "    Evaluate the performance (MRR, NDCG, REV@K, my_custom_metric) of top-K recommendation\n",
    "    Return: score of each test rating.\n",
    "    \"\"\"\n",
    "    mrrs, ndcgs, revenue_K, my_custom_metric = zip(*[eval_one_rating(model, test_ratings, test_negatives, idx, K) for idx in range(len(test_ratings))])\n",
    "    return np.array(mrrs).mean(), np.array(ndcgs).mean(), np.array(revenue_K).mean(), np.array(my_custom_metric).mean()\n",
    "\n",
    "\n",
    "def eval_one_rating(model, test_ratings, test_negatives, idx, K):\n",
    "    u = test_ratings.iloc[idx].user_id\n",
    "    gtItem = test_ratings.iloc[idx].item_id\n",
    "    items = test_negatives[test_negatives['(user_id, item_id)'] == f'({u},{gtItem})'].to_numpy()[0]\n",
    "    items = items[1:len(items)].astype('int32')\n",
    "    items = np.append(items, gtItem)\n",
    "    users = np.full(len(items), u, dtype = 'int32')\n",
    "    # Get prediction scores\n",
    "    map_item_score = {}\n",
    "\n",
    "    predictions = model.predict([users, np.array(items)], \n",
    "                                 batch_size=100, verbose=0)\n",
    "    \n",
    "    for i in range(len(items)):\n",
    "        item = items[i]\n",
    "        map_item_score[item] = predictions[i]\n",
    "    \n",
    "    items = items[:len(items)-1]\n",
    "    \n",
    "    # Evaluate top rank list\n",
    "    ranklist = heapq.nlargest(K, map_item_score, key=map_item_score.get)\n",
    "    mrr = getMRR(ranklist, gtItem)\n",
    "    ndcg = getNDCG(ranklist, gtItem)\n",
    "    rev_K = get_revenue_k(ranklist, gtItem)\n",
    "    my_custom_metric = get_custom_metric(ranklist, gtItem)\n",
    "\n",
    "    return mrr, ndcg, rev_K, my_custom_metric\n",
    "\n",
    "\n",
    "def getMRR(ranklist, gtItem):\n",
    "    for i in range(len(ranklist)):\n",
    "        item = ranklist[i]\n",
    "        if item == gtItem:\n",
    "            return 1/(i+1)\n",
    "    return 0\n",
    "\n",
    "\n",
    "def getNDCG(ranklist, gtItem):\n",
    "    for i in range(len(ranklist)):\n",
    "        item = ranklist[i]\n",
    "        if item == gtItem:\n",
    "            return math.log(2) / math.log(i+2)\n",
    "    return 0"
   ]
  },
  {
   "cell_type": "code",
   "execution_count": null,
   "metadata": {
    "id": "UzCWO-55GRex"
   },
   "outputs": [],
   "source": [
    "def initPerformance(name, model):\n",
    "    t1 = time()\n",
    "    mrr, ndcg, rev_K, my_custom_metric = evaluate_model(model, test_rating, test_negative, K)\n",
    "    return mrr, ndcg, rev_K, my_custom_metric"
   ]
  },
  {
   "cell_type": "code",
   "execution_count": null,
   "metadata": {
    "id": "sNh6jMEPSbfe"
   },
   "outputs": [],
   "source": [
    "item_input_np = np.array(item_input)\r\n",
    "prices_np = qprices.to_numpy()\r\n",
    "prices_np = qprices[item_input_np]"
   ]
  },
  {
   "cell_type": "code",
   "execution_count": null,
   "metadata": {
    "id": "nXZBKLFnGRex"
   },
   "outputs": [],
   "source": [
    "gmf_model = build_model()\n",
    "mrr_GMF, ndcg_GMF, revenue_K_GMF, custom_metric_GMF = initPerformance('GMF', gmf_model)"
   ]
  },
  {
   "cell_type": "code",
   "execution_count": null,
   "metadata": {
    "colab": {
     "base_uri": "https://localhost:8080/",
     "height": 419
    },
    "id": "YqykpQszTbre",
    "outputId": "5e205c9f-fd1b-4986-92d4-f2963c72a6a5"
   },
   "outputs": [
    {
     "data": {
      "text/html": [
       "<div>\n",
       "<style scoped>\n",
       "    .dataframe tbody tr th:only-of-type {\n",
       "        vertical-align: middle;\n",
       "    }\n",
       "\n",
       "    .dataframe tbody tr th {\n",
       "        vertical-align: top;\n",
       "    }\n",
       "\n",
       "    .dataframe thead th {\n",
       "        text-align: right;\n",
       "    }\n",
       "</style>\n",
       "<table border=\"1\" class=\"dataframe\">\n",
       "  <thead>\n",
       "    <tr style=\"text-align: right;\">\n",
       "      <th></th>\n",
       "      <th>user_id</th>\n",
       "      <th>item_id</th>\n",
       "      <th>rating</th>\n",
       "      <th>timestamp</th>\n",
       "    </tr>\n",
       "  </thead>\n",
       "  <tbody>\n",
       "    <tr>\n",
       "      <th>0</th>\n",
       "      <td>0</td>\n",
       "      <td>25</td>\n",
       "      <td>5</td>\n",
       "      <td>978824351</td>\n",
       "    </tr>\n",
       "    <tr>\n",
       "      <th>1</th>\n",
       "      <td>1</td>\n",
       "      <td>133</td>\n",
       "      <td>3</td>\n",
       "      <td>978300174</td>\n",
       "    </tr>\n",
       "    <tr>\n",
       "      <th>2</th>\n",
       "      <td>2</td>\n",
       "      <td>207</td>\n",
       "      <td>4</td>\n",
       "      <td>978298504</td>\n",
       "    </tr>\n",
       "    <tr>\n",
       "      <th>3</th>\n",
       "      <td>3</td>\n",
       "      <td>208</td>\n",
       "      <td>4</td>\n",
       "      <td>978294282</td>\n",
       "    </tr>\n",
       "    <tr>\n",
       "      <th>4</th>\n",
       "      <td>4</td>\n",
       "      <td>222</td>\n",
       "      <td>2</td>\n",
       "      <td>978246585</td>\n",
       "    </tr>\n",
       "    <tr>\n",
       "      <th>...</th>\n",
       "      <td>...</td>\n",
       "      <td>...</td>\n",
       "      <td>...</td>\n",
       "      <td>...</td>\n",
       "    </tr>\n",
       "    <tr>\n",
       "      <th>6035</th>\n",
       "      <td>6035</td>\n",
       "      <td>1048</td>\n",
       "      <td>1</td>\n",
       "      <td>956755196</td>\n",
       "    </tr>\n",
       "    <tr>\n",
       "      <th>6036</th>\n",
       "      <td>6036</td>\n",
       "      <td>294</td>\n",
       "      <td>4</td>\n",
       "      <td>956801840</td>\n",
       "    </tr>\n",
       "    <tr>\n",
       "      <th>6037</th>\n",
       "      <td>6037</td>\n",
       "      <td>1528</td>\n",
       "      <td>5</td>\n",
       "      <td>956717204</td>\n",
       "    </tr>\n",
       "    <tr>\n",
       "      <th>6038</th>\n",
       "      <td>6038</td>\n",
       "      <td>1449</td>\n",
       "      <td>5</td>\n",
       "      <td>956758029</td>\n",
       "    </tr>\n",
       "    <tr>\n",
       "      <th>6039</th>\n",
       "      <td>6039</td>\n",
       "      <td>434</td>\n",
       "      <td>4</td>\n",
       "      <td>998315055</td>\n",
       "    </tr>\n",
       "  </tbody>\n",
       "</table>\n",
       "<p>6040 rows × 4 columns</p>\n",
       "</div>"
      ],
      "text/plain": [
       "      user_id  item_id  rating  timestamp\n",
       "0           0       25       5  978824351\n",
       "1           1      133       3  978300174\n",
       "2           2      207       4  978298504\n",
       "3           3      208       4  978294282\n",
       "4           4      222       2  978246585\n",
       "...       ...      ...     ...        ...\n",
       "6035     6035     1048       1  956755196\n",
       "6036     6036      294       4  956801840\n",
       "6037     6037     1528       5  956717204\n",
       "6038     6038     1449       5  956758029\n",
       "6039     6039      434       4  998315055\n",
       "\n",
       "[6040 rows x 4 columns]"
      ]
     },
     "execution_count": 113,
     "metadata": {
      "tags": []
     },
     "output_type": "execute_result"
    }
   ],
   "source": [
    "test_rating"
   ]
  },
  {
   "cell_type": "code",
   "execution_count": null,
   "metadata": {
    "id": "2oaCzlf6GRey"
   },
   "outputs": [],
   "source": [
    "# Train model\n",
    "def train_eval_model(sample_weight=None):\n",
    "    model_name, model, mrr, ndcg, revenue_K, custom_metric = 'GMF', gmf_model, mrr_GMF, ndcg_GMF, revenue_K_GMF, custom_metric_GMF\n",
    "\n",
    "    user_input_np = np.array(user_input)\n",
    "    item_input_np = np.array(item_input)\n",
    "    labels_np = np.array(labels)\n",
    "\n",
    "    best_mrr, best_ndcg, revenue_K, custom_metric, best_iter = mrr, ndcg, revenue_K, custom_metric, -1\n",
    "    print(f\"Running on Model: {model_name}, using K: {K}\")\n",
    "\n",
    "    epoch_result = []\n",
    "    for epoch in range(epochs):\n",
    "        # Generate training instances\n",
    "        # Training\n",
    "        print(\"Training\")\n",
    "        hist = model.fit([user_input_np, item_input_np], #input\n",
    "                        labels_np, # labels\n",
    "                        sample_weight=sample_weight, # THIS IS WHAT I REFERRED TO IN SECTION D\n",
    "                        batch_size=batch_size, epochs=1, verbose=0, shuffle=True)\n",
    "        print(\"Finished training\")            \n",
    "\n",
    "        # Evaluation\n",
    "        print(\"Evaluating\")      \n",
    "        if epoch % verbose == 0:    \n",
    "            mrr, ndcg, revenue_K, custom_metric = evaluate_model(model, test_rating, test_negative, K)\n",
    "            loss = hist.history['loss'][0]  \n",
    "            print(f'Iteration {epoch} [k: {K}, Rev@K = {revenue_K:.4f}, custom_metric = {custom_metric:.4f}, MRR = {mrr:.4f}, NDCG = {ndcg:.4f}, loss = {loss:.4f}')\n",
    "\n",
    "            if mrr > best_mrr:\n",
    "                best_mrr, best_ndcg, best_revenue_K, best_custom_metric, best_iter = mrr, ndcg, revenue_K, custom_metric, epoch\n",
    "        epoch_result.append((epoch, mrr, ndcg, revenue_K, custom_metric, loss))\n",
    "        print(f\"---------End Epoch: {epoch}---------\")\n",
    "\n",
    "    print(f'End. Best Iteration = {best_iter}: Rev@K = {best_revenue_K:.4f}, custom_metric = {best_custom_metric:.4f}, MRR = {best_mrr:.4f}, NDCG = {best_ndcg:.4f}')\n",
    "    return epoch_result"
   ]
  },
  {
   "cell_type": "markdown",
   "metadata": {
    "id": "OqZbcUV1L-oM"
   },
   "source": [
    "**This is the original model (as shown in HW3) - no weights (prices) are included, a simple Binary Cross Entropy loss function:**"
   ]
  },
  {
   "cell_type": "code",
   "execution_count": null,
   "metadata": {
    "colab": {
     "base_uri": "https://localhost:8080/"
    },
    "id": "t2IRYQdzoPlr",
    "outputId": "adcbd055-e1d1-4ce2-bde2-0c3cd6c16a65"
   },
   "outputs": [
    {
     "name": "stdout",
     "output_type": "stream",
     "text": [
      "Running on Model: GMF, using K: 5\n",
      "Training\n",
      "Finished training\n",
      "Evaluating\n",
      "Iteration 0 [k: 5, Rev@K = 1.1808, custom_metric = 0.6917, MRR = 0.1225, NDCG = 0.1543, loss = 0.3510\n",
      "---------End Epoch: 0---------\n",
      "Training\n",
      "Finished training\n",
      "Evaluating\n",
      "Iteration 1 [k: 5, Rev@K = 1.4348, custom_metric = 0.8345, MRR = 0.1410, NDCG = 0.1800, loss = 0.3149\n",
      "---------End Epoch: 1---------\n",
      "Training\n",
      "Finished training\n",
      "Evaluating\n",
      "Iteration 2 [k: 5, Rev@K = 1.5230, custom_metric = 0.9039, MRR = 0.1493, NDCG = 0.1901, loss = 0.2959\n",
      "---------End Epoch: 2---------\n",
      "Training\n",
      "Finished training\n",
      "Evaluating\n",
      "Iteration 3 [k: 5, Rev@K = 1.6406, custom_metric = 0.9654, MRR = 0.1599, NDCG = 0.2040, loss = 0.2836\n",
      "---------End Epoch: 3---------\n",
      "Training\n",
      "Finished training\n",
      "Evaluating\n",
      "Iteration 4 [k: 5, Rev@K = 1.6609, custom_metric = 0.9668, MRR = 0.1649, NDCG = 0.2102, loss = 0.2776\n",
      "---------End Epoch: 4---------\n",
      "Training\n",
      "Finished training\n",
      "Evaluating\n",
      "Iteration 5 [k: 5, Rev@K = 1.7209, custom_metric = 1.0012, MRR = 0.1669, NDCG = 0.2139, loss = 0.2742\n",
      "---------End Epoch: 5---------\n",
      "Training\n",
      "Finished training\n",
      "Evaluating\n",
      "Iteration 6 [k: 5, Rev@K = 1.7215, custom_metric = 1.0096, MRR = 0.1697, NDCG = 0.2163, loss = 0.2719\n",
      "---------End Epoch: 6---------\n",
      "Training\n",
      "Finished training\n",
      "Evaluating\n",
      "Iteration 7 [k: 5, Rev@K = 1.7197, custom_metric = 1.0030, MRR = 0.1703, NDCG = 0.2172, loss = 0.2704\n",
      "---------End Epoch: 7---------\n",
      "Training\n",
      "Finished training\n",
      "Evaluating\n",
      "Iteration 8 [k: 5, Rev@K = 1.7154, custom_metric = 1.0037, MRR = 0.1710, NDCG = 0.2185, loss = 0.2693\n",
      "---------End Epoch: 8---------\n",
      "Training\n",
      "Finished training\n",
      "Evaluating\n",
      "Iteration 9 [k: 5, Rev@K = 1.7677, custom_metric = 1.0354, MRR = 0.1734, NDCG = 0.2216, loss = 0.2684\n",
      "---------End Epoch: 9---------\n",
      "End. Best Iteration = 9: Rev@K = 1.7677, custom_metric = 1.0354, MRR = 0.1734, NDCG = 0.2216\n"
     ]
    }
   ],
   "source": [
    "epoch_result_gmf_1 = train_eval_model()\r\n",
    "\r\n",
    "with open('./drive/My Drive/RecSys/epoch_result_gmf_1.pkl', 'wb') as f:\r\n",
    "  pickle.dump(epoch_result_gmf_1, f)"
   ]
  },
  {
   "cell_type": "code",
   "execution_count": null,
   "metadata": {
    "colab": {
     "base_uri": "https://localhost:8080/"
    },
    "id": "MnbxsT5Kkdbt",
    "outputId": "d1cb7d9b-4e1d-4c8e-883c-3c0e997a0058"
   },
   "outputs": [
    {
     "name": "stdout",
     "output_type": "stream",
     "text": [
      "(0, 0.12253035320088301, 0.15427461920680063, 1.180794701986755, 0.6917461816641723, 0.3509752154350281)\n",
      "(1, 0.14104580573951433, 0.18003397062043427, 1.4347682119205298, 0.8344554873679654, 0.3149268627166748)\n",
      "(2, 0.14926324503311258, 0.19014109033119964, 1.5230132450331126, 0.903851749563237, 0.29589301347732544)\n",
      "(3, 0.1598647902869757, 0.2040466435932046, 1.6405629139072848, 0.9654275879659132, 0.2836102545261383)\n",
      "(4, 0.16491721854304636, 0.2102017333175476, 1.6609271523178808, 0.9668400052478318, 0.27755141258239746)\n",
      "(5, 0.16687913907284768, 0.21393741071596292, 1.7208609271523179, 1.001206502207919, 0.2741599380970001)\n",
      "(6, 0.16968267108167773, 0.21625882105785907, 1.721523178807947, 1.0096199358707751, 0.2719229459762573)\n",
      "(7, 0.1702621412803532, 0.21721098046157425, 1.719701986754967, 1.0030482701899075, 0.2703869640827179)\n",
      "(8, 0.1709933774834437, 0.21848699722334922, 1.7153973509933775, 1.003683196572968, 0.269275963306427)\n",
      "(9, 0.17342439293598233, 0.22158353188568408, 1.7677152317880795, 1.0353881620556178, 0.26843854784965515)\n"
     ]
    }
   ],
   "source": [
    "# print results\r\n",
    "file_1 = open('./drive/My Drive/RecSys/epoch_result_gmf_1.pkl', 'rb')\r\n",
    "results_1 = pickle.load(file_1)\r\n",
    "for item in results_1:\r\n",
    "    print(item)"
   ]
  },
  {
   "cell_type": "markdown",
   "metadata": {
    "id": "Vs7aBfjMMmFM"
   },
   "source": [
    "**This is the model with the customized loss - weights (prices) are included, a Weighted Binary Cross Entropy loss function:**"
   ]
  },
  {
   "cell_type": "code",
   "execution_count": null,
   "metadata": {
    "colab": {
     "base_uri": "https://localhost:8080/"
    },
    "id": "lYkbz8DwGRey",
    "outputId": "e713053c-456f-4a7a-8ae7-dc8d9bf584ea"
   },
   "outputs": [
    {
     "name": "stdout",
     "output_type": "stream",
     "text": [
      "Running on Model: GMF, using K: 5\n",
      "Training\n",
      "Finished training\n",
      "Evaluating\n",
      "Iteration 0 [k: 5, Rev@K = 1.7209, custom_metric = 1.0087, MRR = 0.1710, NDCG = 0.2180, loss = 1.1777\n",
      "---------End Epoch: 0---------\n",
      "Training\n",
      "Finished training\n",
      "Evaluating\n",
      "Iteration 1 [k: 5, Rev@K = 1.7634, custom_metric = 1.0343, MRR = 0.1738, NDCG = 0.2220, loss = 1.1675\n",
      "---------End Epoch: 1---------\n",
      "Training\n",
      "Finished training\n",
      "Evaluating\n",
      "Iteration 2 [k: 5, Rev@K = 1.8063, custom_metric = 1.0597, MRR = 0.1731, NDCG = 0.2215, loss = 1.1630\n",
      "---------End Epoch: 2---------\n",
      "Training\n",
      "Finished training\n",
      "Evaluating\n",
      "Iteration 3 [k: 5, Rev@K = 1.7553, custom_metric = 1.0351, MRR = 0.1738, NDCG = 0.2214, loss = 1.1598\n",
      "---------End Epoch: 3---------\n",
      "Training\n",
      "Finished training\n",
      "Evaluating\n",
      "Iteration 4 [k: 5, Rev@K = 1.7382, custom_metric = 1.0326, MRR = 0.1723, NDCG = 0.2201, loss = 1.1574\n",
      "---------End Epoch: 4---------\n",
      "Training\n",
      "Finished training\n",
      "Evaluating\n",
      "Iteration 5 [k: 5, Rev@K = 1.7083, custom_metric = 1.0119, MRR = 0.1705, NDCG = 0.2178, loss = 1.1552\n",
      "---------End Epoch: 5---------\n",
      "Training\n",
      "Finished training\n",
      "Evaluating\n",
      "Iteration 6 [k: 5, Rev@K = 1.7667, custom_metric = 1.0500, MRR = 0.1708, NDCG = 0.2184, loss = 1.1536\n",
      "---------End Epoch: 6---------\n",
      "Training\n",
      "Finished training\n",
      "Evaluating\n",
      "Iteration 7 [k: 5, Rev@K = 1.7457, custom_metric = 1.0309, MRR = 0.1728, NDCG = 0.2213, loss = 1.1521\n",
      "---------End Epoch: 7---------\n",
      "Training\n",
      "Finished training\n",
      "Evaluating\n",
      "Iteration 8 [k: 5, Rev@K = 1.7588, custom_metric = 1.0458, MRR = 0.1741, NDCG = 0.2220, loss = 1.1508\n",
      "---------End Epoch: 8---------\n",
      "Training\n",
      "Finished training\n",
      "Evaluating\n",
      "Iteration 9 [k: 5, Rev@K = 1.7541, custom_metric = 1.0327, MRR = 0.1722, NDCG = 0.2204, loss = 1.1497\n",
      "---------End Epoch: 9---------\n",
      "End. Best Iteration = 8: Rev@K = 1.7588, custom_metric = 1.0458, MRR = 0.1741, NDCG = 0.2220\n"
     ]
    }
   ],
   "source": [
    "# prices_np is simply a vector of the prices of each items\r\n",
    "epoch_result_gmf_2 = train_eval_model(sample_weight=prices_np)\r\n",
    "\r\n",
    "with open('./drive/My Drive/RecSys/epoch_result_gmf_2.pkl', 'wb') as f:\r\n",
    "  pickle.dump(epoch_result_gmf_2, f)"
   ]
  },
  {
   "cell_type": "code",
   "execution_count": null,
   "metadata": {
    "colab": {
     "base_uri": "https://localhost:8080/"
    },
    "id": "3x0_VzTpknl-",
    "outputId": "6a4d3510-ba7c-4bfc-b590-62ef1451e4e1"
   },
   "outputs": [
    {
     "name": "stdout",
     "output_type": "stream",
     "text": [
      "(0, 0.17102373068432672, 0.21798879226103482, 1.7208609271523179, 1.0086794341885048, 1.1776763200759888)\n",
      "(1, 0.1737555187637969, 0.22203696038175985, 1.76341059602649, 1.0343421930196626, 1.1674628257751465)\n",
      "(2, 0.17308774834437088, 0.22147752090963846, 1.8062913907284768, 1.0597007857354923, 1.163025140762329)\n",
      "(3, 0.1738051876379691, 0.22142064768852562, 1.755298013245033, 1.0350746529788506, 1.159832239151001)\n",
      "(4, 0.1722682119205298, 0.220096443516555, 1.7382450331125827, 1.0325939981123322, 1.1574254035949707)\n",
      "(5, 0.1704635761589404, 0.2177547712229446, 1.7082781456953642, 1.0118746859243124, 1.1552218198776245)\n",
      "(6, 0.1707864238410596, 0.2183640108378393, 1.7667218543046357, 1.049967099009223, 1.1536403894424438)\n",
      "(7, 0.1728283664459161, 0.2212635961653858, 1.7456953642384105, 1.030852081083722, 1.1521415710449219)\n",
      "(8, 0.17411699779249445, 0.22204078405221636, 1.7587748344370862, 1.0458438963828323, 1.1508269309997559)\n",
      "(9, 0.17216059602649006, 0.22036215798065636, 1.7541390728476822, 1.0327107420812378, 1.1497080326080322)\n"
     ]
    }
   ],
   "source": [
    "# print results\r\n",
    "file_2 = open('./drive/My Drive/RecSys/epoch_result_gmf_2.pkl', 'rb')\r\n",
    "results_2 = pickle.load(file_2)\r\n",
    "for item in results_2:\r\n",
    "    print(item)"
   ]
  },
  {
   "cell_type": "markdown",
   "metadata": {
    "id": "zJF5qfaXGRey"
   },
   "source": [
    "<br>\n",
    "- Compare between different heuristics of item price to weights mapping. "
   ]
  },
  {
   "cell_type": "markdown",
   "metadata": {
    "id": "WFRkvvylb8pY"
   },
   "source": [
    "Choose a random rating for negative items"
   ]
  },
  {
   "cell_type": "code",
   "execution_count": null,
   "metadata": {
    "colab": {
     "base_uri": "https://localhost:8080/"
    },
    "id": "Zr__r07W0g6k",
    "outputId": "a3f99930-c061-4e30-b8c0-a5e3a0cf0984"
   },
   "outputs": [
    {
     "name": "stdout",
     "output_type": "stream",
     "text": [
      "Running on Model: GMF, using K: 5\n",
      "Training\n",
      "Finished training\n",
      "Evaluating\n",
      "Iteration 0 [k: 5, Rev@K = 1.7422, custom_metric = 1.0434, MRR = 0.1709, NDCG = 0.2176, loss = 3.3381\n",
      "---------End Epoch: 0---------\n",
      "Training\n",
      "Finished training\n",
      "Evaluating\n",
      "Iteration 1 [k: 5, Rev@K = 1.7036, custom_metric = 1.0055, MRR = 0.1696, NDCG = 0.2170, loss = 3.3203\n",
      "---------End Epoch: 1---------\n",
      "Training\n",
      "Finished training\n",
      "Evaluating\n",
      "Iteration 2 [k: 5, Rev@K = 1.7272, custom_metric = 1.0230, MRR = 0.1715, NDCG = 0.2190, loss = 3.3140\n",
      "---------End Epoch: 2---------\n",
      "Training\n",
      "Finished training\n",
      "Evaluating\n",
      "Iteration 3 [k: 5, Rev@K = 1.7066, custom_metric = 1.0138, MRR = 0.1708, NDCG = 0.2176, loss = 3.3092\n",
      "---------End Epoch: 3---------\n",
      "Training\n",
      "Finished training\n",
      "Evaluating\n",
      "Iteration 4 [k: 5, Rev@K = 1.7358, custom_metric = 1.0294, MRR = 0.1709, NDCG = 0.2190, loss = 3.3062\n",
      "---------End Epoch: 4---------\n",
      "Training\n",
      "Finished training\n",
      "Evaluating\n",
      "Iteration 5 [k: 5, Rev@K = 1.7368, custom_metric = 1.0390, MRR = 0.1721, NDCG = 0.2195, loss = 3.3028\n",
      "---------End Epoch: 5---------\n",
      "Training\n",
      "Finished training\n",
      "Evaluating\n",
      "Iteration 6 [k: 5, Rev@K = 1.7364, custom_metric = 1.0372, MRR = 0.1705, NDCG = 0.2176, loss = 3.3004\n",
      "---------End Epoch: 6---------\n",
      "Training\n",
      "Finished training\n",
      "Evaluating\n",
      "Iteration 7 [k: 5, Rev@K = 1.7334, custom_metric = 1.0384, MRR = 0.1728, NDCG = 0.2204, loss = 3.2982\n",
      "---------End Epoch: 7---------\n",
      "Training\n",
      "Finished training\n",
      "Evaluating\n",
      "Iteration 8 [k: 5, Rev@K = 1.7326, custom_metric = 1.0345, MRR = 0.1711, NDCG = 0.2185, loss = 3.2961\n",
      "---------End Epoch: 8---------\n",
      "Training\n",
      "Finished training\n",
      "Evaluating\n",
      "Iteration 9 [k: 5, Rev@K = 1.7594, custom_metric = 1.0479, MRR = 0.1723, NDCG = 0.2204, loss = 3.2948\n",
      "---------End Epoch: 9---------\n",
      "End. Best Iteration = 7: Rev@K = 1.7334, custom_metric = 1.0384, MRR = 0.1728, NDCG = 0.2204\n"
     ]
    }
   ],
   "source": [
    "# ratings_random is simply a vector of ratings and random rating when no rating existing (values 1-5 inclusive === 1-6 exclusive)\n",
    "prices_np_random = prices_np.to_numpy()*np.array(ratings_random)\n",
    "\n",
    "# prices_np_random is a vector of the item price, multiplied by a (random) rating (values 1-5) for that item (movie)\n",
    "epoch_result_gmf_3 = train_eval_model(sample_weight=prices_np_random)\n",
    "\n",
    "with open('./drive/My Drive/RecSys/epoch_result_gmf_3.pkl', 'wb') as f:\n",
    "  pickle.dump(epoch_result_gmf_3, f)"
   ]
  },
  {
   "cell_type": "code",
   "execution_count": null,
   "metadata": {
    "colab": {
     "base_uri": "https://localhost:8080/"
    },
    "id": "eWMGKK1Fkwep",
    "outputId": "f1ce9402-4875-4a85-c2da-bef6ac7e9f57"
   },
   "outputs": [
    {
     "name": "stdout",
     "output_type": "stream",
     "text": [
      "(0, 0.17086092715231788, 0.21757426527710638, 1.7422185430463577, 1.0434132885806715, 3.338054656982422)\n",
      "(1, 0.16960264900662253, 0.21701757499326474, 1.7036423841059603, 1.0054610675809614, 3.320298910140991)\n",
      "(2, 0.1714900662251656, 0.21901202594291316, 1.7271523178807946, 1.0229587047077047, 3.3139777183532715)\n",
      "(3, 0.17083333333333336, 0.21761169784685647, 1.7066225165562914, 1.0137979760800577, 3.309157133102417)\n",
      "(4, 0.1709188741721854, 0.21902785250263093, 1.7357615894039735, 1.0294246253085255, 3.3061790466308594)\n",
      "(5, 0.1721412803532009, 0.21950948827758263, 1.7367549668874172, 1.039049056960776, 3.30281925201416)\n",
      "(6, 0.17052980132450332, 0.21764350131948462, 1.7364238410596027, 1.0371700800786712, 3.300384044647217)\n",
      "(7, 0.17278973509933773, 0.22043823939890597, 1.7334437086092715, 1.0384372748887496, 3.2981529235839844)\n",
      "(8, 0.17113962472406183, 0.21854686329045023, 1.7326158940397351, 1.0344745609376584, 3.296098232269287)\n",
      "(9, 0.17232064017660043, 0.22037553740202157, 1.7594370860927153, 1.0478713910623911, 3.2948055267333984)\n"
     ]
    }
   ],
   "source": [
    "# print results\r\n",
    "file_3 = open('./drive/My Drive/RecSys/epoch_result_gmf_3.pkl', 'rb')\r\n",
    "results_3 = pickle.load(file_3)\r\n",
    "for item in results_3:\r\n",
    "    print(item)"
   ]
  },
  {
   "cell_type": "markdown",
   "metadata": {
    "id": "m22IO0BiGRey"
   },
   "source": [
    "<br>\n",
    "- Present the comparison results, discuss the results and the trade-offs and optimize"
   ]
  },
  {
   "cell_type": "markdown",
   "metadata": {
    "id": "LUapku_pcPqG"
   },
   "source": [
    "**See the results after each run of \"train_eval_model\" above (3 times)**<br>\r\n",
    "\r\n",
    "We also plot the results below and then we discuss the results."
   ]
  },
  {
   "cell_type": "markdown",
   "metadata": {
    "id": "NdeZsdZqGRez"
   },
   "source": [
    "<br>\n",
    "- Verify and present that the learning is ‘healthy’ (no overfitting, no under-fitting and that the results make sense)"
   ]
  },
  {
   "cell_type": "markdown",
   "metadata": {
    "id": "81Xiw-lQiC7g"
   },
   "source": [
    "Each row in the pickle results files is of the format:<br>\r\n",
    "EPOCH_NUMBER, MRR_VALUE, NDCG_VALUE, REV_K_VALUE, CUSTOM_METRIC_VALUE, LOSS_VALUE<br>\r\n",
    "\r\n",
    "We read these files and plot them:"
   ]
  },
  {
   "cell_type": "code",
   "execution_count": null,
   "metadata": {
    "colab": {
     "base_uri": "https://localhost:8080/",
     "height": 1000
    },
    "id": "Tf9drDczTi5_",
    "outputId": "70b39aed-63dd-4672-adf1-11ae6ef60aea"
   },
   "outputs": [
    {
     "data": {
      "image/png": "[encoded data removed]",
      "text/plain": [
       "<Figure size 1200x800 with 1 Axes>"
      ]
     },
     "metadata": {
      "needs_background": "light",
      "tags": []
     },
     "output_type": "display_data"
    },
    {
     "data": {
      "image/png": "[encoded data removed]",
      "text/plain": [
       "<Figure size 1200x800 with 1 Axes>"
      ]
     },
     "metadata": {
      "needs_background": "light",
      "tags": []
     },
     "output_type": "display_data"
    },
    {
     "data": {
      "image/png": "[encoded data removed]",
      "text/plain": [
       "<Figure size 1200x800 with 1 Axes>"
      ]
     },
     "metadata": {
      "needs_background": "light",
      "tags": []
     },
     "output_type": "display_data"
    }
   ],
   "source": [
    "plt.rcParams['figure.figsize'] = [12, 8]\r\n",
    "plt.rcParams['figure.dpi'] = 100\r\n",
    "\r\n",
    "files = [('File 1: Original model', results_1), ('File 2: Weighted model', results_2), ('File 3: Random Ratings model', results_3)]\r\n",
    "display_df_list = []\r\n",
    "\r\n",
    "mrrs_all_algo = []\r\n",
    "ndcg_all_algo = []\r\n",
    "rev_k_all_algo = []\r\n",
    "custom_metric_all_algo = []\r\n",
    "loss_all_algo = []\r\n",
    "\r\n",
    "for (name, data) in files:\r\n",
    "    mrrs, ndcgs, rev_ks, custom_metrics, losses = [], [], [], [], []\r\n",
    "\r\n",
    "    for line in data:\r\n",
    "        mrrs.append(line[1])\r\n",
    "        ndcgs.append(line[2])\r\n",
    "        rev_ks.append(line[3])\r\n",
    "        custom_metrics.append(line[4])\r\n",
    "        losses.append(line[5])\r\n",
    "        epochs = list(range(len(mrrs)))\r\n",
    "        \r\n",
    "        mrrs_all_algo.append((name, mrrs))\r\n",
    "        ndcg_all_algo.append((name, ndcgs))\r\n",
    "        rev_k_all_algo.append((name, rev_ks))\r\n",
    "        custom_metric_all_algo.append((name, custom_metrics))\r\n",
    "        loss_all_algo.append((name, losses))  \r\n",
    "        \r\n",
    "        display_df = pd.DataFrame(list(zip(mrrs, ndcgs, rev_ks, custom_metrics, losses, epochs)), \r\n",
    "               columns =['mrrs', 'ndcgs', 'rev_ks', 'custom_metrics', 'losss', 'epochs'])\r\n",
    "        display_df_list.append((name,display_df))\r\n",
    "\r\n",
    "    fig = plt.figure()\r\n",
    "    fig.subplots_adjust(top=0.92, bottom=0.01, left=0.0010, right=0.95, hspace=0.5,\r\n",
    "                        wspace=0.5)\r\n",
    "\r\n",
    "    plt.plot(mrrs)\r\n",
    "    plt.plot(ndcgs)\r\n",
    "    plt.plot(rev_ks)\r\n",
    "    plt.plot(custom_metrics)\r\n",
    "    plt.plot(losses)\r\n",
    "    plt.title(name)\r\n",
    "    plt.xlabel('Epoch')\r\n",
    "    plt.ylabel('Value')\r\n",
    "    plt.legend([\"MRR\", \"NDCG\", \"REV@K\", \"CUSTOM\", \"LOSS\"], loc =\"upper right\")\r\n",
    "    plt.show()"
   ]
  },
  {
   "cell_type": "markdown",
   "metadata": {
    "id": "UEs30lo-Q68E"
   },
   "source": [
    "It seems like the MRR & NDCG values are not changing a lot for some reason...<br>\r\n",
    "We expect Revenue@K & Custom to have higher values, because we also muliply two terms there.<br>\r\n",
    "File 3 took much longer than the forst two - it probably has something to do with the ratings checks for each movie (and then provide a random rating for those missing)."
   ]
  },
  {
   "cell_type": "markdown",
   "metadata": {
    "id": "FAOJ4PNzGRez"
   },
   "source": [
    "***\n",
    "## Question 3: Hybrid recommender systems\n",
    "Cold start or users\\items with a small number of interactions is a very common scenario in real world. In this question you will plan how you can leverage content based features to handle the cold start scenario."
   ]
  },
  {
   "cell_type": "markdown",
   "metadata": {
    "id": "u7npijNaGRe0"
   },
   "source": [
    "A) Take a look at the original MovieLens 1M dataset. Which user and movie features could you use to enhance your recommender system and provide effective recommendations to users or items with a small number of ratings."
   ]
  },
  {
   "cell_type": "markdown",
   "metadata": {
    "id": "V59mJ_l-dmit"
   },
   "source": [
    "Looking at the 1M dataset, we see that:\r\n",
    "- The user data has the format of **UserID::Gender::Age::Occupation::Zip-code**\r\n",
    "- The movie data has the format of **MovieID::Title::Genres**\r\n",
    "\r\n",
    "We can utilize all of these to improve recommendations to cold-start users/movies:\r\n",
    "\r\n",
    "Intuitively and <u>generally speaking</u>, there are movies which are more for men and others which are more for women, so we can check the **user's gender** and recommend movies accordingly.<br>\r\n",
    "It can help us recommend popular \"women movies\" to female-users with a small number of ratings, and similarly for male-users.\r\n",
    "\r\n",
    "It can also work with the user's **age group**, such that young men are more likely to like \"Fast & Furious\" more than any other gender/age combination.\r\n",
    "\r\n",
    "**Occupation** is also a good common denominator and can be realate to a similar taste among users - looking at an artist user with many rating, we can deduce his/hers taste to recommend movies for a new artist user.\r\n",
    "\r\n",
    "**Zip-code** may be relevant to certain movies about a city/state.\r\n",
    "\r\n",
    "\r\n",
    "Looking at movies, taking into account the **movies' genres**, it DOESN'T MATTER if some are unpopular or even COMPLETELY NEW - these features are what's really matter and if you liked/disliked a similar-genres movie, the systems predicts your rating for this one easily, although it has only a small number of ratings."
   ]
  },
  {
   "cell_type": "markdown",
   "metadata": {
    "id": "cMWyt6NsGRe0"
   },
   "source": [
    "***\n",
    "\n",
    "B) Describe a neural network based model to incorporate user or movie related features to the recommender system. Explain your suggestion.<br>\n",
    "(There is no need to implement, provide pseudo code\\visual)"
   ]
  },
  {
   "cell_type": "markdown",
   "metadata": {
    "id": "_IZI_wKhud_n"
   },
   "source": [
    "![image.png](data:image/png;base64,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)"
   ]
  },
  {
   "cell_type": "markdown",
   "metadata": {
    "id": "2EcwotgN5XRs"
   },
   "source": [
    "We can simply pass an embedding of the user gender or age, just like we passed the embedding of the user and item IDs in section D. "
   ]
  },
  {
   "cell_type": "code",
   "execution_count": null,
   "metadata": {
    "id": "AST8Pf4j80x_"
   },
   "outputs": [],
   "source": [
    "# Pseudo code\r\n",
    "MF_Embedding_User_gender = Embedding(input_dim = num_users, output_dim = latent_dim, name = 'user_gender_embedding', \r\n",
    "                              embeddings_regularizer = l2(regs[0][0]), input_length=1,embeddings_initializer=RandomNormal(mean=0.0, stddev=0.01)) #init = init_normal,\r\n",
    "\r\n",
    "# Similarly we construct embeddings for the other features."
   ]
  },
  {
   "cell_type": "markdown",
   "metadata": {
    "id": "XK-rp3e-Yupr"
   },
   "source": [
    "***\r\n",
    "C) How will you incorporate movie genres into the recommender system? How will you handle movies which belong to multiple genres? Explain the challenge and the proposed solution (there is no need to implement, provide pseudo-code)."
   ]
  },
  {
   "cell_type": "markdown",
   "metadata": {
    "id": "S20oaMFHudR9"
   },
   "source": [
    "Each user (and item) has a representation in the embedded plan.<br>\r\n",
    "Here, the only difference with the other features is that it is not necessarily a 1-hot vector embeddding since a movie can be of a various of genres.<br>\r\n",
    "The obtained movie-genre embedding (can be seen as the latent vector fora movie) is in the form of [1 0 0 1 1 0 0 1] such that each '1' indicates a different genre (drama, comedy, romance, etc.)"
   ]
  }
 ],
 "metadata": {
  "colab": {
   "collapsed_sections": [],
   "name": "204502926",
   "provenance": []
  },
  "kernelspec": {
   "display_name": "Python 3",
   "language": "python",
   "name": "python3"
  },
  "language_info": {
   "codemirror_mode": {
    "name": "ipython",
    "version": 3
   },
   "file_extension": ".py",
   "mimetype": "text/x-python",
   "name": "python",
   "nbconvert_exporter": "python",
   "pygments_lexer": "ipython3",
   "version": "3.8.5"
  }
 },
 "nbformat": 4,
 "nbformat_minor": 4
}
